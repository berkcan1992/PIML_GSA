{
 "cells": [
  {
   "cell_type": "code",
   "execution_count": 99,
   "metadata": {},
   "outputs": [],
   "source": [
    "import pickle\n",
    "import numpy as np\n",
    "import matplotlib.pyplot as plt\n",
    "\n",
    "def load_obj(name):\n",
    "    with open(name, 'rb') as f:\n",
    "        return pickle.load(f)\n",
    "\n",
    "\n",
    "# pred_dnn = load_obj('../pred_dnn.dat')\n",
    "# pred_dnn_MC = load_obj('../pred_dnn_MC.dat')\n",
    "# pred_loss = load_obj('../pred_loss.dat')\n",
    "# pred_loss_MC = load_obj('../pred_loss_MC.dat')\n",
    "# pred_hyb = load_obj('../pred_hyb.dat')\n",
    "# pred_hyb_MC = load_obj('../pred_hyb_MC.dat')\n",
    "# pred_upd = load_obj('../pred_upd.dat')\n",
    "# pred_upd_MC = load_obj('../pred_upd_MC.dat')\n",
    "# pred_loss_hyb = load_obj('../pred_loss_hyb.dat')\n",
    "# pred_loss_hyb_MC = load_obj('../pred_loss_hyb_MC.dat')\n",
    "# pred_upd_loss = load_obj('../pred_upd_loss.dat')\n",
    "# pred_upd_loss_MC = load_obj('../pred_upd_loss_MC.dat')\n",
    "# pred_upd_hyb = load_obj('../pred_upd_hyb.dat')\n",
    "# pred_upd_hyb_MC = load_obj('../pred_upd_hyb_MC.dat')\n",
    "# pred_upd_loss_hyb = load_obj('../pred_upd_loss_hyb.dat')\n",
    "# pred_upd_loss_hyb_MC = load_obj('../pred_upd_loss_hyb_MC.dat')\n",
    "\n",
    "\n",
    "# pred_dnn = load_obj('../pred_dnn_Xx.dat')\n",
    "# pred_dnn_MC = load_obj('../pred_dnn_MC_Xx.dat')\n",
    "# pred_loss = load_obj('../pred_loss_Xx.dat')\n",
    "# pred_loss_MC = load_obj('../pred_loss_MC_Xx.dat')\n",
    "# pred_hyb = load_obj('../pred_hyb_Xx.dat')\n",
    "# pred_hyb_MC = load_obj('../pred_hyb_MC_Xx.dat')\n",
    "# pred_upd = load_obj('../pred_upd_Xx.dat')\n",
    "# pred_upd_MC = load_obj('../pred_upd_MC_Xx.dat')\n",
    "# pred_loss_hyb = load_obj('../pred_loss_hyb_Xx.dat')\n",
    "# pred_loss_hyb_MC = load_obj('../pred_loss_hyb_MC_Xx.dat')\n",
    "# pred_upd_loss = load_obj('../pred_upd_loss_Xx.dat')\n",
    "# pred_upd_loss_MC = load_obj('../pred_upd_loss_MC_Xx.dat')\n",
    "# pred_upd_hyb = load_obj('../pred_upd_hyb_Xx.dat')\n",
    "# pred_upd_hyb_MC = load_obj('../pred_upd_hyb_MC_Xx.dat')\n",
    "# pred_upd_loss_hyb = load_obj('../pred_upd_loss_hyb_Xx.dat')\n",
    "# pred_upd_loss_hyb_MC = load_obj('../pred_upd_loss_hyb_MC_Xx.dat')\n",
    "\n",
    "pred_dnn = load_obj('../pred_dnn_Xx1.dat')\n",
    "pred_dnn_MC = load_obj('../pred_dnn_MC_Xx1.dat')"
   ]
  },
  {
   "cell_type": "code",
   "execution_count": 100,
   "metadata": {},
   "outputs": [
    {
     "data": {
      "image/png": "[encoded data removed]",
      "text/plain": [
       "<Figure size 432x288 with 1 Axes>"
      ]
     },
     "metadata": {
      "needs_background": "light"
     },
     "output_type": "display_data"
    }
   ],
   "source": [
    "import matplotlib.pyplot as plt\n",
    "import matplotlib\n",
    "import os\n",
    "\n",
    "# # Adjust your matplotlib script by adding the following lines after import matplotlib\n",
    "# matplotlib.use(\"pdf\")\n",
    "# # matplotlib.use(\"pgf\")\n",
    "\n",
    "    \n",
    "# matplotlib.rcParams.update({\n",
    "#         \"pgf.texsystem\": \"pdflatex\",\n",
    "#         'font.family': 'serif',\n",
    "#         'text.usetex': True,\n",
    "#         'pgf.rcfonts': False,\n",
    "#     })\n",
    "# # add LaTeX on python path\n",
    "# user_name = os.getlogin()\n",
    "# os.environ[\"PATH\"] += os.pathsep + 'C:/Users/' + user_name + '/AppData/Local/Programs/MiKTeX 2.9/miktex/bin/x64'\n",
    "\n",
    "# #===========================     Using LaTeX compatible fonts      =============================== #\n",
    "# # use LaTeX fonts in the plot\n",
    "# plt.rc('text', usetex=True)\n",
    "# plt.rc('font', family='serif')\n",
    "    \n",
    "# get the figure\n",
    "fig, ax = plt.subplots()\n",
    "\n",
    "colors = [\"#1f77b4\", \"#ff7f0e\", \"#2ca02c\", \"#d62728\", \"#9467bd\", \"#8c564b\", \"#e377c2\", \"#7f7f7f\", \"#bcbd22\", \"#17becf\"]\n",
    "plt.plot(pred_dnn, pred_dnn_MC, 's', color=colors[0],  markersize=4)\n",
    "\n",
    "# plt.plot(pred_loss, pred_loss_MC, 's', color=colors[1],  markersize=4)\n",
    "# plt.plot(pred_hyb, pred_hyb_MC, 's', color=colors[2],  markersize=4)\n",
    "# plt.plot(pred_upd, pred_upd_MC, 's', color=colors[3],  markersize=4)\n",
    "\n",
    "plt.ylabel('Predictions with MC dropout', fontsize=22)\n",
    "plt.xlabel('Predictions without MC dropout', fontsize=22)\n",
    "plt.ylim((-0.05, 0.3))\n",
    "plt.xlim((-0.05, 0.3))\n",
    "ax.plot([-0.01,1],[-0.01,1], transform=ax.transAxes, color='k')\n",
    "plt.legend(['DNN', 'DNN$^{\\mathcal{L}_{\\mathrm{phy}}}$', 'DNN$^{\\mathrm{hyb}}$', 'DNN$^{\\mathrm{upd}}$'], loc='best', fontsize=12)\n",
    "plt.tick_params(labelsize=20)\n",
    "plt.show()\n",
    "\n",
    "# filename = '../figs/wMCdropout_vs_woutMCdropout_1_Xx'\n",
    "\n",
    "# # save as PDF\n",
    "# fig.savefig(\"{}.pdf\".format(filename), bbox_inches='tight', dpi=300)"
   ]
  },
  {
   "cell_type": "code",
   "execution_count": 4,
   "metadata": {},
   "outputs": [
    {
     "name": "stderr",
     "output_type": "stream",
     "text": [
      "C:\\Users\\berkc\\Miniconda3\\envs\\pytR-Keras\\lib\\site-packages\\ipykernel_launcher.py:43: UserWarning: Matplotlib is currently using pdf, which is a non-GUI backend, so cannot show the figure.\n"
     ]
    }
   ],
   "source": [
    "import matplotlib.pyplot as plt\n",
    "import matplotlib\n",
    "import os\n",
    "\n",
    "# Adjust your matplotlib script by adding the following lines after import matplotlib\n",
    "matplotlib.use(\"pdf\")\n",
    "# matplotlib.use(\"pgf\")\n",
    "\n",
    "    \n",
    "matplotlib.rcParams.update({\n",
    "        \"pgf.texsystem\": \"pdflatex\",\n",
    "        'font.family': 'serif',\n",
    "        'text.usetex': True,\n",
    "        'pgf.rcfonts': False,\n",
    "    })\n",
    "# add LaTeX on python path\n",
    "user_name = os.getlogin()\n",
    "os.environ[\"PATH\"] += os.pathsep + 'C:/Users/' + user_name + '/AppData/Local/Programs/MiKTeX 2.9/miktex/bin/x64'\n",
    "\n",
    "#===========================     Using LaTeX compatible fonts      =============================== #\n",
    "# use LaTeX fonts in the plot\n",
    "plt.rc('text', usetex=True)\n",
    "plt.rc('font', family='serif')    \n",
    "    \n",
    "# get the figure\n",
    "fig, ax = plt.subplots()\n",
    "\n",
    "colors = [\"#1f77b4\", \"#ff7f0e\", \"#2ca02c\", \"#d62728\", \"#9467bd\", \"#8c564b\", \"#e377c2\", \"#7f7f7f\", \"#bcbd22\", \"#17becf\"]\n",
    "\n",
    "plt.plot(pred_loss_hyb, pred_loss_hyb_MC, 's', color=colors[4],  markersize=4)\n",
    "plt.plot(pred_upd_hyb, pred_upd_hyb_MC, 's', color=colors[5],  markersize=4)\n",
    "plt.plot(pred_upd_loss, pred_upd_loss_MC, 's', color=colors[6],  markersize=4)\n",
    "\n",
    "plt.plot(pred_upd_loss_hyb, pred_upd_loss_hyb_MC, 's', color=colors[7],  markersize=4)\n",
    "\n",
    "plt.ylabel('Predictions with MC dropout', fontsize=22)\n",
    "plt.xlabel('Predictions without MC dropout', fontsize=22)\n",
    "plt.ylim((-0.05, 0.2))\n",
    "plt.xlim((-0.05, 0.2))\n",
    "ax.plot([-0.01,1],[-0.01,1], transform=ax.transAxes, color='k')\n",
    "plt.legend(['DNN$^{\\mathrm{hyb}, \\mathcal{L}_{\\mathrm{phy}}}$', 'DNN$^{\\mathrm{upd, hyb}}$', 'DNN$^{\\mathrm{upd}, \\mathcal{L}_{\\mathrm{phy}}}$', 'DNN$^{\\mathrm{upd, hyb}, \\mathcal{L}_{\\mathrm{phy}}}$'], loc='best', fontsize=12)\n",
    "plt.tick_params(labelsize=20)\n",
    "plt.show()\n",
    "\n",
    "filename = '../figs/wMCdropout_vs_woutMCdropout_2_Xx'\n",
    "\n",
    "# save as PDF\n",
    "fig.savefig(\"{}.pdf\".format(filename), bbox_inches='tight', dpi=300)"
   ]
  },
  {
   "cell_type": "code",
   "execution_count": null,
   "metadata": {},
   "outputs": [],
   "source": []
  }
 ],
 "metadata": {
  "kernelspec": {
   "display_name": "Python 3",
   "language": "python",
   "name": "python3"
  },
  "language_info": {
   "codemirror_mode": {
    "name": "ipython",
    "version": 3
   },
   "file_extension": ".py",
   "mimetype": "text/x-python",
   "name": "python",
   "nbconvert_exporter": "python",
   "pygments_lexer": "ipython3",
   "version": "3.6.10"
  }
 },
 "nbformat": 4,
 "nbformat_minor": 4
}
