{
 "cells": [
  {
   "cell_type": "code",
   "execution_count": 64,
   "metadata": {},
   "outputs": [],
   "source": [
    "import pandas as pd\n",
    "import matplotlib.pyplot as plt\n",
    "from mpl_toolkits import mplot3d\n",
    "import numpy as np\n",
    "import torch\n",
    "import torch.nn as nn\n",
    "import torch.nn.functional as F\n",
    "from torch.autograd import Variable\n",
    "\n",
    "# Normalize the data.\n",
    "from sklearn import preprocessing\n",
    "from sklearn.model_selection import KFold\n",
    "\n",
    "# Reproducable results\n",
    "def set_seed(seed):\n",
    "    torch.backends.cudnn.deterministic = True\n",
    "    torch.backends.cudnn.benchmark = False\n",
    "    torch.manual_seed(seed)\n",
    "    torch.cuda.manual_seed_all(seed)\n",
    "    np.random.seed(seed)\n",
    "    import random\n",
    "    random.seed(seed)"
   ]
  },
  {
   "cell_type": "markdown",
   "metadata": {},
   "source": [
    "Define functions to normalize and de-normalize the data"
   ]
  },
  {
   "cell_type": "code",
   "execution_count": 65,
   "metadata": {},
   "outputs": [],
   "source": [
    "# Load labeled data\n",
    "data = np.loadtxt('C:/Users/berkc/git/Physics-Informed-Machine-Learning/data/labeled_data.dat')\n",
    "\n",
    "x_exp = data[:, :2]\n",
    "y_exp = data[:, -2]\n",
    "y_exp = y_exp[:, np.newaxis]"
   ]
  },
  {
   "cell_type": "markdown",
   "metadata": {},
   "source": [
    "Load the data by calling the function we defined above:"
   ]
  },
  {
   "cell_type": "code",
   "execution_count": 66,
   "metadata": {},
   "outputs": [],
   "source": [
    "# normalize dataset with MinMaxScaler\n",
    "scaler1 = preprocessing.MinMaxScaler(feature_range=(0, 1.0))\n",
    "scaler2 = preprocessing.MinMaxScaler(feature_range=(0, 1.0))\n",
    "inp = scaler1.fit_transform(x_exp)\n",
    "out = scaler2.fit_transform(y_exp)\n",
    "\n",
    "# stack input and output data\n",
    "data = np.column_stack((inp,out))\n",
    "\n",
    "batch_size = 5"
   ]
  },
  {
   "cell_type": "markdown",
   "metadata": {},
   "source": [
    "Define functions and classes for the BNN:"
   ]
  },
  {
   "cell_type": "code",
   "execution_count": 67,
   "metadata": {},
   "outputs": [],
   "source": [
    "def to_variable(var=(), cuda=False, volatile=False):\n",
    "    out = []\n",
    "    for v in var:\n",
    "\n",
    "        if isinstance(v, np.ndarray):\n",
    "            v = torch.from_numpy(v).type(torch.FloatTensor)\n",
    "\n",
    "        # if not v.is_cuda and cuda:\n",
    "        #     v = v.cuda()\n",
    "\n",
    "        if not isinstance(v, Variable):\n",
    "            v = Variable(v, volatile=volatile)\n",
    "\n",
    "        out.append(v)\n",
    "    return out\n",
    "\n",
    "\n",
    "class MC_Dropout_Model(nn.Module):\n",
    "    def __init__(self, input_dim, output_dim, num_units, drop_prob):\n",
    "        super(MC_Dropout_Model, self).__init__()\n",
    "\n",
    "        self.input_dim = input_dim\n",
    "        self.output_dim = output_dim\n",
    "        self.drop_prob = drop_prob\n",
    "\n",
    "        # network with two hidden and one output layer\n",
    "        self.layer1 = nn.Linear(input_dim, num_units)\n",
    "        self.layer2 = nn.Linear(num_units, num_units)\n",
    "        self.layer3 = nn.Linear(num_units, output_dim)\n",
    "\n",
    "        self.activation = nn.ReLU(inplace=True)\n",
    "\n",
    "    def forward(self, x):\n",
    "        x = x.view(-1, self.input_dim)\n",
    "\n",
    "        x = self.layer1(x)\n",
    "        x = self.activation(x)\n",
    "\n",
    "        x = self.layer2(x)\n",
    "        x = self.activation(x)\n",
    "\n",
    "        x = self.layer3(x)\n",
    "\n",
    "        return x\n",
    "\n",
    "\n",
    "class MC_Dropout_Wrapper:\n",
    "    def __init__(self, network, learn_rate, batch_size, weight_decay):\n",
    "        self.learn_rate = learn_rate\n",
    "        self.batch_size = batch_size\n",
    "\n",
    "        self.network = network\n",
    "        # self.network.cuda()\n",
    "\n",
    "#         self.optimizer = torch.optim.SGD(self.network.parameters(), lr=learn_rate, weight_decay=weight_decay)\n",
    "        self.optimizer = torch.optim.Adam(self.network.parameters(), lr=learn_rate, weight_decay=weight_decay)\n",
    "        self.loss_func = nn.MSELoss()\n",
    "\n",
    "    def fit(self, x, y):\n",
    "        x, y = to_variable(var=(x, y), cuda=True)\n",
    "\n",
    "        # reset gradient and total loss\n",
    "        self.optimizer.zero_grad()\n",
    "\n",
    "        output = self.network(x)\n",
    "        loss = self.loss_func(output, y)\n",
    "        loss.backward()\n",
    "        self.optimizer.step()\n",
    "\n",
    "        return loss\n",
    "\n",
    "    def get_loss_and_rmse(self, x, y, num_samples):\n",
    "        x, y = to_variable(var=(x, y), cuda=True)\n",
    "\n",
    "        means, stds = [], []\n",
    "        for i in range(num_samples):\n",
    "            output = self.network(x)\n",
    "            means.append(output)\n",
    "\n",
    "        means = torch.cat(means, dim=1)\n",
    "        mean = means.mean(dim=-1)[:, None]\n",
    "        loss = self.loss_func(mean, y)\n",
    "        rmse = ((mean - y) ** 2).mean() ** 0.5\n",
    "\n",
    "        return loss.detach().cpu(), rmse.detach().cpu()\n"
   ]
  },
  {
   "cell_type": "markdown",
   "metadata": {},
   "source": [
    "Define the function that fits the BNN and shuffles the data and use some for testing."
   ]
  },
  {
   "cell_type": "code",
   "execution_count": 77,
   "metadata": {},
   "outputs": [],
   "source": [
    "def train_mc_dropout(data, drop_prob, ratio_train_data, num_epochs, num_units, learn_rate, weight_decay, log_every,\n",
    "                     num_samples):\n",
    "\n",
    "    in_dim = data.shape[1] - 1\n",
    "    train_logliks, test_logliks = [], []\n",
    "    train_rmses, test_rmses = [], []\n",
    "\n",
    "    history_loss, history_loss_test, history_rmse, history_rmse_test = [], [], [], []\n",
    "\n",
    "    # -------------------------------------------------------------------------\n",
    "    #               Random Permutation of Training Data\n",
    "    # -------------------------------------------------------------------------\n",
    "    nl = data.shape[0]  # size of training data\n",
    "\n",
    "    # randomly select RatioToBeUsed to be training set for GP model\n",
    "    num_train = round(ratio_train_data * nl)\n",
    "#     idx_ = np.random.permutation(nl)\n",
    "    idx_ = np.arange(nl)  # do not do random permutation\n",
    "\n",
    "    # Use the first RatioToBeUsed to train the model\n",
    "    idx_train = idx_[0:num_train]\n",
    "\n",
    "    x_train, y_train = data[idx_train, :in_dim], data[idx_train, in_dim:]\n",
    "\n",
    "    # The (1-RatioToBeUsed) will be used to test the model\n",
    "    idx_test = idx_[(num_train + 1):]\n",
    "    x_test, y_test = data[idx_test, :in_dim], data[idx_test, in_dim:]\n",
    "\n",
    "    y_means, y_stds = y_train.mean(axis=0), y_train.var(axis=0) ** 0.5\n",
    "\n",
    "    net = MC_Dropout_Wrapper(\n",
    "            network=MC_Dropout_Model(input_dim=in_dim, output_dim=1, num_units=num_units, drop_prob=drop_prob),\n",
    "            learn_rate=learn_rate, batch_size=batch_size, weight_decay=weight_decay)\n",
    "\n",
    "    for i in range(num_epochs):\n",
    "\n",
    "        loss = net.fit(x_train, y_train)\n",
    "\n",
    "        tt, rmse_train = net.get_loss_and_rmse(x_train, y_train, num_samples=num_samples)\n",
    "        rmse_train = rmse_train.cpu().data.numpy()\n",
    "\n",
    "        test_loss, rmse_test = net.get_loss_and_rmse(x_test, y_test, num_samples=num_samples)\n",
    "        test_loss, rmse_test = test_loss.cpu().data.numpy(), rmse_test.cpu().data.numpy()\n",
    "\n",
    "        history_loss.append(loss.cpu().data.numpy() )\n",
    "        history_loss_test.append(test_loss )\n",
    "        history_rmse.append(rmse_train )\n",
    "        history_rmse_test.append(rmse_test )\n",
    "\n",
    "        if i % log_every == 0 or i == num_epochs - 1:\n",
    "            test_loss, rmse = net.get_loss_and_rmse(x_test, y_test, num_samples=num_samples)\n",
    "            test_loss, rmse = test_loss.cpu().data.numpy(), rmse.cpu().data.numpy()\n",
    "\n",
    "            print('Epoch: %4d, Train loss: %6.3f Test loss: %6.3f RMSE: %.3f' %\n",
    "                    (i, loss.cpu().data.numpy() , test_loss , rmse ))\n",
    "\n",
    "    train_loss, train_rmse = net.get_loss_and_rmse(x_train, y_train, num_samples=num_samples)\n",
    "    test_loss, test_rmse = net.get_loss_and_rmse(x_test, y_test, num_samples=num_samples)\n",
    "\n",
    "    train_logliks.append((train_loss.cpu().data.numpy()  + np.log(y_stds)[0]))\n",
    "    test_logliks.append((test_loss.cpu().data.numpy()  + np.log(y_stds)[0]))\n",
    "\n",
    "    train_rmses.append(train_rmse.cpu().data.numpy())\n",
    "    test_rmses.append(test_rmse.cpu().data.numpy())\n",
    "\n",
    "    plt.figure()\n",
    "    # plot history of accuracy\n",
    "    # Plot training & validation accuracy values\n",
    "    plt.plot(history_rmse)\n",
    "    plt.plot(history_rmse_test)\n",
    "    plt.title('Model accuracy')\n",
    "    plt.ylabel('RMSE')\n",
    "    plt.xlabel('Epoch')\n",
    "    plt.legend(['Train', 'Test'], loc='upper left')\n",
    "    plt.show()\n",
    "\n",
    "    plt.figure()\n",
    "    # Plot training & validation loss values\n",
    "    plt.plot(history_loss)\n",
    "    plt.plot(history_loss_test)\n",
    "    plt.title('Model loss')\n",
    "    plt.ylabel('Loss')\n",
    "    plt.xlabel('Epoch')\n",
    "    plt.legend(['Train', 'Test'], loc='upper left')\n",
    "    plt.show()\n",
    "\n",
    "    print('Train log. lik. = %6.3f +/- %6.3f' % (-np.array(train_logliks).mean(), np.array(train_logliks).var() ** 0.5))\n",
    "    print('Test  log. lik. = %6.3f +/- %6.3f' % (-np.array(test_logliks).mean(), np.array(test_logliks).var() ** 0.5))\n",
    "    print('Train RMSE      = %6.3f +/- %6.3f' % (np.array(train_rmses).mean(), np.array(train_rmses).var() ** 0.5))\n",
    "    print('Test  RMSE      = %6.3f +/- %6.3f' % (np.array(test_rmses).mean(), np.array(test_rmses).var() ** 0.5))\n",
    "\n",
    "    return net, x_test, y_test"
   ]
  },
  {
   "cell_type": "code",
   "execution_count": 78,
   "metadata": {},
   "outputs": [],
   "source": [
    "def train_mc_dropout_Kfold(data, drop_prob, n_splits, num_epochs, num_units, learn_rate, weight_decay, log_every,\n",
    "                           num_samples, plot_history=False):\n",
    "    \n",
    "    kf = KFold(n_splits=n_splits, shuffle=False)\n",
    "    in_dim = data.shape[1] - 1\n",
    "    train_logliks, test_logliks = [], []\n",
    "    train_rmses, test_rmses = [], []\n",
    "\n",
    "    if plot_history == True:\n",
    "        avg_history_loss, avg_history_loss_test, avg_history_rmse, avg_history_rmse_test = [], [], [], []\n",
    "\n",
    "    # # random shuffle data\n",
    "    # np.random.shuffle(data)\n",
    "\n",
    "    for j, idx in enumerate(kf.split(data)):\n",
    "        \n",
    "        if plot_history == True:\n",
    "            history_loss, history_loss_test, history_rmse, history_rmse_test = [], [], [], []\n",
    "        \n",
    "        print('FOLD %d:' % j)\n",
    "        \n",
    "        train_index, test_index = idx\n",
    "\n",
    "        x_train, y_train = data[train_index, :in_dim], data[train_index, in_dim:]\n",
    "        x_test, y_test = data[test_index, :in_dim], data[test_index, in_dim:]\n",
    "        print(x_train.shape, x_test.shape)\n",
    "\n",
    "        # x_means, x_stds = x_train.mean(axis=0), x_train.var(axis=0) ** 0.5\n",
    "        # y_means, y_stds = y_train.mean(axis=0), y_train.var(axis=0) ** 0.5\n",
    "\n",
    "        net = MC_Dropout_Wrapper(\n",
    "            network=MC_Dropout_Model(input_dim=in_dim, output_dim=1, num_units=num_units, drop_prob=drop_prob),\n",
    "            learn_rate=learn_rate, batch_size=batch_size, weight_decay=weight_decay)\n",
    "\n",
    "        # losses = []\n",
    "        # fit_loss_train = np.zeros(num_epochs)\n",
    "\n",
    "        for i in range(num_epochs):\n",
    "            loss = net.fit(x_train, y_train)\n",
    "\n",
    "            if plot_history == True:\n",
    "                # to save loss & rmse at every epoch\n",
    "                train_loss, rmse_train = net.get_loss_and_rmse(x_train, y_train, num_samples=num_samples)\n",
    "                rmse_train = rmse_train.cpu().data.numpy()\n",
    "\n",
    "                test_loss, rmse_test = net.get_loss_and_rmse(x_test, y_test, num_samples=num_samples)\n",
    "                test_loss, rmse_test = test_loss.cpu().data.numpy(), rmse_test.cpu().data.numpy()\n",
    "\n",
    "#                 history_loss.append(loss.cpu().data.numpy() / len(x_train))\n",
    "#                 history_loss_test.append(test_loss / len(x_test))\n",
    "                history_loss.append(loss.cpu().data.numpy() )\n",
    "                history_loss_test.append(test_loss )\n",
    "                history_rmse.append(rmse_train)\n",
    "                history_rmse_test.append(rmse_test)\n",
    "\n",
    "            if i % log_every == 0 or i == num_epochs - 1:\n",
    "                train_loss, train_rmse = net.get_loss_and_rmse(x_train, y_train, num_samples=num_samples)\n",
    "                train_loss, train_rmse = train_loss.cpu().data.numpy(), train_rmse.cpu().data.numpy()\n",
    "\n",
    "                test_loss, test_rmse = net.get_loss_and_rmse(x_test, y_test, num_samples=num_samples)\n",
    "                test_loss, test_rmse = test_loss.cpu().data.numpy(), test_rmse.cpu().data.numpy()\n",
    "\n",
    "\n",
    "                print('Epoch: %4d, Train loss: %6.5f Test loss: %6.5f Train RMSE: %.5f Test RMSE: %.5f' %\n",
    "                      (i, loss.cpu().data.numpy(), test_loss, train_rmse, test_rmse))\n",
    "        if plot_history == True:\n",
    "            avg_history_loss.append(history_loss)\n",
    "            avg_history_loss_test.append(history_loss_test)\n",
    "            avg_history_rmse.append(history_rmse)\n",
    "            avg_history_rmse_test.append(history_rmse_test)\n",
    "\n",
    "        train_loss, train_rmse = net.get_loss_and_rmse(x_train, y_train, num_samples=num_samples)\n",
    "        test_loss, test_rmse = net.get_loss_and_rmse(x_test, y_test, num_samples=num_samples)\n",
    "\n",
    "        train_logliks.append(train_loss.cpu().data.numpy() / len(x_train) )\n",
    "        test_logliks.append(test_loss.cpu().data.numpy() / len(x_test) )\n",
    "\n",
    "        train_rmses.append(train_rmse.cpu().data.numpy())\n",
    "        test_rmses.append(test_rmse.cpu().data.numpy())\n",
    "\n",
    "    if plot_history == True:\n",
    "        # Save plots\n",
    "        legends = ['Train', 'Test']\n",
    "        format = True  # true for pdf, false for pgf\n",
    "        file_name1 = 'Epoch_vs_Loss'\n",
    "        file_name2 = 'Epoch_vs_RMSE'\n",
    "\n",
    "        avg_history_loss = np.array(avg_history_loss).mean(axis=0)\n",
    "        avg_history_loss_test = np.array(avg_history_loss_test).mean(axis=0)\n",
    "        avg_history_rmse = np.array(avg_history_rmse).mean(axis=0)\n",
    "        avg_history_rmse_test = np.array(avg_history_rmse_test).mean(axis=0)\n",
    "\n",
    "        labels = ['Epoch', 'Loss']\n",
    "\n",
    "        x1, y1 = list(range(1, avg_history_loss.shape[0]+1)), avg_history_loss\n",
    "        x2, y2 = list(range(1, avg_history_loss_test.shape[0] + 1)), avg_history_loss_test\n",
    "        sF.save_plot(x1, y1, labels, legends, format, file_name1, x2, y2)\n",
    "\n",
    "        x3, y3 = list(range(1, avg_history_rmse.shape[0] + 1)), avg_history_rmse\n",
    "        x4, y4 = list(range(1, avg_history_rmse_test.shape[0] + 1)), avg_history_rmse_test\n",
    "        sF.save_plot(x3, y3, labels, legends, format, file_name2, x4, y4)\n",
    "        \n",
    "    print('Train log. lik. = %6.5f +/- %6.5f' % (-np.array(train_logliks).mean(), np.array(train_logliks).var() ** 0.5))\n",
    "    print('Test  log. lik. = %6.5f +/- %6.5f' % (-np.array(test_logliks).mean(), np.array(test_logliks).var() ** 0.5))\n",
    "    print('Train RMSE      = %6.5f +/- %6.5f' % (np.array(train_rmses).mean(), np.array(train_rmses).var() ** 0.5))\n",
    "    print('Test  RMSE      = %6.5f +/- %6.5f' % (np.array(test_rmses).mean(), np.array(test_rmses).var() ** 0.5))\n",
    "\n",
    "    return net, x_test, y_test"
   ]
  },
  {
   "cell_type": "markdown",
   "metadata": {},
   "source": [
    "Call the function to build the network"
   ]
  },
  {
   "cell_type": "code",
   "execution_count": 79,
   "metadata": {},
   "outputs": [
    {
     "name": "stdout",
     "output_type": "stream",
     "text": [
      "Epoch:    0, Train loss:  0.490 Test loss:  0.390 RMSE: 0.624\n",
      "Epoch:  100, Train loss:  0.012 Test loss:  0.027 RMSE: 0.163\n",
      "Epoch:  200, Train loss:  0.005 Test loss:  0.015 RMSE: 0.123\n",
      "Epoch:  300, Train loss:  0.004 Test loss:  0.014 RMSE: 0.120\n",
      "Epoch:  400, Train loss:  0.001 Test loss:  0.012 RMSE: 0.109\n",
      "Epoch:  499, Train loss:  0.000 Test loss:  0.012 RMSE: 0.108\n"
     ]
    },
    {
     "data": {
      "image/png": "[encoded data removed]",
      "text/plain": [
       "<Figure size 640x480 with 1 Axes>"
      ]
     },
     "metadata": {},
     "output_type": "display_data"
    },
    {
     "data": {
      "image/png": "[encoded data removed]",
      "text/plain": [
       "<Figure size 640x480 with 1 Axes>"
      ]
     },
     "metadata": {},
     "output_type": "display_data"
    },
    {
     "name": "stdout",
     "output_type": "stream",
     "text": [
      "Train log. lik. =  1.659 +/-  0.000\n",
      "Test  log. lik. =  1.648 +/-  0.000\n",
      "Train RMSE      =  0.020 +/-  0.000\n",
      "Test  RMSE      =  0.108 +/-  0.000\n"
     ]
    }
   ],
   "source": [
    "seed = 1\n",
    "set_seed(seed)\n",
    "\n",
    "nobs = 5\n",
    "\n",
    "# Parameters\n",
    "wght_decay, p_drop, learn_rate = 1e-3, 0, 5e-3\n",
    "train_data_ratio, nb_units, nb_epochs = nobs/data.shape[0], 5, 500\n",
    "\n",
    "net, x_tst, y_tst = train_mc_dropout(data=data, drop_prob=p_drop, num_epochs=nb_epochs, \n",
    "                                     ratio_train_data=train_data_ratio, num_units=nb_units, learn_rate=learn_rate, \n",
    "                                     weight_decay=wght_decay, num_samples=1, log_every=100)\n",
    "\n",
    "\n",
    "# plot_history = False # plot loss and rmse vs epochs if True\n",
    "# data_train = data[:nobs,:]\n",
    "\n",
    "# # Build the network, K-fold\n",
    "# net, x_tst, y_tst = train_mc_dropout_Kfold(data=data_train, drop_prob=p_drop, num_epochs=nb_epochs,\n",
    "#                                            n_splits=3, num_units=nb_units,\n",
    "#                                            learn_rate=learn_rate,\n",
    "#                                            weight_decay=wght_decay, num_samples=10, log_every=100, plot_history=plot_history)"
   ]
  },
  {
   "cell_type": "code",
   "execution_count": 80,
   "metadata": {},
   "outputs": [
    {
     "data": {
      "text/plain": [
       "array([[0.18      , 0.25806452],\n",
       "       [0.58      , 0.32903226],\n",
       "       [0.26      , 0.4516129 ],\n",
       "       [0.58      , 0.69677419],\n",
       "       [0.74      , 0.70967742],\n",
       "       [0.6       , 0.87096774],\n",
       "       [0.9       , 1.        ],\n",
       "       [0.58      , 0.57419355],\n",
       "       [0.84      , 0.19354839],\n",
       "       [0.6       , 0.87096774],\n",
       "       [0.74      , 0.70967742],\n",
       "       [0.6       , 0.87096774],\n",
       "       [0.58      , 0.4516129 ],\n",
       "       [0.58      , 0.81935484],\n",
       "       [0.986     , 0.71612903],\n",
       "       [0.986     , 0.71612903],\n",
       "       [0.        , 0.41935484],\n",
       "       [0.48      , 0.61290323],\n",
       "       [1.        , 0.64516129],\n",
       "       [0.32      , 0.11612903],\n",
       "       [0.6       , 0.        ],\n",
       "       [0.48      , 0.61290323],\n",
       "       [0.18      , 0.25806452],\n",
       "       [0.64      , 0.35483871],\n",
       "       [1.        , 0.64516129],\n",
       "       [0.26      , 0.4516129 ],\n",
       "       [0.74      , 0.70967742],\n",
       "       [0.9       , 1.        ],\n",
       "       [0.84      , 0.19354839],\n",
       "       [0.32      , 0.11612903],\n",
       "       [0.8       , 0.        ],\n",
       "       [0.986     , 0.71612903],\n",
       "       [0.98      , 0.90322581]])"
      ]
     },
     "execution_count": 80,
     "metadata": {},
     "output_type": "execute_result"
    }
   ],
   "source": [
    "x_tst"
   ]
  },
  {
   "cell_type": "markdown",
   "metadata": {},
   "source": [
    "Test the model using the unique temperature values of the test data and plot the predictions with both epistemic and aleatoric uncertainty. The epistemic uncertainty is obtained by running the BNN (MC dropout) several times."
   ]
  },
  {
   "cell_type": "code",
   "execution_count": 25,
   "metadata": {},
   "outputs": [],
   "source": [
    "# #--------------------------------------#\n",
    "# # sobol samples & candidate points\n",
    "# #--------------------------------------#\n",
    "# n = 100\n",
    "# d = x_exp.shape[1] # dimension of input\n",
    "\n",
    "# # intialise data of lists.\n",
    "# X1 = pd.DataFrame(np.random.uniform(0,1,size=(n,d)), columns=['X1', 'X2'])\n",
    "# X2 = pd.DataFrame(np.random.uniform(0,1,size=(n,d)), columns=['X1', 'X2'])\n",
    "# candidate = pd.DataFrame(np.random.uniform(0,1,size=(10,d)), columns=['X1', 'X2'])"
   ]
  },
  {
   "cell_type": "code",
   "execution_count": 71,
   "metadata": {},
   "outputs": [],
   "source": [
    "# X1_np = X1.to_numpy()\n",
    "# X2_np = X2.to_numpy()\n",
    "# candidate_np = candidate.to_numpy()\n",
    "# inp_sim = np.vstack((X1_np,X2_np,candidate_np))"
   ]
  },
  {
   "cell_type": "code",
   "execution_count": 81,
   "metadata": {},
   "outputs": [
    {
     "name": "stdout",
     "output_type": "stream",
     "text": [
      "Aleatoric uncertainty mean: nan, Epistemic uncertainty mean: 0.2412, Total uncertainty mean: nan\n",
      "Aleatoric uncertainty std: nan, Epistemic uncertainty std: 0.0000, Total uncertainty std: nan\n"
     ]
    },
    {
     "name": "stderr",
     "output_type": "stream",
     "text": [
      "C:\\Users\\berkc\\Miniconda3\\envs\\pytR_BNN\\lib\\site-packages\\ipykernel_launcher.py:23: RuntimeWarning: Mean of empty slice.\n",
      "C:\\Users\\berkc\\Miniconda3\\envs\\pytR_BNN\\lib\\site-packages\\numpy\\core\\_methods.py:161: RuntimeWarning: invalid value encountered in double_scalars\n",
      "  ret = ret.dtype.type(ret / rcount)\n"
     ]
    }
   ],
   "source": [
    "# Get a tuple of unique values & their first index location from a numpy array\n",
    "uniqueValues, indicesList = np.unique(x_tst[:,0], return_index=True)\n",
    "x_tst = x_tst[indicesList]\n",
    "\n",
    "# Only use the selected unique test data\n",
    "y_tst = y_tst[indicesList]\n",
    "\n",
    "x_pred = torch.tensor(x_tst.astype(np.float32)) # convert to torch tensor\n",
    "# x_pred = torch.tensor(inp_sim.astype(np.float32)) # convert to torch tensor\n",
    "\n",
    "samples = []\n",
    "noises = []\n",
    "for i in range(1):\n",
    "    preds = net.network.forward(x_pred).cpu().data.numpy()\n",
    "    samples.append(preds[:,np.newaxis])\n",
    "#     noises.append(preds[:,1][:,np.newaxis])\n",
    "\n",
    "samples = np.array(samples)\n",
    "samples = np.squeeze(samples)\n",
    "noises = np.exp(noises)\n",
    "means = (samples.mean(axis=0)).reshape(-1)\n",
    "\n",
    "aleatoric = (noises ** 2).mean(axis=0) ** 0.5\n",
    "epistemic = (samples.var(axis=0) ** 0.5).reshape(-1)\n",
    "total_unc = (aleatoric ** 2 + epistemic ** 2) ** 0.5\n",
    "\n",
    "print(\"Aleatoric uncertainty mean: {0:.4f}, Epistemic uncertainty mean: {1:.4f}, Total uncertainty mean: {2:.4f}\"\n",
    "      .format(aleatoric.mean(), epistemic.mean(), total_unc.mean()))\n",
    "print(\"Aleatoric uncertainty std: {0:.4f}, Epistemic uncertainty std: {1:.4f}, Total uncertainty std: {2:.4f}\"\n",
    "      .format(aleatoric.std(), epistemic.std(), total_unc.std()))"
   ]
  },
  {
   "cell_type": "code",
   "execution_count": 93,
   "metadata": {},
   "outputs": [
    {
     "data": {
      "text/plain": [
       "(15,)"
      ]
     },
     "execution_count": 93,
     "metadata": {},
     "output_type": "execute_result"
    }
   ],
   "source": [
    "samples.shape\n",
    "# np.savetxt('mean1.out', samples, delimiter=',')   # X is an array"
   ]
  },
  {
   "cell_type": "markdown",
   "metadata": {},
   "source": [
    "Plot predictions with predictive mean and variance"
   ]
  },
  {
   "cell_type": "code",
   "execution_count": 87,
   "metadata": {},
   "outputs": [
    {
     "data": {
      "image/png": "[encoded data removed]",
      "text/plain": [
       "<Figure size 600x500 with 1 Axes>"
      ]
     },
     "metadata": {},
     "output_type": "display_data"
    }
   ],
   "source": [
    "c = ['#1f77b4', '#ff7f0e', '#2ca02c', '#d62728', '#9467bd',\n",
    "     '#8c564b', '#e377c2', '#7f7f7f', '#bcbd22', '#17becf']\n",
    "\n",
    "# denormalize test data\n",
    "# x_tst = denormalize_max_min(x_tst, max_x, min_x)\n",
    "# y_tst = denormalize_max_min(y_tst, max_y, min_y)\n",
    "\n",
    "# PLOT FIGURES\n",
    "plt.figure(figsize=(6, 5))\n",
    "plt.style.use('default')\n",
    "\n",
    "plt.plot(x_tst[:,0], y_tst, 'b.', label='Observations');\n",
    "# plt.fill_between(x_tst[:,0], samples - np.squeeze(aleatoric), samples + np.squeeze(aleatoric), color=c[0], alpha=0.3,\n",
    "#                  label='Aleatoric')\n",
    "# plt.fill_between(x_tst[:,0], samples - np.squeeze(total_unc), means - epistemic, color=c[0], alpha=0.3)\n",
    "# plt.fill_between(x_tst[:,0], samples - epistemic, means + epistemic, color=c[1], alpha=0.4,\n",
    "#                  label='Epistemic')\n",
    "plt.plot(x_tst[:,0], samples, color='black', linewidth=1, label='Predictive mean')\n",
    "plt.xlabel('$x$', fontsize=16)\n",
    "plt.title('case1', fontsize=20)\n",
    "plt.legend()\n",
    "plt.savefig('pred1.pdf')  \n",
    "plt.show()"
   ]
  },
  {
   "cell_type": "code",
   "execution_count": null,
   "metadata": {},
   "outputs": [],
   "source": []
  }
 ],
 "metadata": {
  "kernelspec": {
   "display_name": "Python 3",
   "language": "python",
   "name": "python3"
  },
  "language_info": {
   "codemirror_mode": {
    "name": "ipython",
    "version": 3
   },
   "file_extension": ".py",
   "mimetype": "text/x-python",
   "name": "python",
   "nbconvert_exporter": "python",
   "pygments_lexer": "ipython3",
   "version": "3.6.10"
  }
 },
 "nbformat": 4,
 "nbformat_minor": 2
}
