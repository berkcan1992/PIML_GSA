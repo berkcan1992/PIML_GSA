{
 "cells": [
  {
   "cell_type": "code",
   "execution_count": 21,
   "metadata": {},
   "outputs": [],
   "source": [
    "from __future__ import print_function\n",
    "\n",
    "import numpy as np\n",
    "from keras.models import Sequential\n",
    "from keras.layers import Dense, Dropout\n",
    "from keras.optimizers import RMSprop, Adadelta, Adagrad, Adam, Nadam, SGD\n",
    "from keras.callbacks import EarlyStopping, TerminateOnNaN\n",
    "from keras import backend as K\n",
    "from keras.losses import mean_squared_error\n",
    "import tensorflow as tf\n",
    "\n",
    "# Normalize the data.\n",
    "from sklearn import preprocessing\n",
    "from keras.regularizers import l1_l2\n",
    "import scipy.io as spio\n",
    "import random\n",
    "\n",
    "def pass_arg(nsim, tr_size, dropoutrate):\n",
    "    print(\"Tr_size:\", tr_size)\n",
    "    def fix_seeds(seed):\n",
    "        random.seed(seed)\n",
    "        np.random.seed(seed)\n",
    "        tf.random.set_seed(seed)\n",
    "        session_conf = tf.compat.v1.ConfigProto(intra_op_parallelism_threads=1, inter_op_parallelism_threads=1)\n",
    "        sess = tf.compat.v1.Session(graph=tf.compat.v1.get_default_graph(), config=session_conf)\n",
    "        # K.set_session(sess)\n",
    "        tf.compat.v1.keras.backend.set_session(sess)\n",
    "\n",
    "    ss = 1\n",
    "    fix_seeds(ss)\n",
    "\n",
    "    # MC dropout\n",
    "    class MCDropout(Dropout):\n",
    "        def call(self, inputs, training=None):\n",
    "            return super(MCDropout, self).call(inputs, training=True)\n",
    "\n",
    "    # Compute the RMSE given the ground truth (y_true) and the predictions(y_pred)\n",
    "    def root_mean_squared_error(y_true, y_pred):\n",
    "        return K.sqrt(K.mean(K.square(y_pred - y_true), axis=-1))\n",
    "\n",
    "    # Making sure final porosity is less than initial\n",
    "    def poros(poroi, porof):\n",
    "        porofn = -porof*(porof<0)\n",
    "        porofp = porof*(porof>=poroi) - poroi*(porof>=poroi)\n",
    "        return porofp+porofn\n",
    "\n",
    "    def phy_loss_mean(params):\n",
    "        # useful for cross-checking training\n",
    "        loss1, loss2, loss3, loss4, lam1, lam2 = params\n",
    "        x1, x2, x3 = loss1*(loss1>0), loss2*(loss2>0), loss3*(loss3>0)\n",
    "    #     print(np.mean(x1), x1.shape[0])\n",
    "    #     print(np.mean(x2), x2.shape[0])\n",
    "    #     print(np.mean(x3), x3.shape[0])\n",
    "\n",
    "        if x1.any() and x1.shape[0]>1:\n",
    "            X_scaled1 = (x1 - np.min(x1)) / (np.max(x1) - np.min(x1))\n",
    "            x1 = X_scaled1\n",
    "        if x2.any() and x2.shape[0]>1:\n",
    "            X_scaled2 = (x2 - np.min(x2)) / (np.max(x2) - np.min(x2))\n",
    "            x2 = X_scaled2\n",
    "        if x3.any() and x3.shape[0]>1:\n",
    "            X_scaled3 = (x3 - np.min(x3)) / (np.max(x3) - np.min(x3))\n",
    "            x3 = X_scaled3\n",
    "        return (lam1*np.mean(x1) + lam2*np.mean(x2) + lam2*np.mean(x3))\n",
    "    #     return (lam1*np.mean(x1) + lam2*np.mean(x2) + lam2*np.mean(x3) + lam2*loss4)\n",
    "\n",
    "    def PGNN_train_test(optimizer_name, optimizer_val, drop_rate, iteration, n_layers, n_nodes, tr_size, lamda, reg):\n",
    "\n",
    "        # Hyper-parameters of the training process\n",
    "        # batch_size = int(tr_size/2)\n",
    "        batch_size = 10\n",
    "        num_epochs = 300\n",
    "        val_frac = 0.25\n",
    "        patience_val = 80\n",
    "\n",
    "        # Initializing results filename\n",
    "        exp_name = optimizer_name + '_drop' + str(drop_rate) + '_nL' + str(n_layers) + '_nN' + str(n_nodes) + '_trsize' + str(tr_size) + '_iter' + str(iteration)\n",
    "        exp_name = exp_name.replace('.','pt')\n",
    "        results_dir = '../results/'\n",
    "        model_name = results_dir + exp_name + '_NoPhyInfomodel.h5' # storing the trained model\n",
    "        if reg:\n",
    "            results_name = results_dir + exp_name + '_results_regularizer.dat' # storing the results of the model\n",
    "        else:\n",
    "            results_name = results_dir + exp_name + '_results.dat' # storing the results of the model\n",
    "\n",
    "        #List of lakes to choose from\n",
    "        lake = ['mendota' , 'mille_lacs']\n",
    "        lake_num = 0  # 0 : mendota , 1 : mille_lacs\n",
    "        lake_name = lake[lake_num]\n",
    "\n",
    "        # Load features (Xc) and target values (Y)\n",
    "        data_dir = '../../data/'\n",
    "        filename = lake_name + '.mat'\n",
    "        mat = spio.loadmat(data_dir + filename, squeeze_me=True,\n",
    "        variable_names=['Y','Xc_doy','Modeled_temp'])\n",
    "        Xc = mat['Xc_doy']\n",
    "        Y = mat['Y']\n",
    "\n",
    "        # normalize dataset with MinMaxScaler\n",
    "        scaler = preprocessing.MinMaxScaler(feature_range=(0, 1.0))\n",
    "    #     scaler = preprocessing.StandardScaler()\n",
    "#         x_labeled = scaler.fit_transform(Xc)\n",
    "        # y_labeled = scaler.fit_transform(y_labeled)\n",
    "\n",
    "        # train and test data\n",
    "        trainX, trainY = Xc[:tr_size,:], Y[:tr_size]\n",
    "        testX, testY = Xc[-50:,:], Y[-50:]\n",
    "\n",
    "        # Creating the model\n",
    "        model = Sequential()\n",
    "        for layer in np.arange(n_layers):\n",
    "            if layer == 0:\n",
    "                model.add(Dense(n_nodes, activation='relu', input_shape=(np.shape(trainX)[1],)))\n",
    "            else:\n",
    "                if reg:\n",
    "                    model.add(Dense(n_nodes, activation='relu', kernel_regularizer=l1_l2(l1=.001, l2=.001)))\n",
    "                else:\n",
    "                    model.add(Dense(n_nodes, activation='relu'))\n",
    "            model.add(MCDropout(rate=drop_rate))\n",
    "        model.add(Dense(1, activation='linear'))\n",
    "\n",
    "        model.compile(loss='mean_squared_error',\n",
    "                      optimizer=optimizer_val,\n",
    "                      metrics=[root_mean_squared_error])\n",
    "\n",
    "        early_stopping = EarlyStopping(monitor='val_loss', patience=patience_val,verbose=1)\n",
    "\n",
    "        print('Running...' + optimizer_name)\n",
    "        history = model.fit(trainX, trainY,\n",
    "                            batch_size=batch_size,\n",
    "                            epochs=num_epochs,\n",
    "                            verbose=0,\n",
    "                            validation_split=val_frac, callbacks=[early_stopping, TerminateOnNaN()])\n",
    "\n",
    "        test_score = model.evaluate(testX, testY, verbose=1)\n",
    "        print(test_score)\n",
    "\n",
    "#         samples = []\n",
    "        test_scores = []\n",
    "        for i in range(int(nsim)):\n",
    "#             print(\"simulation num:\",i)\n",
    "#             predictions = model.predict(testX)\n",
    "#             samples.append(predictions)\n",
    "            test_score = model.evaluate(testX, testY, verbose=0)\n",
    "            test_scores.append(test_score[1])\n",
    "        return np.array(test_scores)\n",
    "\n",
    "\n",
    "\n",
    "    # Main Function\n",
    "    if __name__ == '__main__':\n",
    "\n",
    "        fix_seeds(1)\n",
    "\n",
    "        # List of optimizers to choose from    \n",
    "        optimizer_names = ['Adagrad', 'Adadelta', 'Adam', 'Nadam', 'RMSprop', 'SGD', 'NSGD']\n",
    "        optimizer_vals = [Adagrad(clipnorm=1), Adadelta(clipnorm=1), Adam(clipnorm=1), Nadam(clipnorm=1), RMSprop(clipnorm=1), SGD(clipnorm=1.), SGD(clipnorm=1, nesterov=True)]\n",
    "\n",
    "        # selecting the optimizer\n",
    "        optimizer_num = 1\n",
    "        optimizer_name = optimizer_names[optimizer_num]\n",
    "        optimizer_val = optimizer_vals[optimizer_num]\n",
    "\n",
    "        # Selecting Other Hyper-parameters\n",
    "        drop_rate = dropoutrate # Fraction of nodes to be dropped out\n",
    "        n_layers = 2 # Number of hidden layers\n",
    "        n_nodes = 5 # Number of nodes per hidden layer\n",
    "\n",
    "        # # Iterating over different training fractions and splitting indices for train-test splits\n",
    "        # trsize_range = [4,6,8,10,20]\n",
    "\n",
    "        # #default training size = 5000\n",
    "        # tr_size = trsize_range[4]\n",
    "\n",
    "        tr_size = int(tr_size)\n",
    "\n",
    "        # use regularizer\n",
    "        reg = True\n",
    "\n",
    "        #set lamda=0 for pgnn0\n",
    "        lamda = [1, 1] # Physics-based regularization constant\n",
    "\n",
    "        # total number of runs\n",
    "        iter_range = np.arange(1)\n",
    "        testrmse=[]\n",
    "        # iterating through all possible params\n",
    "        for iteration in iter_range:\n",
    "            # results, result_file, pred, obs, rmse = PGNN_train_test(optimizer_name, optimizer_val, drop_rate, \n",
    "                            # iteration, n_layers, n_nodes, tr_size, lamda, reg)\n",
    "            # testrmse.append(rmse)\n",
    "            test_rmse = PGNN_train_test(optimizer_name, optimizer_val, drop_rate, \n",
    "                            iteration, n_layers, n_nodes, tr_size, lamda, reg)\n",
    "\n",
    "    return np.squeeze(test_rmse)\n"
   ]
  },
  {
   "cell_type": "code",
   "execution_count": 25,
   "metadata": {},
   "outputs": [
    {
     "name": "stdout",
     "output_type": "stream",
     "text": [
      "Tr_size: 5000\n",
      "Running...Adadelta\n",
      "50/50 [==============================] - 0s 0us/step\n",
      "[4.6113982582092286, 1.806646704673767]\n",
      "Tr_size: 2500\n",
      "Running...Adadelta\n",
      "Epoch 00161: early stopping\n",
      "50/50 [==============================] - 0s 0us/step\n",
      "[5.431659755706787, 1.9587141275405884]\n",
      "Tr_size: 1000\n",
      "Running...Adadelta\n",
      "Epoch 00199: early stopping\n",
      "50/50 [==============================] - 0s 161us/step\n",
      "[15.083481483459472, 3.217978000640869]\n",
      "Tr_size: 500\n",
      "Running...Adadelta\n",
      "Epoch 00180: early stopping\n",
      "50/50 [==============================] - 0s 0us/step\n",
      "[108.95255920410156, 9.598426818847656]\n",
      "Tr_size: 100\n",
      "Running...Adadelta\n",
      "50/50 [==============================] - 0s 0us/step\n",
      "[102.95003692626953, 9.678289413452148]\n"
     ]
    },
    {
     "data": {
      "text/plain": [
       "[1.9792365193367005,\n",
       " 1.90540203332901,\n",
       " 3.2357607555389403,\n",
       " 10.035349769592285,\n",
       " 9.732986392974853]"
      ]
     },
     "execution_count": 25,
     "metadata": {},
     "output_type": "execute_result"
    }
   ],
   "source": [
    "mean_rmses=[]\n",
    "std_rmses=[]\n",
    "for ii in ([5000,2500,1000,500,100]):\n",
    "    test_rmse = pass_arg(50, ii, 0.05)\n",
    "    mean_rmse = np.mean(test_rmse)\n",
    "    std_rmse = np.std(test_rmse)\n",
    "    mean_rmses.append(mean_rmse)\n",
    "    std_rmses.append(std_rmse)\n",
    "    \n",
    "mean_rmses"
   ]
  },
  {
   "cell_type": "code",
   "execution_count": 27,
   "metadata": {},
   "outputs": [
    {
     "data": {
      "text/plain": [
       "[1.9792365193367005,\n",
       " 1.90540203332901,\n",
       " 3.2357607555389403,\n",
       " 10.035349769592285,\n",
       " 9.732986392974853]"
      ]
     },
     "execution_count": 27,
     "metadata": {},
     "output_type": "execute_result"
    }
   ],
   "source": [
    "mean_rmses"
   ]
  },
  {
   "cell_type": "code",
   "execution_count": 28,
   "metadata": {},
   "outputs": [
    {
     "data": {
      "text/plain": [
       "[0.1151273566847427,\n",
       " 0.17471857257524775,\n",
       " 0.15687872559715457,\n",
       " 0.4648023274027273,\n",
       " 0.31931690589403916]"
      ]
     },
     "execution_count": 28,
     "metadata": {},
     "output_type": "execute_result"
    }
   ],
   "source": [
    "std_rmses"
   ]
  },
  {
   "cell_type": "code",
   "execution_count": 6,
   "metadata": {},
   "outputs": [],
   "source": [
    "import pickle\n",
    "\n",
    "def save_obj(obj, name):\n",
    "    with open(name, 'wb') as f:\n",
    "        pickle.dump(obj, f, pickle.HIGHEST_PROTOCOL)\n",
    "        \n",
    "save_obj(mean_rmses, \"../mean_rmse_dnn_MC.dat\")\n",
    "save_obj(std_rmses, \"../std_rmse_dnn_MC.dat\")\n"
   ]
  },
  {
   "cell_type": "code",
   "execution_count": 4,
   "metadata": {},
   "outputs": [
    {
     "data": {
      "text/plain": [
       "0.02413137"
      ]
     },
     "execution_count": 4,
     "metadata": {},
     "output_type": "execute_result"
    }
   ],
   "source": [
    "mc_pred=np.mean(pred,axis=0)\n",
    "np.mean(mc_pred)"
   ]
  },
  {
   "cell_type": "code",
   "execution_count": 5,
   "metadata": {},
   "outputs": [
    {
     "data": {
      "text/plain": [
       "0.015234125"
      ]
     },
     "execution_count": 5,
     "metadata": {},
     "output_type": "execute_result"
    }
   ],
   "source": [
    "np.mean(np.std(pred,axis=1))"
   ]
  },
  {
   "cell_type": "code",
   "execution_count": 544,
   "metadata": {},
   "outputs": [],
   "source": [
    "# list1 = [0.01,0.02,0.05,0.1, 0.2, 0.25,0.3,0.35]\n",
    "# list2 = [5,6,7,8,9,10,11,12,15,20]\n",
    "\n",
    "# from collections import OrderedDict\n",
    "# param_grid = OrderedDict(rate = list1, node = list2)\n",
    "    \n",
    "# import itertools as it\n",
    "# allNames = sorted(param_grid)\n",
    "# combinations = it.product(*(param_grid[Name] for Name in allNames))\n",
    "# param_combo_list = list(combinations)\n",
    "# print(len(param_combo_list))\n",
    "    \n",
    "# std_list = []\n",
    "# for it in np.arange(len(param_combo_list)):\n",
    "#     pred = pass_arg(50, 20, param_combo_list[it])\n",
    "#     mc_pred=np.mean(pred,axis=0)\n",
    "#     std_list.append(np.std(pred,axis=1))\n",
    "# #     print(param_combo_list[it],np.mean(mc_pred_sd))"
   ]
  },
  {
   "cell_type": "code",
   "execution_count": 545,
   "metadata": {},
   "outputs": [],
   "source": [
    "# stdl = np.array(std_list)\n",
    "# np.sort(np.mean(stdl,axis=1))"
   ]
  },
  {
   "cell_type": "code",
   "execution_count": 546,
   "metadata": {},
   "outputs": [],
   "source": [
    "# stdl = np.array(std_list)\n",
    "# # np.mean(stdl,axis=1)\n",
    "# argss=np.argsort(np.mean(stdl,axis=1))\n",
    "# combo = np.array(param_combo_list)\n",
    "# combo[list(argss)]\n",
    "# # pred"
   ]
  },
  {
   "cell_type": "code",
   "execution_count": 547,
   "metadata": {},
   "outputs": [],
   "source": [
    "# mc_pred=np.mean(pred,axis=0)\n",
    "# mc_pred_sd=np.std(pred,axis=1)\n",
    "# np.mean(mc_pred_sd)"
   ]
  },
  {
   "cell_type": "code",
   "execution_count": 548,
   "metadata": {},
   "outputs": [],
   "source": [
    "import pickle\n",
    "\n",
    "def save_obj(obj, name):\n",
    "    with open(name, 'wb') as f:\n",
    "        pickle.dump(obj, f, pickle.HIGHEST_PROTOCOL)\n",
    "        \n",
    "save_obj(mc_pred, \"../pred_dnn_MC_Xx1.dat\")"
   ]
  },
  {
   "cell_type": "code",
   "execution_count": null,
   "metadata": {},
   "outputs": [],
   "source": []
  },
  {
   "cell_type": "code",
   "execution_count": null,
   "metadata": {},
   "outputs": [],
   "source": []
  }
 ],
 "metadata": {
  "kernelspec": {
   "display_name": "Python 3",
   "language": "python",
   "name": "python3"
  },
  "language_info": {
   "codemirror_mode": {
    "name": "ipython",
    "version": 3
   },
   "file_extension": ".py",
   "mimetype": "text/x-python",
   "name": "python",
   "nbconvert_exporter": "python",
   "pygments_lexer": "ipython3",
   "version": "3.6.10"
  }
 },
 "nbformat": 4,
 "nbformat_minor": 4
}
