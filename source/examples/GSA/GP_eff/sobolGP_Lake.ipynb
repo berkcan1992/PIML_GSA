{
 "cells": [
  {
   "cell_type": "code",
   "execution_count": 1,
   "metadata": {},
   "outputs": [
    {
     "data": {
      "text/plain": [
       "python:         C:/Users/kapusub/Anaconda3/envs/deep_learning_PIML/python.exe\n",
       "libpython:      C:/Users/kapusub/Anaconda3/envs/deep_learning_PIML/python37.dll\n",
       "pythonhome:     C:\\Users\\kapusub\\ANACON~1\\envs\\DEEP_L~2\n",
       "version:        3.7.7 (default, May  6 2020, 11:45:54) [MSC v.1916 64 bit (AMD64)]\n",
       "Architecture:   64bit\n",
       "numpy:          C:\\Users\\kapusub\\ANACON~1\\envs\\DEEP_L~2\\lib\\site-packages\\numpy\n",
       "numpy_version:  1.18.1\n",
       "\n",
       "NOTE: Python version was forced by use_python function"
      ]
     },
     "metadata": {},
     "output_type": "display_data"
    }
   ],
   "source": [
    "library(\"reticulate\")\n",
    "# use_python(\"C:/Users/berkc/Miniconda3/envs/R\", required = T)\n",
    "use_python(\"C:/Users/kapusub/Anaconda3/envs/deep_learning_PIML\", required = T)\n",
    "py_config()"
   ]
  },
  {
   "cell_type": "code",
   "execution_count": 2,
   "metadata": {},
   "outputs": [],
   "source": [
    "source(\"sobolGP_poro_np.R\")\n",
    "source(\"sobolGP_poro_np_upd.R\")\n",
    "source(\"sobolGPmethods.R\")\n",
    "source(\"pickfreeze.R\")"
   ]
  },
  {
   "cell_type": "markdown",
   "metadata": {},
   "source": [
    "# Pre-trained model parameters"
   ]
  },
  {
   "cell_type": "code",
   "execution_count": 3,
   "metadata": {},
   "outputs": [
    {
     "data": {
      "text/plain": [
       "0.753**2 * RBF(length_scale=[0.471, 4.79, 0.889, 1.3e+05, 3.15e+04, 49.4, 1.67e+06, 9.39e+04, 2.01e+05, 4.19e+05, 6.5e+05])"
      ]
     },
     "metadata": {},
     "output_type": "display_data"
    }
   ],
   "source": [
    "gp = source_python(\"GP_pre_train.py\")\n",
    "params <- Gp_phy()\n",
    "params"
   ]
  },
  {
   "cell_type": "code",
   "execution_count": 6,
   "metadata": {},
   "outputs": [
    {
     "name": "stdout",
     "output_type": "stream",
     "text": [
      "GP_MC_p_Lake.py \n",
      "Time difference of 37.99489 mins\n"
     ]
    },
    {
     "name": "stderr",
     "output_type": "stream",
     "text": [
      "Warning message in write.table(dat, filename, sep = \",\", col.names = !file.exists(filename), :\n",
      "\"appending column names to file\"Warning message in write.table(datT, filenameT, sep = \",\", col.names = !file.exists(filenameT), :\n",
      "\"appending column names to file\""
     ]
    },
    {
     "name": "stdout",
     "output_type": "stream",
     "text": [
      "Time difference of 38.17036 mins\n",
      "Time difference of 38.66078 mins\n",
      "Time difference of 39.63113 mins\n",
      "Time difference of 40.17338 mins\n",
      "GP_loss_MC_p_Lake.py \n",
      "Time difference of 38.11397 mins\n"
     ]
    },
    {
     "name": "stderr",
     "output_type": "stream",
     "text": [
      "Warning message in write.table(dat, filename, sep = \",\", col.names = !file.exists(filename), :\n",
      "\"appending column names to file\"Warning message in write.table(datT, filenameT, sep = \",\", col.names = !file.exists(filenameT), :\n",
      "\"appending column names to file\""
     ]
    },
    {
     "name": "stdout",
     "output_type": "stream",
     "text": [
      "Time difference of 38.87633 mins\n",
      "Time difference of 39.782 mins\n",
      "Time difference of 42.15022 mins\n",
      "Time difference of 42.8144 mins\n",
      "GP_upd_MC_p_Lake.py \n",
      "Time difference of 36.81297 mins\n"
     ]
    },
    {
     "name": "stderr",
     "output_type": "stream",
     "text": [
      "Warning message in write.table(dat, filename, sep = \",\", col.names = !file.exists(filename), :\n",
      "\"appending column names to file\"Warning message in write.table(datT, filenameT, sep = \",\", col.names = !file.exists(filenameT), :\n",
      "\"appending column names to file\""
     ]
    },
    {
     "name": "stdout",
     "output_type": "stream",
     "text": [
      "Time difference of 37.49862 mins\n",
      "Time difference of 38.24325 mins\n",
      "Time difference of 38.89053 mins\n",
      "Time difference of 39.68981 mins\n",
      "GP_upd_loss_MC_p_Lake.py \n",
      "Time difference of 36.82641 mins\n"
     ]
    },
    {
     "name": "stderr",
     "output_type": "stream",
     "text": [
      "Warning message in write.table(dat, filename, sep = \",\", col.names = !file.exists(filename), :\n",
      "\"appending column names to file\"Warning message in write.table(datT, filenameT, sep = \",\", col.names = !file.exists(filenameT), :\n",
      "\"appending column names to file\""
     ]
    },
    {
     "name": "stdout",
     "output_type": "stream",
     "text": [
      "Time difference of 38.27045 mins\n",
      "Time difference of 38.31265 mins\n",
      "Time difference of 38.80831 mins\n",
      "Time difference of 39.78646 mins\n"
     ]
    }
   ],
   "source": [
    "# numobs <- c(500,1000,1500,2000,2500)\n",
    "numobs <- c(100,250,500,750,1000)\n",
    "case1 <- c(\"GP_MC_p_Lake\",\"GP_loss_MC_p_Lake\")\n",
    "case2 <- c(\"GP_upd_MC_p_Lake\",\"GP_upd_loss_MC_p_Lake\")\n",
    "# case1 <- c(\"GP_MC_p_Lake\")\n",
    "# case2 <- c()\n",
    "# numobs <- c(250)\n",
    "\n",
    "d <- 11; n <- 5000\n",
    "candidate <- data.frame(matrix(runif(d * 2), nrow = 2))\n",
    "X1 <- data.frame(matrix(runif(d * n), nrow = n))\n",
    "X2 <- data.frame(matrix(runif(d * n), nrow = n))\n",
    "\n",
    "for(j in case1){\n",
    "    source(\"sobolGP_poro_np.R\")\n",
    "    GP_file = paste(j, \".py\", sep=\"\")\n",
    "    GP_samplefile =  paste(\"Sample_\",j, \".py\", sep=\"\")\n",
    "    cat(GP_file,\"\\n\")\n",
    "    for(i in numobs){\n",
    "    \n",
    "        start_time <- Sys.time()\n",
    "        #--------------------------------------#\n",
    "        # Kriging-based Sobol\n",
    "        #--------------------------------------#\n",
    "        res <- sobolGP_poro_np(\n",
    "        model = \"GP\",\n",
    "        type=\"UK\",\n",
    "        MCmethod=\"sobol2002\",\n",
    "        X1,\n",
    "        X2,\n",
    "        nsim = 100,\n",
    "        conf = 0.95,\n",
    "        nboot=1,\n",
    "        sequential = FALSE,\n",
    "        candidate,\n",
    "        sequential.tot=FALSE,\n",
    "        max_iter = 100,\n",
    "        filename1=GP_file,\n",
    "        filename2=GP_samplefile,\n",
    "        nobs = i\n",
    "        )\n",
    "\n",
    "        end_time <- Sys.time()\n",
    "        print(end_time - start_time)\n",
    "        \n",
    "        # combine number of observation vector with Sobol indices\n",
    "#         data <- cbind(i, res$S$mean)\n",
    "        data <- cbind(i, res$S$mean, t(res$S$ci[1,]), t(res$S$ci[2,]))\n",
    "        dat <- as.data.frame(data)\n",
    "        \n",
    "        # total index\n",
    "#         dataT <- cbind(i, res$T$mean)\n",
    "        dataT <- cbind(i, res$T$mean, t(res$T$ci[1,]), t(res$T$ci[2,]))\n",
    "        datT <- as.data.frame(dataT)\n",
    "        \n",
    "        # write to file\n",
    "        results_dir <- \"../../../../results/Lake/\"\n",
    "        # filename <- paste(results_dir, \"Case1_\", toString(num_obs), \".csv\", sep = \"\")\n",
    "        # write.csv(x=dat, file=filename)\n",
    "        # write.table(dat, file=filename, append=T)\n",
    "        filename <- paste(results_dir, paste(j, \"_first_\", n,\"_smallalpha.csv\", sep=\"\"), sep = \"\")\n",
    "        write.table(dat, filename, sep = \",\", col.names = !file.exists(filename), row.names = F, append = T)\n",
    "        \n",
    "        filenameT <- paste(results_dir, paste(j, \"_tot_\", n,\"_smallalpha.csv\", sep=\"\"), sep = \"\")\n",
    "        write.table(datT, filenameT, sep = \",\", col.names = !file.exists(filenameT), row.names = F, append = T)\n",
    "    }\n",
    "}\n",
    "\n",
    "\n",
    "\n",
    "\n",
    "\n",
    "\n",
    "for(j in case2){\n",
    "    source(\"sobolGP_poro_np_upd.R\")\n",
    "    GP_file = paste(j, \".py\", sep=\"\")\n",
    "    GP_samplefile =  paste(\"Sample_\",j, \".py\", sep=\"\")\n",
    "    cat(GP_file,\"\\n\")\n",
    "    for(i in numobs){\n",
    "    \n",
    "        start_time <- Sys.time()\n",
    "        #--------------------------------------#\n",
    "        # Kriging-based Sobol\n",
    "        #--------------------------------------#\n",
    "        res <- sobolGP_poro_np_upd(\n",
    "        model = \"GP\",\n",
    "        type=\"UK\",\n",
    "        MCmethod=\"sobol2002\",\n",
    "        X1,\n",
    "        X2,\n",
    "        nsim = 100,\n",
    "        conf = 0.95,\n",
    "        nboot=1,\n",
    "        sequential = FALSE,\n",
    "        candidate,\n",
    "        sequential.tot=FALSE,\n",
    "        max_iter = 100,\n",
    "        filename1=GP_file,\n",
    "        filename2=GP_samplefile,\n",
    "        params,\n",
    "        nobs = i\n",
    "        )\n",
    "        \n",
    "        end_time <- Sys.time()\n",
    "        print(end_time - start_time)\n",
    "        \n",
    "        # combine number of observation vector with Sobol indices\n",
    "#         data <- cbind(i, res$S$mean)\n",
    "        data <- cbind(i, res$S$mean, t(res$S$ci[1,]), t(res$S$ci[2,]))\n",
    "        dat <- as.data.frame(data)\n",
    "        \n",
    "        # total index\n",
    "#         dataT <- cbind(i, res$T$mean)\n",
    "        dataT <- cbind(i, res$T$mean, t(res$T$ci[1,]), t(res$T$ci[2,]))\n",
    "        datT <- as.data.frame(dataT)\n",
    "        \n",
    "        # write to file\n",
    "        results_dir <- \"../../../../results/Lake/\"\n",
    "        # filename <- paste(results_dir, \"Case1_\", toString(num_obs), \".csv\", sep = \"\")\n",
    "        # write.csv(x=dat, file=filename)\n",
    "        # write.table(dat, file=filename, append=T)\n",
    "        filename <- paste(results_dir, paste(j, \"_first_\", n,\"_smallalpha.csv\", sep=\"\"), sep = \"\")\n",
    "        write.table(dat, filename, sep = \",\", col.names = !file.exists(filename), row.names = F, append = T)\n",
    "        \n",
    "        filenameT <- paste(results_dir, paste(j, \"_tot_\", n,\"_smallalpha.csv\", sep=\"\"), sep = \"\")\n",
    "        write.table(datT, filenameT, sep = \",\", col.names = !file.exists(filenameT), row.names = F, append = T)\n",
    "    }\n",
    "}"
   ]
  },
  {
   "cell_type": "code",
   "execution_count": 34,
   "metadata": {
    "scrolled": true
   },
   "outputs": [
    {
     "data": {
      "text/html": [
       "<dl>\n",
       "\t<dt>$S1</dt>\n",
       "\t\t<dd><ol class=list-inline>\n",
       "\t<li>0.615142950972804</li>\n",
       "\t<li>0.328699452314022</li>\n",
       "\t<li>-0.336442556642247</li>\n",
       "</ol>\n",
       "</dd>\n",
       "\t<dt>$S2</dt>\n",
       "\t\t<dd><ol class=list-inline>\n",
       "\t<li>1.09063998544845</li>\n",
       "\t<li>0.958046087237816</li>\n",
       "\t<li>0.0663823092768034</li>\n",
       "</ol>\n",
       "</dd>\n",
       "\t<dt>$mean</dt>\n",
       "\t\t<dd><table>\n",
       "<tbody>\n",
       "\t<tr><td>0.2024666</td><td>0.7050228</td></tr>\n",
       "</tbody>\n",
       "</table>\n",
       "</dd>\n",
       "\t<dt>$var</dt>\n",
       "\t\t<dd><table>\n",
       "<tbody>\n",
       "\t<tr><td>0.2383298</td><td>0.3102915</td></tr>\n",
       "</tbody>\n",
       "</table>\n",
       "</dd>\n",
       "\t<dt>$ci</dt>\n",
       "\t\t<dd><table>\n",
       "<tbody>\n",
       "\t<tr><td>-0.3031855</td><td>0.1109655 </td></tr>\n",
       "\t<tr><td> 0.6008208</td><td>1.0840103 </td></tr>\n",
       "</tbody>\n",
       "</table>\n",
       "</dd>\n",
       "\t<dt>$varPG</dt>\n",
       "\t\t<dd><table>\n",
       "<tbody>\n",
       "\t<tr><td>0.2383298</td><td>0.3102915</td></tr>\n",
       "</tbody>\n",
       "</table>\n",
       "</dd>\n",
       "\t<dt>$varMC</dt>\n",
       "\t\t<dd><table>\n",
       "<tbody>\n",
       "\t<tr><td>NA</td><td>NA</td></tr>\n",
       "</tbody>\n",
       "</table>\n",
       "</dd>\n",
       "</dl>\n"
      ],
      "text/latex": [
       "\\begin{description}\n",
       "\\item[\\$S1] \\begin{enumerate*}\n",
       "\\item 0.615142950972804\n",
       "\\item 0.328699452314022\n",
       "\\item -0.336442556642247\n",
       "\\end{enumerate*}\n",
       "\n",
       "\\item[\\$S2] \\begin{enumerate*}\n",
       "\\item 1.09063998544845\n",
       "\\item 0.958046087237816\n",
       "\\item 0.0663823092768034\n",
       "\\end{enumerate*}\n",
       "\n",
       "\\item[\\$mean] \\begin{tabular}{ll}\n",
       "\t 0.2024666 & 0.7050228\\\\\n",
       "\\end{tabular}\n",
       "\n",
       "\\item[\\$var] \\begin{tabular}{ll}\n",
       "\t 0.2383298 & 0.3102915\\\\\n",
       "\\end{tabular}\n",
       "\n",
       "\\item[\\$ci] \\begin{tabular}{ll}\n",
       "\t -0.3031855 & 0.1109655 \\\\\n",
       "\t  0.6008208 & 1.0840103 \\\\\n",
       "\\end{tabular}\n",
       "\n",
       "\\item[\\$varPG] \\begin{tabular}{ll}\n",
       "\t 0.2383298 & 0.3102915\\\\\n",
       "\\end{tabular}\n",
       "\n",
       "\\item[\\$varMC] \\begin{tabular}{ll}\n",
       "\t NA & NA\\\\\n",
       "\\end{tabular}\n",
       "\n",
       "\\end{description}\n"
      ],
      "text/markdown": [
       "$S1\n",
       ":   1. 0.615142950972804\n",
       "2. 0.328699452314022\n",
       "3. -0.336442556642247\n",
       "\n",
       "\n",
       "\n",
       "$S2\n",
       ":   1. 1.09063998544845\n",
       "2. 0.958046087237816\n",
       "3. 0.0663823092768034\n",
       "\n",
       "\n",
       "\n",
       "$mean\n",
       ":   \n",
       "| 0.2024666 | 0.7050228 |\n",
       "\n",
       "\n",
       "$var\n",
       ":   \n",
       "| 0.2383298 | 0.3102915 |\n",
       "\n",
       "\n",
       "$ci\n",
       ":   \n",
       "| -0.3031855 | 0.1109655  |\n",
       "|  0.6008208 | 1.0840103  |\n",
       "\n",
       "\n",
       "$varPG\n",
       ":   \n",
       "| 0.2383298 | 0.3102915 |\n",
       "\n",
       "\n",
       "$varMC\n",
       ":   \n",
       "| NA | NA |\n",
       "\n",
       "\n",
       "\n",
       "\n"
      ],
      "text/plain": [
       "$S1\n",
       "[1]  0.6151430  0.3286995 -0.3364426\n",
       "\n",
       "$S2\n",
       "[1] 1.09063999 0.95804609 0.06638231\n",
       "\n",
       "$mean\n",
       "          [,1]      [,2]\n",
       "[1,] 0.2024666 0.7050228\n",
       "\n",
       "$var\n",
       "          [,1]      [,2]\n",
       "[1,] 0.2383298 0.3102915\n",
       "\n",
       "$ci\n",
       "           [,1]      [,2]\n",
       "[1,] -0.3031855 0.1109655\n",
       "[2,]  0.6008208 1.0840103\n",
       "\n",
       "$varPG\n",
       "          [,1]      [,2]\n",
       "[1,] 0.2383298 0.3102915\n",
       "\n",
       "$varMC\n",
       "     [,1] [,2]\n",
       "[1,]   NA   NA\n"
      ]
     },
     "metadata": {},
     "output_type": "display_data"
    }
   ],
   "source": [
    "res$S"
   ]
  }
 ],
 "metadata": {
  "kernelspec": {
   "display_name": "R",
   "language": "R",
   "name": "ir"
  },
  "language_info": {
   "codemirror_mode": "r",
   "file_extension": ".r",
   "mimetype": "text/x-r-source",
   "name": "R",
   "pygments_lexer": "r",
   "version": "3.6.1"
  }
 },
 "nbformat": 4,
 "nbformat_minor": 4
}
