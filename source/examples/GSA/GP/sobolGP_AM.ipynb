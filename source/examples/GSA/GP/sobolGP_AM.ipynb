{
 "cells": [
  {
   "cell_type": "code",
   "execution_count": 2,
   "metadata": {},
   "outputs": [
    {
     "data": {
      "text/plain": [
       "python:         C:/Users/kapusub/Anaconda3/envs/deep_learning_PIML/python.exe\n",
       "libpython:      C:/Users/kapusub/Anaconda3/envs/deep_learning_PIML/python37.dll\n",
       "pythonhome:     C:\\Users\\kapusub\\ANACON~1\\envs\\DEEP_L~2\n",
       "version:        3.7.7 (default, May  6 2020, 11:45:54) [MSC v.1916 64 bit (AMD64)]\n",
       "Architecture:   64bit\n",
       "numpy:          C:\\Users\\kapusub\\ANACON~1\\envs\\DEEP_L~2\\lib\\site-packages\\numpy\n",
       "numpy_version:  1.18.1\n",
       "\n",
       "NOTE: Python version was forced by use_python function"
      ]
     },
     "metadata": {},
     "output_type": "display_data"
    }
   ],
   "source": [
    "library(\"reticulate\")\n",
    "# use_python(\"C:/Users/berkc/Miniconda3/envs/R\", required = T)\n",
    "use_python(\"C:/Users/kapusub/Anaconda3/envs/deep_learning_PIML\", required = T)\n",
    "py_config()"
   ]
  },
  {
   "cell_type": "code",
   "execution_count": 3,
   "metadata": {},
   "outputs": [],
   "source": [
    "source(\"sobolGP_poro_np.R\")\n",
    "source(\"sobolGP_poro_np_upd.R\")\n",
    "source(\"sobolGPmethods.R\")\n",
    "source(\"pickfreeze.R\")"
   ]
  },
  {
   "cell_type": "markdown",
   "metadata": {},
   "source": [
    "# Pre-trained model parameters"
   ]
  },
  {
   "cell_type": "code",
   "execution_count": 4,
   "metadata": {},
   "outputs": [
    {
     "data": {
      "text/plain": [
       "0.15**2 * RBF(length_scale=[3.17e+08, 1.21e+06])"
      ]
     },
     "metadata": {},
     "output_type": "display_data"
    }
   ],
   "source": [
    "gp = source_python(\"GP_pre_train_AM.py\")\n",
    "params <- Gp_phy()\n",
    "params"
   ]
  },
  {
   "cell_type": "code",
   "execution_count": 21,
   "metadata": {},
   "outputs": [
    {
     "name": "stdout",
     "output_type": "stream",
     "text": [
      "GP_upd_MC_p_AM.py \n",
      "Time difference of 32.588 secs\n"
     ]
    },
    {
     "name": "stderr",
     "output_type": "stream",
     "text": [
      "Warning message in write.table(dat, filename, sep = \",\", col.names = !file.exists(filename), :\n",
      "\"appending column names to file\"Warning message in write.table(datT, filenameT, sep = \",\", col.names = !file.exists(filenameT), :\n",
      "\"appending column names to file\""
     ]
    },
    {
     "name": "stdout",
     "output_type": "stream",
     "text": [
      "Time difference of 34.9862 secs\n",
      "Time difference of 35.28511 secs\n",
      "Time difference of 36.01845 secs\n",
      "Time difference of 36.06416 secs\n",
      "GP_upd_loss_MC_p_AM.py \n",
      "Time difference of 35.37222 secs\n"
     ]
    },
    {
     "name": "stderr",
     "output_type": "stream",
     "text": [
      "Warning message in write.table(dat, filename, sep = \",\", col.names = !file.exists(filename), :\n",
      "\"appending column names to file\"Warning message in write.table(datT, filenameT, sep = \",\", col.names = !file.exists(filenameT), :\n",
      "\"appending column names to file\""
     ]
    },
    {
     "name": "stdout",
     "output_type": "stream",
     "text": [
      "Time difference of 35.37578 secs\n",
      "Time difference of 35.51143 secs\n",
      "Time difference of 36.75625 secs\n",
      "Time difference of 36.83154 secs\n"
     ]
    }
   ],
   "source": [
    "numobs <- c(5,10,20,30,38)\n",
    "case1 <- c(\"GP_loss_MC_p_AM\")\n",
    "# case1 <- c(\"GP_MC_p_AM\")\n",
    "case1 <- c()\n",
    "case2 <- c(\"GP_upd_MC_p_AM\",\"GP_upd_loss_MC_p_AM\")\n",
    "# case2 <- c()\n",
    "d <- 2; n <- 2000\n",
    "candidate <- data.frame(matrix(runif(d * 2), nrow = 2))\n",
    "X1 <- data.frame(matrix(runif(d * n), nrow = n))\n",
    "X2 <- data.frame(matrix(runif(d * n), nrow = n))\n",
    "\n",
    "for(j in case1){\n",
    "    source(\"sobolGP_poro_np.R\")\n",
    "    GP_file = paste(j, \".py\", sep=\"\")    \n",
    "    cat(GP_file,\"\\n\")\n",
    "    for(i in numobs){\n",
    "    \n",
    "        start_time <- Sys.time()\n",
    "        #--------------------------------------#\n",
    "        # Kriging-based Sobol\n",
    "        #--------------------------------------#\n",
    "        res <- sobolGP_poro_np(\n",
    "        model = \"GP\",\n",
    "        type=\"UK\",\n",
    "        MCmethod=\"sobol2002\",\n",
    "        X1,\n",
    "        X2,\n",
    "        nsim = 100,\n",
    "        conf = 0.95,\n",
    "        nboot=1,\n",
    "        sequential = FALSE,\n",
    "        candidate,\n",
    "        sequential.tot=FALSE,\n",
    "        max_iter = 100,\n",
    "        filename=GP_file,\n",
    "        nobs = i\n",
    "        )\n",
    "\n",
    "        end_time <- Sys.time()\n",
    "        print(end_time - start_time)\n",
    "        \n",
    "        # combine number of observation vector with Sobol indices\n",
    "#         data <- cbind(i, res$S$mean)\n",
    "        data <- cbind(i, res$S$mean, t(res$S$ci[1,]), t(res$S$ci[2,]))\n",
    "        dat <- as.data.frame(data)\n",
    "        \n",
    "        # total index\n",
    "#         dataT <- cbind(i, res$T$mean)\n",
    "        dataT <- cbind(i, res$T$mean, t(res$T$ci[1,]), t(res$T$ci[2,]))\n",
    "        datT <- as.data.frame(dataT)\n",
    "        \n",
    "        # write to file\n",
    "        results_dir <- \"../../../../results/AM/\"\n",
    "        # filename <- paste(results_dir, \"Case1_\", toString(num_obs), \".csv\", sep = \"\")\n",
    "        # write.csv(x=dat, file=filename)\n",
    "        # write.table(dat, file=filename, append=T)\n",
    "        filename <- paste(results_dir, paste(j, \"_first_\", n,\"_10restart.csv\", sep=\"\"), sep = \"\")\n",
    "        write.table(dat, filename, sep = \",\", col.names = !file.exists(filename), row.names = F, append = T)\n",
    "        \n",
    "        filenameT <- paste(results_dir, paste(j, \"_tot_\", n,\"_10restart.csv\", sep=\"\"), sep = \"\")\n",
    "        write.table(datT, filenameT, sep = \",\", col.names = !file.exists(filenameT), row.names = F, append = T)\n",
    "    }\n",
    "}\n",
    "\n",
    "\n",
    "\n",
    "\n",
    "\n",
    "\n",
    "for(j in case2){\n",
    "    source(\"sobolGP_poro_np_upd.R\")\n",
    "    GP_file = paste(j, \".py\", sep=\"\")    \n",
    "    cat(GP_file,\"\\n\")\n",
    "    for(i in numobs){\n",
    "    \n",
    "        start_time <- Sys.time()\n",
    "        #--------------------------------------#\n",
    "        # Kriging-based Sobol\n",
    "        #--------------------------------------#\n",
    "        res <- sobolGP_poro_np_upd(\n",
    "        model = \"GP\",\n",
    "        type=\"UK\",\n",
    "        MCmethod=\"sobol2002\",\n",
    "        X1,\n",
    "        X2,\n",
    "        nsim = 100,\n",
    "        conf = 0.95,\n",
    "        nboot=1,\n",
    "        sequential = FALSE,\n",
    "        candidate,\n",
    "        sequential.tot=FALSE,\n",
    "        max_iter = 100,\n",
    "        filename=GP_file,\n",
    "        params,\n",
    "        nobs = i\n",
    "        )\n",
    "        \n",
    "        end_time <- Sys.time()\n",
    "        print(end_time - start_time)\n",
    "        \n",
    "        # combine number of observation vector with Sobol indices\n",
    "        data <- cbind(i, res$S$mean, t(res$S$ci[1,]), t(res$S$ci[2,]))\n",
    "        dat <- as.data.frame(data)\n",
    "        \n",
    "        # total index\n",
    "        dataT <- cbind(i, res$T$mean, t(res$T$ci[1,]), t(res$T$ci[2,]))\n",
    "        datT <- as.data.frame(dataT)\n",
    "        \n",
    "        # write to file\n",
    "        results_dir <- \"../../../../results/AM/\"\n",
    "        filename <- paste(results_dir, paste(j, \"_first_\", n,\"_10restart.csv\", sep=\"\"), sep = \"\")\n",
    "        write.table(dat, filename, sep = \",\", col.names = !file.exists(filename), row.names = F, append = T)\n",
    "        \n",
    "        filenameT <- paste(results_dir, paste(j, \"_tot_\", n,\"_10restart.csv\", sep=\"\"), sep = \"\")\n",
    "        write.table(datT, filenameT, sep = \",\", col.names = !file.exists(filenameT), row.names = F, append = T)\n",
    "    }\n",
    "}"
   ]
  },
  {
   "cell_type": "code",
   "execution_count": 13,
   "metadata": {
    "scrolled": true
   },
   "outputs": [
    {
     "name": "stderr",
     "output_type": "stream",
     "text": [
      "ERROR while rich displaying an object: Error in cat(\"\\nModel runs:\", sGP$call$model@n, \"\\n\"): trying to get slot \"n\" from an object of a basic class (\"character\") with no slots\n",
      "\n",
      "Traceback:\n",
      "1. FUN(X[[i]], ...)\n",
      "2. tryCatch(withCallingHandlers({\n",
      " .     if (!mime %in% names(repr::mime2repr)) \n",
      " .         stop(\"No repr_* for mimetype \", mime, \" in repr::mime2repr\")\n",
      " .     rpr <- repr::mime2repr[[mime]](obj)\n",
      " .     if (is.null(rpr)) \n",
      " .         return(NULL)\n",
      " .     prepare_content(is.raw(rpr), rpr)\n",
      " . }, error = error_handler), error = outer_handler)\n",
      "3. tryCatchList(expr, classes, parentenv, handlers)\n",
      "4. tryCatchOne(expr, names, parentenv, handlers[[1L]])\n",
      "5. doTryCatch(return(expr), name, parentenv, handler)\n",
      "6. withCallingHandlers({\n",
      " .     if (!mime %in% names(repr::mime2repr)) \n",
      " .         stop(\"No repr_* for mimetype \", mime, \" in repr::mime2repr\")\n",
      " .     rpr <- repr::mime2repr[[mime]](obj)\n",
      " .     if (is.null(rpr)) \n",
      " .         return(NULL)\n",
      " .     prepare_content(is.raw(rpr), rpr)\n",
      " . }, error = error_handler)\n",
      "7. repr::mime2repr[[mime]](obj)\n",
      "8. repr_text.default(obj)\n",
      "9. paste(capture.output(print(obj)), collapse = \"\\n\")\n",
      "10. capture.output(print(obj))\n",
      "11. evalVis(expr)\n",
      "12. withVisible(eval(expr, pf))\n",
      "13. eval(expr, pf)\n",
      "14. eval(expr, pf)\n",
      "15. print(obj)\n",
      "16. print.sobolGP(obj)\n",
      "17. cat(\"\\nModel runs:\", sGP$call$model@n, \"\\n\")\n"
     ]
    }
   ],
   "source": [
    "res"
   ]
  }
 ],
 "metadata": {
  "kernelspec": {
   "display_name": "R",
   "language": "R",
   "name": "ir"
  },
  "language_info": {
   "codemirror_mode": "r",
   "file_extension": ".r",
   "mimetype": "text/x-r-source",
   "name": "R",
   "pygments_lexer": "r",
   "version": "3.6.1"
  }
 },
 "nbformat": 4,
 "nbformat_minor": 4
}
