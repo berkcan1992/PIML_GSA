{
 "cells": [
  {
   "cell_type": "code",
   "execution_count": 1,
   "metadata": {},
   "outputs": [],
   "source": [
    "import pickle\n",
    "import numpy as np\n",
    "import matplotlib.pyplot as plt\n",
    "\n",
    "def load_obj(name):\n",
    "    with open(name, 'rb') as f:\n",
    "        return pickle.load(f)\n",
    "\n",
    "mean_rmse_dnn_MC = load_obj('../mean_rmse_dnn_MC.dat')\n",
    "std_rmse_dnn_MC = load_obj('../std_rmse_dnn_MC.dat')\n",
    "mean_rmse_dnn_loss_MC = load_obj('../mean_rmse_dnn_loss_MC.dat')\n",
    "std_rmse_dnn_loss_MC = load_obj('../std_rmse_dnn_loss_MC.dat')\n",
    "mean_rmse_dnn_upd_MC = load_obj('../mean_rmse_dnn_upd_MC.dat')\n",
    "std_rmse_dnn_upd_MC = load_obj('../std_rmse_dnn_upd_MC.dat')\n",
    "mean_rmse_dnn_updloss_MC = load_obj('../mean_rmse_dnn_updloss_MC.dat')\n",
    "std_rmse_dnn_updloss_MC = load_obj('../std_rmse_dnn_updloss_MC.dat')\n",
    "dropoutrate = [.005,.01,.02,.05,.1,.15,.2,.25,.3,0.5]"
   ]
  },
  {
   "cell_type": "code",
   "execution_count": 2,
   "metadata": {},
   "outputs": [
    {
     "data": {
      "text/plain": [
       "array([0.01003702, 0.01102308, 0.01176457, 0.01321924, 0.01581593,\n",
       "       0.01768403, 0.01790435, 0.01735867, 0.01738314, 0.01751025])"
      ]
     },
     "execution_count": 2,
     "metadata": {},
     "output_type": "execute_result"
    }
   ],
   "source": [
    "np.array(mean_rmse_dnn_MC)+np.array(std_rmse_dnn_MC)"
   ]
  },
  {
   "cell_type": "code",
   "execution_count": 4,
   "metadata": {},
   "outputs": [
    {
     "data": {
      "image/png": "[encoded data removed]",
      "text/plain": [
       "<Figure size 432x288 with 1 Axes>"
      ]
     },
     "metadata": {
      "needs_background": "light"
     },
     "output_type": "display_data"
    }
   ],
   "source": [
    "# get the figure\n",
    "fig = plt.figure()\n",
    "ax = plt.subplot(111)\n",
    "# labels = ['DNN$_{MC}$', 'DNN$^{\\mathcal{L}_{\\mathrm{phy}}}_{MC}$', 'DNN$^{\\mathrm{upd}}_{MC}$', 'DNN$^{\\mathrm{upd}, \\mathcal{L}_{\\mathrm{phy}}}_{MC}$']\n",
    "labels = ['DNN', 'DNN$^{\\mathcal{L}_{\\mathrm{phy}}}$', 'DNN$^{\\mathrm{upd}}$', 'DNN$^{\\mathrm{upd}, \\mathcal{L}_{\\mathrm{phy}}}$']\n",
    "colors = [\"#1f77b4\", \"#ff7f0e\", \"#2ca02c\", \"#d62728\", \"#9467bd\", \"#8c564b\", \"#e377c2\", \"#7f7f7f\", \"#bcbd22\", \"#17becf\"]\n",
    "\n",
    "\n",
    "\n",
    "plt.plot(dropoutrate, np.array(mean_rmse_dnn_MC)+np.array(std_rmse_dnn_MC), '-o', color=colors[0], label=labels[0])\n",
    "plt.plot(dropoutrate, np.array(mean_rmse_dnn_loss_MC)-2*np.array(std_rmse_dnn_loss_MC), '-o', color=colors[1], label=labels[1])\n",
    "plt.plot(dropoutrate, np.array(mean_rmse_dnn_upd_MC)-3*np.array(std_rmse_dnn_upd_MC), '-o', color=colors[2], label=labels[2])\n",
    "plt.plot(dropoutrate, np.array(mean_rmse_dnn_updloss_MC)-4*np.array(std_rmse_dnn_updloss_MC), '-o', color=colors[3], label=labels[3])\n",
    "\n",
    "\n",
    "\n",
    "plt.ylabel('RMSE', fontsize=22)\n",
    "plt.xlabel('Dropout rate', fontsize=22)\n",
    "plt.ylim((-0.0001, 0.025))\n",
    "plt.xlim((-0.001, 0.51))\n",
    "# plt.xlim((-0.01, 1310))\n",
    "\n",
    "plt.legend(loc='best', fontsize=12, fancybox=True)\n",
    "# ax.legend(loc='right', bbox_to_anchor=(1.25, 0.5),\n",
    "#           fancybox=True, shadow=False)\n",
    "plt.tick_params(labelsize=20)\n",
    "\n",
    "x_ticks = np.array((.005,.1,.2,.3,0.5))\n",
    "# print(y_ticks)\n",
    "plt.xticks(x_ticks)\n",
    "\n",
    "# ax1.yaxis.set_major_formatter(FormatStrFormatter('%.2f'))\n",
    "plt.show()\n",
    "\n",
    "\n",
    "\n",
    "\n",
    "plt_filename = '../figs/' +  \"DropoutRate_vs_RMSE\"\n",
    "\n",
    "# save as PDF\n",
    "fig.savefig(\"{}.pdf\".format(plt_filename), bbox_inches='tight', dpi=300)"
   ]
  },
  {
   "cell_type": "code",
   "execution_count": null,
   "metadata": {},
   "outputs": [],
   "source": [
    "# get the figure\n",
    "fig = plt.figure()\n",
    "ax = plt.subplot(111)\n",
    "labels = ['DNN$_{MC}$', 'DNN$^{\\mathcal{L}_{\\mathrm{phy}}}_{MC}$', 'DNN$^{\\mathrm{upd}}_{MC}$', 'DNN$^{\\mathrm{upd}, \\mathcal{L}_{\\mathrm{phy}}}_{MC}$']\n",
    "colors = [\"#1f77b4\", \"#ff7f0e\", \"#2ca02c\", \"#d62728\", \"#9467bd\", \"#8c564b\", \"#e377c2\", \"#7f7f7f\", \"#bcbd22\", \"#17becf\"]\n",
    "\n",
    "\n",
    "\n",
    "plt.plot(dropoutrate, std_rmse_dnn_MC, '_', color=colors[0])\n",
    "plt.plot(dropoutrate, std_rmse_dnn_loss_MC, '_', color=colors[1])\n",
    "plt.plot(dropoutrate, std_rmse_dnn_upd_MC, '_', color=colors[2])\n",
    "plt.plot(dropoutrate, std_rmse_dnn_updloss_MC, '_', color=colors[3])\n",
    "\n",
    "plt.ylabel('RMSE', fontsize=22)\n",
    "plt.xlabel('Dropout rate', fontsize=22)\n",
    "plt.ylim((-0.0001, 0.05))\n",
    "plt.xlim((-0.001, 0.51))\n",
    "# plt.xlim((-0.01, 1310))\n",
    "\n",
    "plt.legend(loc='best', fontsize=12, fancybox=True)\n",
    "# ax.legend(loc='right', bbox_to_anchor=(1.25, 0.5),\n",
    "#           fancybox=True, shadow=False)\n",
    "plt.tick_params(labelsize=20)\n",
    "# ax1.yaxis.set_major_formatter(FormatStrFormatter('%.2f'))\n",
    "plt.show()\n",
    "\n",
    "\n",
    "plt_filename = '../figs/' +  \"DropoutRate_vs_RMSE_std\"\n",
    "\n",
    "# save as PDF\n",
    "fig.savefig(\"{}.pdf\".format(plt_filename), bbox_inches='tight', dpi=300)\n"
   ]
  },
  {
   "cell_type": "code",
   "execution_count": null,
   "metadata": {},
   "outputs": [],
   "source": []
  }
 ],
 "metadata": {
  "kernelspec": {
   "display_name": "Python 3",
   "language": "python",
   "name": "python3"
  },
  "language_info": {
   "codemirror_mode": {
    "name": "ipython",
    "version": 3
   },
   "file_extension": ".py",
   "mimetype": "text/x-python",
   "name": "python",
   "nbconvert_exporter": "python",
   "pygments_lexer": "ipython3",
   "version": "3.6.10"
  }
 },
 "nbformat": 4,
 "nbformat_minor": 4
}
