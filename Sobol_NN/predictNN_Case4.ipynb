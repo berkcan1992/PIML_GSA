{
 "cells": [
  {
   "cell_type": "code",
   "execution_count": 1,
   "metadata": {},
   "outputs": [],
   "source": [
    "import pandas as pd\n",
    "import matplotlib.pyplot as plt\n",
    "from mpl_toolkits import mplot3d\n",
    "import numpy as np\n",
    "import torch\n",
    "import torch.nn as nn\n",
    "import torch.nn.functional as F\n",
    "from torch.autograd import Variable\n",
    "\n",
    "# Normalize the data.\n",
    "from sklearn import preprocessing\n",
    "from sklearn.model_selection import KFold\n",
    "\n",
    "# Reproducable results\n",
    "def set_seed(seed):\n",
    "    torch.backends.cudnn.deterministic = True\n",
    "    torch.backends.cudnn.benchmark = False\n",
    "    torch.manual_seed(seed)\n",
    "    torch.cuda.manual_seed_all(seed)\n",
    "    np.random.seed(seed)\n",
    "    import random\n",
    "    random.seed(seed)"
   ]
  },
  {
   "cell_type": "markdown",
   "metadata": {},
   "source": [
    "Define functions to normalize and de-normalize the data"
   ]
  },
  {
   "cell_type": "code",
   "execution_count": 2,
   "metadata": {},
   "outputs": [],
   "source": [
    "# Load labeled data\n",
    "data = np.loadtxt('C:/Users/berkc/git/Physics-Informed-Machine-Learning/data/labeled_data.dat')\n",
    "\n",
    "x_exp = data[:, :2]\n",
    "y_exp = data[:, -2]\n",
    "y_exp = y_exp[:, np.newaxis]"
   ]
  },
  {
   "cell_type": "markdown",
   "metadata": {},
   "source": [
    "Load the data by calling the function we defined above:"
   ]
  },
  {
   "cell_type": "code",
   "execution_count": 3,
   "metadata": {},
   "outputs": [],
   "source": [
    "# normalize dataset with MinMaxScaler\n",
    "scaler1 = preprocessing.MinMaxScaler(feature_range=(0, 1.0))\n",
    "scaler2 = preprocessing.MinMaxScaler(feature_range=(0, 1.0))\n",
    "inp = scaler1.fit_transform(x_exp)\n",
    "out = scaler2.fit_transform(y_exp)\n",
    "\n",
    "# stack input and output data\n",
    "data = np.column_stack((inp,out))\n",
    "\n",
    "batch_size = 5"
   ]
  },
  {
   "cell_type": "markdown",
   "metadata": {},
   "source": [
    "Define functions and classes for the BNN:"
   ]
  },
  {
   "cell_type": "code",
   "execution_count": 4,
   "metadata": {},
   "outputs": [],
   "source": [
    "def to_variable(var=(), cuda=False, volatile=False):\n",
    "    out = []\n",
    "    for v in var:\n",
    "\n",
    "        if isinstance(v, np.ndarray):\n",
    "            v = torch.from_numpy(v).type(torch.FloatTensor)\n",
    "\n",
    "        # if not v.is_cuda and cuda:\n",
    "        #     v = v.cuda()\n",
    "\n",
    "        if not isinstance(v, Variable):\n",
    "            v = Variable(v, volatile=volatile)\n",
    "\n",
    "        out.append(v)\n",
    "    return out\n",
    "\n",
    "# # loss\n",
    "# \tself.loss1 = tf.reduce_mean( tf.exp(-self.log_var) *tf.square( (self.mean-self.images) ) )\n",
    "# \tself.loss2 = tf.reduce_mean(self.log_var)\n",
    "# \t# \"From What Uncertainties Do We Need in Bayesian Deep Learning for Computer Vision?\" NIPS 2017\n",
    "# \t# In practice, we train the network to predict the log variance\n",
    "# \tself.loss = .5*(self.loss1+self.loss2)\n",
    "    \n",
    "#     loss = tf.reduce_sum(0.5 * tf.exp(-1 * log_variance) * tf.square(tf.abs(y_placeholder - prediction))\n",
    "#                          + 0.5 * log_variance)\n",
    "\n",
    "def log_gaussian_loss(output, target, sigma, no_dim):\n",
    "#     exponent = -0.5 * (target - output) ** 2 / sigma ** 2\n",
    "#     log_coeff = -no_dim * torch.log(sigma) - 0.5 * no_dim * np.log(2 * np.pi)\n",
    "    \n",
    "    exponent = 0.5 * abs(target - output)**2 / sigma ** 2\n",
    "    log_coeff = 0.5*torch.log(sigma)\n",
    "    return (log_coeff + exponent).sum()\n",
    "\n",
    "# def log_gaussian_loss(output, target, sigma, no_dim):\n",
    "#     exponent = -0.5 * (target - output) ** 2 / sigma ** 2\n",
    "#     log_coeff = -no_dim * torch.log(sigma) - 0.5 * no_dim * np.log(2 * np.pi)\n",
    "#     return - (log_coeff + exponent).sum()\n",
    "\n",
    "\n",
    "\n",
    "class MC_Dropout_Model(nn.Module):\n",
    "    def __init__(self, input_dim, output_dim, num_units, drop_prob):\n",
    "        super(MC_Dropout_Model, self).__init__()\n",
    "\n",
    "        self.input_dim = input_dim\n",
    "        self.output_dim = output_dim\n",
    "        self.drop_prob = drop_prob\n",
    "\n",
    "        # network with two hidden and one output layer\n",
    "        self.layer1 = nn.Linear(input_dim, num_units)\n",
    "        self.layer2 = nn.Linear(num_units, num_units)\n",
    "        # self.layer3 = nn.Linear(num_units, num_units)\n",
    "        # self.layer4 = nn.Linear(num_units, num_units)\n",
    "        self.layer3 = nn.Linear(num_units, 2 * output_dim)\n",
    "\n",
    "        self.activation = nn.ReLU(inplace=True)\n",
    "\n",
    "    def forward(self, x):\n",
    "        x = x.view(-1, self.input_dim)\n",
    "\n",
    "        x = self.layer1(x)\n",
    "        x = self.activation(x)\n",
    "        x = F.dropout(x, p=self.drop_prob, training=True)\n",
    "\n",
    "        x = self.layer2(x)\n",
    "        x = self.activation(x)\n",
    "        x = F.dropout(x, p=self.drop_prob, training=True)\n",
    "        #\n",
    "        # x = self.layer3(x)\n",
    "        # x = self.activation(x)\n",
    "        # x = F.dropout(x, p=self.drop_prob, training=True)\n",
    "        #\n",
    "        # x = self.layer4(x)\n",
    "        # x = self.activation(x)\n",
    "        # x = F.dropout(x, p=self.drop_prob, training=True)\n",
    "\n",
    "        x = self.layer3(x)\n",
    "\n",
    "        return x\n",
    "\n",
    "\n",
    "class MC_Dropout_Wrapper:\n",
    "    def __init__(self, network, learn_rate, batch_size, weight_decay):\n",
    "        self.learn_rate = learn_rate\n",
    "        self.batch_size = batch_size\n",
    "\n",
    "        self.network = network\n",
    "        # self.network.cuda()\n",
    "\n",
    "#         self.optimizer = torch.optim.SGD(self.network.parameters(), lr=learn_rate, weight_decay=weight_decay)\n",
    "        self.optimizer = torch.optim.Adam(self.network.parameters(), lr=learn_rate, weight_decay=weight_decay)\n",
    "        self.loss_func = log_gaussian_loss\n",
    "\n",
    "    def fit(self, x, y):\n",
    "        x, y = to_variable(var=(x, y), cuda=True)\n",
    "\n",
    "        # reset gradient and total loss\n",
    "        self.optimizer.zero_grad()\n",
    "\n",
    "        output = self.network(x)\n",
    "\n",
    "        loss = self.loss_func(output[:, :1], y, output[:, 1:].exp(), 1)\n",
    "\n",
    "        loss.backward()\n",
    "        self.optimizer.step()\n",
    "\n",
    "        return loss\n",
    "\n",
    "    def get_loss_and_rmse(self, x, y, num_samples):\n",
    "        x, y = to_variable(var=(x, y), cuda=True)\n",
    "\n",
    "        means, stds = [], []\n",
    "        for i in range(num_samples):\n",
    "            output = self.network(x)\n",
    "            means.append(output[:, :1])\n",
    "            stds.append(output[:, 1:].exp())\n",
    "\n",
    "        means, stds = torch.cat(means, dim=1), torch.cat(stds, dim=1)\n",
    "        mean = means.mean(dim=-1)[:, None]\n",
    "        std = ((means.var(dim=-1) + stds.mean(dim=-1) ** 2) ** 0.5)[:, None]\n",
    "        loss = self.loss_func(mean, y, std, 1)\n",
    "\n",
    "        rmse = ((mean - y) ** 2).mean() ** 0.5\n",
    "\n",
    "        return loss.detach().cpu(), rmse.detach().cpu()"
   ]
  },
  {
   "cell_type": "markdown",
   "metadata": {},
   "source": [
    "Define the function that fits the BNN and shuffles the data and use some for testing."
   ]
  },
  {
   "cell_type": "code",
   "execution_count": 5,
   "metadata": {},
   "outputs": [],
   "source": [
    "def train_mc_dropout(data, drop_prob, ratio_train_data, num_epochs, num_units, learn_rate, weight_decay, log_every,\n",
    "                     num_samples):\n",
    "\n",
    "    in_dim = data.shape[1] - 1\n",
    "    train_logliks, test_logliks = [], []\n",
    "    train_rmses, test_rmses = [], []\n",
    "\n",
    "    history_loss, history_loss_test, history_rmse, history_rmse_test = [], [], [], []\n",
    "\n",
    "    # -------------------------------------------------------------------------\n",
    "    #               Random Permutation of Training Data\n",
    "    # -------------------------------------------------------------------------\n",
    "    nl = data.shape[0]  # size of training data\n",
    "\n",
    "    # randomly select RatioToBeUsed to be training set for GP model\n",
    "    num_train = round(ratio_train_data * nl)\n",
    "#     idx_ = np.random.permutation(nl)\n",
    "    idx_ = np.arange(nl)  # do not do random permutation\n",
    "\n",
    "    # Use the first RatioToBeUsed to train the model\n",
    "    idx_train = idx_[0:num_train]\n",
    "\n",
    "    x_train, y_train = data[idx_train, :in_dim], data[idx_train, in_dim:]\n",
    "\n",
    "    # The (1-RatioToBeUsed) will be used to test the model\n",
    "    idx_test = idx_[(num_train + 1):]\n",
    "    x_test, y_test = data[idx_test, :in_dim], data[idx_test, in_dim:]\n",
    "\n",
    "    y_means, y_stds = y_train.mean(axis=0), y_train.var(axis=0) ** 0.5\n",
    "\n",
    "    net = MC_Dropout_Wrapper(\n",
    "            network=MC_Dropout_Model(input_dim=in_dim, output_dim=1, num_units=num_units, drop_prob=drop_prob),\n",
    "            learn_rate=learn_rate, batch_size=batch_size, weight_decay=weight_decay)\n",
    "\n",
    "    for i in range(num_epochs):\n",
    "\n",
    "        loss = net.fit(x_train, y_train)\n",
    "\n",
    "        tt, rmse_train = net.get_loss_and_rmse(x_train, y_train, num_samples=num_samples)\n",
    "        rmse_train = rmse_train.cpu().data.numpy()\n",
    "\n",
    "        test_loss, rmse_test = net.get_loss_and_rmse(x_test, y_test, num_samples=num_samples)\n",
    "        test_loss, rmse_test = test_loss.cpu().data.numpy(), rmse_test.cpu().data.numpy()\n",
    "\n",
    "        history_loss.append(loss.cpu().data.numpy() / len(x_train))\n",
    "        history_loss_test.append(test_loss / len(x_test))\n",
    "        history_rmse.append(rmse_train )\n",
    "        history_rmse_test.append(rmse_test )\n",
    "\n",
    "        if i % log_every == 0 or i == num_epochs - 1:\n",
    "            test_loss, rmse = net.get_loss_and_rmse(x_test, y_test, num_samples=num_samples)\n",
    "            test_loss, rmse = test_loss.cpu().data.numpy(), rmse.cpu().data.numpy()\n",
    "\n",
    "            print('Epoch: %4d, Train loss: %6.3f Test loss: %6.3f RMSE: %.3f' %\n",
    "                    (i, loss.cpu().data.numpy() / len(x_train), test_loss / len(x_test), rmse ))\n",
    "\n",
    "    train_loss, train_rmse = net.get_loss_and_rmse(x_train, y_train, num_samples=num_samples)\n",
    "    test_loss, test_rmse = net.get_loss_and_rmse(x_test, y_test, num_samples=num_samples)\n",
    "\n",
    "    train_logliks.append((train_loss.cpu().data.numpy() / len(x_train) + np.log(y_stds)[0]))\n",
    "    test_logliks.append((test_loss.cpu().data.numpy() / len(x_test) + np.log(y_stds)[0]))\n",
    "\n",
    "    train_rmses.append(train_rmse.cpu().data.numpy())\n",
    "    test_rmses.append(test_rmse.cpu().data.numpy())\n",
    "\n",
    "    plt.figure()\n",
    "    # plot history of accuracy\n",
    "    # Plot training & validation accuracy values\n",
    "    plt.plot(history_rmse)\n",
    "    plt.plot(history_rmse_test)\n",
    "    plt.title('Model accuracy')\n",
    "    plt.ylabel('RMSE')\n",
    "    plt.xlabel('Epoch')\n",
    "    plt.legend(['Train', 'Test'], loc='upper left')\n",
    "    plt.show()\n",
    "\n",
    "    plt.figure()\n",
    "    # Plot training & validation loss values\n",
    "    plt.plot(history_loss)\n",
    "    plt.plot(history_loss_test)\n",
    "    plt.title('Model loss')\n",
    "    plt.ylabel('Loss')\n",
    "    plt.xlabel('Epoch')\n",
    "    plt.legend(['Train', 'Test'], loc='upper left')\n",
    "    plt.show()\n",
    "\n",
    "    print('Train log. lik. = %6.3f +/- %6.3f' % (-np.array(train_logliks).mean(), np.array(train_logliks).var() ** 0.5))\n",
    "    print('Test  log. lik. = %6.3f +/- %6.3f' % (-np.array(test_logliks).mean(), np.array(test_logliks).var() ** 0.5))\n",
    "    print('Train RMSE      = %6.3f +/- %6.3f' % (np.array(train_rmses).mean(), np.array(train_rmses).var() ** 0.5))\n",
    "    print('Test  RMSE      = %6.3f +/- %6.3f' % (np.array(test_rmses).mean(), np.array(test_rmses).var() ** 0.5))\n",
    "\n",
    "    return net, x_test, y_test"
   ]
  },
  {
   "cell_type": "markdown",
   "metadata": {},
   "source": [
    "Call the function to build the network"
   ]
  },
  {
   "cell_type": "code",
   "execution_count": 6,
   "metadata": {},
   "outputs": [
    {
     "name": "stdout",
     "output_type": "stream",
     "text": [
      "Epoch:    0, Train loss:  0.191 Test loss:  0.052 RMSE: 0.431\n",
      "Epoch:  100, Train loss: -0.612 Test loss: -0.600 RMSE: 0.089\n",
      "Epoch:  200, Train loss: -0.625 Test loss: -0.761 RMSE: 0.065\n",
      "Epoch:  300, Train loss: -0.625 Test loss: -0.835 RMSE: 0.086\n",
      "Epoch:  399, Train loss: -0.690 Test loss: -0.895 RMSE: 0.064\n"
     ]
    },
    {
     "data": {
      "image/png": "[encoded data removed]",
      "text/plain": [
       "<Figure size 432x288 with 1 Axes>"
      ]
     },
     "metadata": {
      "needs_background": "light"
     },
     "output_type": "display_data"
    },
    {
     "data": {
      "image/png": "[encoded data removed]",
      "text/plain": [
       "<Figure size 432x288 with 1 Axes>"
      ]
     },
     "metadata": {
      "needs_background": "light"
     },
     "output_type": "display_data"
    },
    {
     "name": "stdout",
     "output_type": "stream",
     "text": [
      "Train log. lik. =  2.107 +/-  0.000\n",
      "Test  log. lik. =  2.099 +/-  0.000\n",
      "Train RMSE      =  0.101 +/-  0.000\n",
      "Test  RMSE      =  0.081 +/-  0.000\n"
     ]
    }
   ],
   "source": [
    "seed = 1\n",
    "set_seed(seed)\n",
    "\n",
    "# Parameters\n",
    "wght_decay, p_drop, learn_rate = 1e-3, 0.1, 5e-3\n",
    "train_data_ratio, nb_units, nb_epochs = 0.7, 10, 400\n",
    "\n",
    "net, x_tst, y_tst = train_mc_dropout(data=data, drop_prob=p_drop, num_epochs=nb_epochs, \n",
    "                                     ratio_train_data=train_data_ratio, num_units=nb_units, learn_rate=learn_rate, \n",
    "                                     weight_decay=wght_decay, num_samples=10, log_every=100)"
   ]
  },
  {
   "cell_type": "markdown",
   "metadata": {},
   "source": [
    "Test the model using the unique temperature values of the test data and plot the predictions with both epistemic and aleatoric uncertainty. The epistemic uncertainty is obtained by running the BNN (MC dropout) several times."
   ]
  },
  {
   "cell_type": "code",
   "execution_count": 25,
   "metadata": {},
   "outputs": [],
   "source": [
    "#--------------------------------------#\n",
    "# sobol samples & candidate points\n",
    "#--------------------------------------#\n",
    "n = 100\n",
    "d = x_exp.shape[1] # dimension of input\n",
    "\n",
    "# intialise data of lists.\n",
    "X1 = pd.DataFrame(np.random.uniform(0,1,size=(n,d)), columns=['X1', 'X2'])\n",
    "X2 = pd.DataFrame(np.random.uniform(0,1,size=(n,d)), columns=['X1', 'X2'])\n",
    "candidate = pd.DataFrame(np.random.uniform(0,1,size=(10,d)), columns=['X1', 'X2'])"
   ]
  },
  {
   "cell_type": "code",
   "execution_count": 26,
   "metadata": {},
   "outputs": [],
   "source": [
    "X1_np = X1.to_numpy()\n",
    "X2_np = X2.to_numpy()\n",
    "candidate_np = candidate.to_numpy()\n",
    "inp_sim = np.vstack((X1_np,X2_np,candidate_np))"
   ]
  },
  {
   "cell_type": "code",
   "execution_count": 8,
   "metadata": {},
   "outputs": [
    {
     "name": "stdout",
     "output_type": "stream",
     "text": [
      "Aleatoric uncertainty mean: 0.1690, Epistemic uncertainty mean: 0.0719, Total uncertainty mean: 0.1858\n",
      "Aleatoric uncertainty std: 0.0379, Epistemic uncertainty std: 0.0259, Total uncertainty std: 0.0365\n"
     ]
    }
   ],
   "source": [
    "# Get a tuple of unique values & their first index location from a numpy array\n",
    "uniqueValues, indicesList = np.unique(x_tst[:,0], return_index=True)\n",
    "x_tst = x_tst[indicesList]\n",
    "\n",
    "# Only use the selected unique test data\n",
    "y_tst = y_tst[indicesList]\n",
    "\n",
    "x_pred = torch.tensor(x_tst.astype(np.float32)) # convert to torch tensor\n",
    "# x_pred = torch.tensor(inp_sim.astype(np.float32)) # convert to torch tensor\n",
    "\n",
    "samples = []\n",
    "noises = []\n",
    "for i in range(10):\n",
    "    preds = net.network.forward(x_pred).cpu().data.numpy()\n",
    "    samples.append(preds[:,0][:,np.newaxis])\n",
    "    noises.append(preds[:,1][:,np.newaxis])\n",
    "\n",
    "samples = np.array(samples)\n",
    "samples = np.squeeze(samples)\n",
    "noises = np.exp(noises)\n",
    "means = (samples.mean(axis=0)).reshape(-1)\n",
    "\n",
    "aleatoric = (noises ** 2).mean(axis=0) ** 0.5\n",
    "epistemic = (samples.var(axis=0) ** 0.5).reshape(-1)\n",
    "total_unc = (aleatoric ** 2 + epistemic ** 2) ** 0.5\n",
    "\n",
    "print(\"Aleatoric uncertainty mean: {0:.4f}, Epistemic uncertainty mean: {1:.4f}, Total uncertainty mean: {2:.4f}\"\n",
    "      .format(aleatoric.mean(), epistemic.mean(), total_unc.mean()))\n",
    "print(\"Aleatoric uncertainty std: {0:.4f}, Epistemic uncertainty std: {1:.4f}, Total uncertainty std: {2:.4f}\"\n",
    "      .format(aleatoric.std(), epistemic.std(), total_unc.std()))"
   ]
  },
  {
   "cell_type": "code",
   "execution_count": 9,
   "metadata": {},
   "outputs": [
    {
     "data": {
      "text/plain": [
       "array([[ 1.17594555e-01,  4.17557180e-01,  1.12295121e-01,\n",
       "         1.22119844e-01,  1.95590675e-01, -1.28344178e-01,\n",
       "         8.93718749e-03,  3.33004951e-01,  2.42444217e-01,\n",
       "         5.21436594e-02, -1.58569831e-02],\n",
       "       [ 1.84459835e-01,  3.77541661e-01,  1.90384194e-01,\n",
       "         6.60822541e-02,  2.91458189e-01, -2.28073932e-02,\n",
       "         7.91862980e-03,  5.92103422e-01,  2.06190422e-01,\n",
       "         1.68188557e-01,  7.02329725e-02],\n",
       "       [ 1.67301089e-01,  2.14875758e-01,  4.87912558e-02,\n",
       "         1.35747522e-01,  3.28989029e-01,  1.46106258e-03,\n",
       "         1.97375491e-02,  2.99628675e-01,  2.80091703e-01,\n",
       "         6.87469244e-02, -6.81720078e-02],\n",
       "       [ 1.89437240e-01,  5.77687204e-01,  1.22888818e-01,\n",
       "         2.19931304e-01,  2.73731530e-01, -4.22625616e-02,\n",
       "         3.47254053e-03,  3.27941269e-01,  2.91659951e-01,\n",
       "         1.95336282e-01,  1.61265150e-01],\n",
       "       [ 1.48084417e-01,  3.14393759e-01, -6.27665222e-02,\n",
       "         1.35481209e-01,  3.61323297e-01, -9.15563703e-02,\n",
       "         3.99462879e-03,  5.45274794e-01,  9.21996534e-02,\n",
       "         3.50382552e-03,  4.54371311e-02],\n",
       "       [ 1.35653213e-01,  2.69737571e-01,  9.42721963e-05,\n",
       "         5.17939739e-02,  1.76192537e-01, -1.18252411e-02,\n",
       "         5.70411943e-02,  5.93793213e-01,  4.10461992e-01,\n",
       "         1.92762241e-01,  1.18185319e-02],\n",
       "       [ 2.45161593e-01,  3.54904324e-01,  5.79238795e-02,\n",
       "         6.61334842e-02,  2.20392108e-01, -1.14578828e-01,\n",
       "         9.08967853e-02,  4.47519481e-01,  3.36882591e-01,\n",
       "         1.12933427e-01,  1.80588663e-01],\n",
       "       [ 1.55003831e-01,  3.39579076e-01,  9.02145654e-02,\n",
       "         3.00939567e-02,  2.60720432e-01, -4.25714999e-04,\n",
       "         1.93018615e-02,  4.51463282e-01,  4.51398671e-01,\n",
       "         1.91606551e-01,  2.45424099e-02],\n",
       "       [ 1.70258343e-01,  4.05062526e-01,  4.78400998e-02,\n",
       "         1.50710225e-01,  4.05679166e-01, -1.49702236e-01,\n",
       "         9.28524584e-02,  3.16942960e-01,  2.44311064e-01,\n",
       "         1.18159443e-01,  6.27822727e-02],\n",
       "       [ 2.75730968e-01,  2.17713684e-01,  9.17669684e-02,\n",
       "         6.82596862e-02,  2.10435241e-01,  1.31203979e-03,\n",
       "         3.45846154e-02,  6.58243835e-01,  3.22139561e-01,\n",
       "         6.96075410e-02,  9.14921761e-02]], dtype=float32)"
      ]
     },
     "execution_count": 9,
     "metadata": {},
     "output_type": "execute_result"
    }
   ],
   "source": [
    "samples"
   ]
  },
  {
   "cell_type": "code",
   "execution_count": 74,
   "metadata": {},
   "outputs": [
    {
     "name": "stdout",
     "output_type": "stream",
     "text": [
      "Aleatoric uncertainty mean: 0.2866, Epistemic uncertainty mean: 0.0168, Total uncertainty mean: 0.2871\n",
      "Aleatoric uncertainty std: 0.0147, Epistemic uncertainty std: 0.0033, Total uncertainty std: 0.0146\n"
     ]
    }
   ],
   "source": [
    "# # Get a tuple of unique values & their first index location from a numpy array\n",
    "# uniqueValues, indicesList = np.unique(x_tst[:,0], return_index=True)\n",
    "# x_tst = x_tst[indicesList]\n",
    "\n",
    "# # Only use the selected unique test data\n",
    "# y_tst = y_tst[indicesList]\n",
    "\n",
    "# x_pred = torch.tensor(x_tst.astype(np.float32)) # convert to torch tensor\n",
    "\n",
    "# samples = []\n",
    "# noises = []\n",
    "# for i in range(100):\n",
    "#     preds = net.network.forward(x_pred).cpu().data.numpy()\n",
    "#     samples.append(denormalize_max_min(preds[:, 0], max_y, min_y))\n",
    "#     noises.append(denormalize_max_min(np.exp(preds[:, 1]), max_y, min_y))\n",
    "\n",
    "# samples = np.array(samples)\n",
    "# noises = np.array(noises)\n",
    "# means = (samples.mean(axis=0)).reshape(-1)\n",
    "\n",
    "# aleatoric = (noises ** 2).mean(axis=0) ** 0.5\n",
    "# epistemic = (samples.var(axis=0) ** 0.5).reshape(-1)\n",
    "# total_unc = (aleatoric ** 2 + epistemic ** 2) ** 0.5\n",
    "\n",
    "# print(\"Aleatoric uncertainty mean: {0:.4f}, Epistemic uncertainty mean: {1:.4f}, Total uncertainty mean: {2:.4f}\"\n",
    "#       .format(aleatoric.mean(), epistemic.mean(), total_unc.mean()))\n",
    "# print(\"Aleatoric uncertainty std: {0:.4f}, Epistemic uncertainty std: {1:.4f}, Total uncertainty std: {2:.4f}\"\n",
    "#       .format(aleatoric.std(), epistemic.std(), total_unc.std()))"
   ]
  },
  {
   "cell_type": "markdown",
   "metadata": {},
   "source": [
    "Plot predictions with predictive mean and variance"
   ]
  },
  {
   "cell_type": "code",
   "execution_count": 48,
   "metadata": {},
   "outputs": [
    {
     "ename": "ValueError",
     "evalue": "Input passed into argument \"'y2'\"is not 1-dimensional.",
     "output_type": "error",
     "traceback": [
      "\u001b[1;31m---------------------------------------------------------------------------\u001b[0m",
      "\u001b[1;31mValueError\u001b[0m                                Traceback (most recent call last)",
      "\u001b[1;32m<ipython-input-48-7df9a980404f>\u001b[0m in \u001b[0;36m<module>\u001b[1;34m\u001b[0m\n\u001b[0;32m     11\u001b[0m \u001b[0mplt\u001b[0m\u001b[1;33m.\u001b[0m\u001b[0mplot\u001b[0m\u001b[1;33m(\u001b[0m\u001b[0mx_tst\u001b[0m\u001b[1;33m[\u001b[0m\u001b[1;33m:\u001b[0m\u001b[1;33m,\u001b[0m\u001b[1;36m0\u001b[0m\u001b[1;33m]\u001b[0m\u001b[1;33m,\u001b[0m \u001b[0my_tst\u001b[0m\u001b[1;33m,\u001b[0m \u001b[1;34m'b.'\u001b[0m\u001b[1;33m,\u001b[0m \u001b[0mlabel\u001b[0m\u001b[1;33m=\u001b[0m\u001b[1;34m'Observations'\u001b[0m\u001b[1;33m)\u001b[0m\u001b[1;33m;\u001b[0m\u001b[1;33m\u001b[0m\u001b[1;33m\u001b[0m\u001b[0m\n\u001b[0;32m     12\u001b[0m plt.fill_between(x_tst[:,0], means + epistemic, means + total_unc, color=c[0], alpha=0.3,\n\u001b[1;32m---> 13\u001b[1;33m                  label='Epistemic + Aleatoric')\n\u001b[0m\u001b[0;32m     14\u001b[0m \u001b[0mplt\u001b[0m\u001b[1;33m.\u001b[0m\u001b[0mfill_between\u001b[0m\u001b[1;33m(\u001b[0m\u001b[0mx_tst\u001b[0m\u001b[1;33m[\u001b[0m\u001b[1;33m:\u001b[0m\u001b[1;33m,\u001b[0m\u001b[1;36m0\u001b[0m\u001b[1;33m]\u001b[0m\u001b[1;33m,\u001b[0m \u001b[0mmeans\u001b[0m \u001b[1;33m-\u001b[0m \u001b[0mtotal_unc\u001b[0m\u001b[1;33m,\u001b[0m \u001b[0mmeans\u001b[0m \u001b[1;33m-\u001b[0m \u001b[0mepistemic\u001b[0m\u001b[1;33m,\u001b[0m \u001b[0mcolor\u001b[0m\u001b[1;33m=\u001b[0m\u001b[0mc\u001b[0m\u001b[1;33m[\u001b[0m\u001b[1;36m0\u001b[0m\u001b[1;33m]\u001b[0m\u001b[1;33m,\u001b[0m \u001b[0malpha\u001b[0m\u001b[1;33m=\u001b[0m\u001b[1;36m0.3\u001b[0m\u001b[1;33m)\u001b[0m\u001b[1;33m\u001b[0m\u001b[1;33m\u001b[0m\u001b[0m\n\u001b[0;32m     15\u001b[0m plt.fill_between(x_tst[:,0], means - epistemic, means + epistemic, color=c[1], alpha=0.4,\n",
      "\u001b[1;32m~\\Miniconda3\\envs\\pytR_BNN\\lib\\site-packages\\matplotlib\\pyplot.py\u001b[0m in \u001b[0;36mfill_between\u001b[1;34m(x, y1, y2, where, interpolate, step, data, **kwargs)\u001b[0m\n\u001b[0;32m   2558\u001b[0m     return gca().fill_between(\n\u001b[0;32m   2559\u001b[0m         \u001b[0mx\u001b[0m\u001b[1;33m,\u001b[0m \u001b[0my1\u001b[0m\u001b[1;33m,\u001b[0m \u001b[0my2\u001b[0m\u001b[1;33m=\u001b[0m\u001b[0my2\u001b[0m\u001b[1;33m,\u001b[0m \u001b[0mwhere\u001b[0m\u001b[1;33m=\u001b[0m\u001b[0mwhere\u001b[0m\u001b[1;33m,\u001b[0m \u001b[0minterpolate\u001b[0m\u001b[1;33m=\u001b[0m\u001b[0minterpolate\u001b[0m\u001b[1;33m,\u001b[0m \u001b[0mstep\u001b[0m\u001b[1;33m=\u001b[0m\u001b[0mstep\u001b[0m\u001b[1;33m,\u001b[0m\u001b[1;33m\u001b[0m\u001b[1;33m\u001b[0m\u001b[0m\n\u001b[1;32m-> 2560\u001b[1;33m         **({\"data\": data} if data is not None else {}), **kwargs)\n\u001b[0m\u001b[0;32m   2561\u001b[0m \u001b[1;33m\u001b[0m\u001b[0m\n\u001b[0;32m   2562\u001b[0m \u001b[1;33m\u001b[0m\u001b[0m\n",
      "\u001b[1;32m~\\Miniconda3\\envs\\pytR_BNN\\lib\\site-packages\\matplotlib\\__init__.py\u001b[0m in \u001b[0;36minner\u001b[1;34m(ax, data, *args, **kwargs)\u001b[0m\n\u001b[0;32m   1563\u001b[0m     \u001b[1;32mdef\u001b[0m \u001b[0minner\u001b[0m\u001b[1;33m(\u001b[0m\u001b[0max\u001b[0m\u001b[1;33m,\u001b[0m \u001b[1;33m*\u001b[0m\u001b[0margs\u001b[0m\u001b[1;33m,\u001b[0m \u001b[0mdata\u001b[0m\u001b[1;33m=\u001b[0m\u001b[1;32mNone\u001b[0m\u001b[1;33m,\u001b[0m \u001b[1;33m**\u001b[0m\u001b[0mkwargs\u001b[0m\u001b[1;33m)\u001b[0m\u001b[1;33m:\u001b[0m\u001b[1;33m\u001b[0m\u001b[1;33m\u001b[0m\u001b[0m\n\u001b[0;32m   1564\u001b[0m         \u001b[1;32mif\u001b[0m \u001b[0mdata\u001b[0m \u001b[1;32mis\u001b[0m \u001b[1;32mNone\u001b[0m\u001b[1;33m:\u001b[0m\u001b[1;33m\u001b[0m\u001b[1;33m\u001b[0m\u001b[0m\n\u001b[1;32m-> 1565\u001b[1;33m             \u001b[1;32mreturn\u001b[0m \u001b[0mfunc\u001b[0m\u001b[1;33m(\u001b[0m\u001b[0max\u001b[0m\u001b[1;33m,\u001b[0m \u001b[1;33m*\u001b[0m\u001b[0mmap\u001b[0m\u001b[1;33m(\u001b[0m\u001b[0msanitize_sequence\u001b[0m\u001b[1;33m,\u001b[0m \u001b[0margs\u001b[0m\u001b[1;33m)\u001b[0m\u001b[1;33m,\u001b[0m \u001b[1;33m**\u001b[0m\u001b[0mkwargs\u001b[0m\u001b[1;33m)\u001b[0m\u001b[1;33m\u001b[0m\u001b[1;33m\u001b[0m\u001b[0m\n\u001b[0m\u001b[0;32m   1566\u001b[0m \u001b[1;33m\u001b[0m\u001b[0m\n\u001b[0;32m   1567\u001b[0m         \u001b[0mbound\u001b[0m \u001b[1;33m=\u001b[0m \u001b[0mnew_sig\u001b[0m\u001b[1;33m.\u001b[0m\u001b[0mbind\u001b[0m\u001b[1;33m(\u001b[0m\u001b[0max\u001b[0m\u001b[1;33m,\u001b[0m \u001b[1;33m*\u001b[0m\u001b[0margs\u001b[0m\u001b[1;33m,\u001b[0m \u001b[1;33m**\u001b[0m\u001b[0mkwargs\u001b[0m\u001b[1;33m)\u001b[0m\u001b[1;33m\u001b[0m\u001b[1;33m\u001b[0m\u001b[0m\n",
      "\u001b[1;32m~\\Miniconda3\\envs\\pytR_BNN\\lib\\site-packages\\matplotlib\\axes\\_axes.py\u001b[0m in \u001b[0;36mfill_between\u001b[1;34m(self, x, y1, y2, where, interpolate, step, **kwargs)\u001b[0m\n\u001b[0;32m   5144\u001b[0m             \u001b[1;32mif\u001b[0m \u001b[0marray\u001b[0m\u001b[1;33m.\u001b[0m\u001b[0mndim\u001b[0m \u001b[1;33m>\u001b[0m \u001b[1;36m1\u001b[0m\u001b[1;33m:\u001b[0m\u001b[1;33m\u001b[0m\u001b[1;33m\u001b[0m\u001b[0m\n\u001b[0;32m   5145\u001b[0m                 raise ValueError('Input passed into argument \"%r\"' % name +\n\u001b[1;32m-> 5146\u001b[1;33m                                  'is not 1-dimensional.')\n\u001b[0m\u001b[0;32m   5147\u001b[0m \u001b[1;33m\u001b[0m\u001b[0m\n\u001b[0;32m   5148\u001b[0m         \u001b[1;32mif\u001b[0m \u001b[0mwhere\u001b[0m \u001b[1;32mis\u001b[0m \u001b[1;32mNone\u001b[0m\u001b[1;33m:\u001b[0m\u001b[1;33m\u001b[0m\u001b[1;33m\u001b[0m\u001b[0m\n",
      "\u001b[1;31mValueError\u001b[0m: Input passed into argument \"'y2'\"is not 1-dimensional."
     ]
    },
    {
     "data": {
      "image/png": "[encoded data removed]",
      "text/plain": [
       "<Figure size 432x360 with 1 Axes>"
      ]
     },
     "metadata": {
      "needs_background": "light"
     },
     "output_type": "display_data"
    }
   ],
   "source": [
    "c = ['#1f77b4', '#ff7f0e', '#2ca02c', '#d62728', '#9467bd',\n",
    "     '#8c564b', '#e377c2', '#7f7f7f', '#bcbd22', '#17becf']\n",
    "\n",
    "# denormalize test data\n",
    "# x_tst = denormalize_max_min(x_tst, max_x, min_x)\n",
    "# y_tst = denormalize_max_min(y_tst, max_y, min_y)\n",
    "\n",
    "# PLOT FIGURES\n",
    "plt.figure(figsize=(6, 5))\n",
    "plt.style.use('default')\n",
    "plt.plot(x_tst[:,0], y_tst, 'b.', label='Observations');\n",
    "plt.fill_between(x_tst[:,0], means + epistemic, means + total_unc, color=c[0], alpha=0.3,\n",
    "                 label='Epistemic + Aleatoric')\n",
    "plt.fill_between(x_tst[:,0], means - total_unc, means - epistemic, color=c[0], alpha=0.3)\n",
    "plt.fill_between(x_tst[:,0], means - epistemic, means + epistemic, color=c[1], alpha=0.4,\n",
    "                 label='Epistemic')\n",
    "plt.plot(x_tst[:,0], means, color='black', linewidth=1, label='Predictive mean')\n",
    "plt.xlabel('$x$', fontsize=16)\n",
    "plt.title('MC dropout', fontsize=20)\n",
    "plt.legend()\n",
    "plt.show()"
   ]
  },
  {
   "cell_type": "code",
   "execution_count": null,
   "metadata": {},
   "outputs": [],
   "source": []
  }
 ],
 "metadata": {
  "kernelspec": {
   "display_name": "Python 3",
   "language": "python",
   "name": "python3"
  },
  "language_info": {
   "codemirror_mode": {
    "name": "ipython",
    "version": 3
   },
   "file_extension": ".py",
   "mimetype": "text/x-python",
   "name": "python",
   "nbconvert_exporter": "python",
   "pygments_lexer": "ipython3",
   "version": "3.6.10"
  }
 },
 "nbformat": 4,
 "nbformat_minor": 2
}
