{
 "cells": [
  {
   "cell_type": "code",
   "execution_count": 1,
   "metadata": {},
   "outputs": [],
   "source": [
    "library(\"reticulate\")\n",
    "use_python(\"C:/Users/berkc/Miniconda3/envs/pytR-Keras\", required = T)\n",
    "# py_config()\n",
    "\n",
    "library(DiceKriging)\n",
    "# library(foreign)"
   ]
  },
  {
   "cell_type": "code",
   "execution_count": 2,
   "metadata": {},
   "outputs": [],
   "source": [
    "source(\"sobolNN.r\")\n",
    "source(\"sobolGPmethods.R\")\n",
    "source(\"pickfreeze.R\")"
   ]
  },
  {
   "cell_type": "markdown",
   "metadata": {},
   "source": [
    "# Train NN model"
   ]
  },
  {
   "cell_type": "code",
   "execution_count": 3,
   "metadata": {},
   "outputs": [],
   "source": [
    "# #--------------------------------------#\n",
    "# # sobol samples & candidate points\n",
    "# #--------------------------------------#\n",
    "# d <- 2; n <- 15000\n",
    "\n",
    "# X1 <- data.frame(matrix(runif(d * n), nrow = n))\n",
    "# X2 <- data.frame(matrix(runif(d * n), nrow = n))\n",
    "\n",
    "# # X1 <- data.frame(matrix(runif(d * n), nrow = n), matrix(rep(1,d * n), nrow = n) )\n",
    "# # X2 <- data.frame(matrix(runif(d * n), nrow = n), matrix(rep(1,d * n), nrow = n) )\n",
    "\n",
    "# candidate <- data.frame(matrix(runif(d * 2), nrow = 2))"
   ]
  },
  {
   "cell_type": "code",
   "execution_count": 4,
   "metadata": {},
   "outputs": [],
   "source": [
    "# # numobs <- c(5,10,15,20,25,30,35,38)\n",
    "# # numobs <- seq(10,1300,50)\n",
    "# # DNN_name <- \"DNN_MC\"\n",
    "# # DNN_name <- \"DNN_pre_loss\"\n",
    "# # DNN_name <- \"DNN_loss_hyb\"\n",
    "\n",
    "\n",
    "# # case <- c(\"DNN_loss_MC\",\"DNN_hyb_MC\",\"DNN_upd_MC\",\n",
    "# #         \"DNN_loss_hyb_MC\",\"DNN_upd_hyb_MC\",\"DNN_upd_loss_MC\",\n",
    "# #         \"DNN_upd_loss_hyb_MC\")\n",
    "\n",
    "# d <- 2; n <- 15000\n",
    "# candidate <- data.frame(matrix(runif(d * 2), nrow = 2))\n",
    "# X1 <- data.frame(matrix(runif(d * n), nrow = n))\n",
    "# X2 <- data.frame(matrix(runif(d * n), nrow = n))"
   ]
  },
  {
   "cell_type": "code",
   "execution_count": 6,
   "metadata": {},
   "outputs": [
    {
     "name": "stdout",
     "output_type": "stream",
     "text": [
      "DNN.py"
     ]
    },
    {
     "name": "stderr",
     "output_type": "stream",
     "text": [
      "Warning message in write.table(dat, filename, sep = \",\", col.names = !file.exists(filename), :\n",
      "\"appending column names to file\"\n",
      "Warning message in write.table(datT, filenameT, sep = \",\", col.names = !file.exists(filenameT), :\n",
      "\"appending column names to file\"\n"
     ]
    },
    {
     "name": "stdout",
     "output_type": "stream",
     "text": [
      "DNN_loss.py"
     ]
    },
    {
     "name": "stderr",
     "output_type": "stream",
     "text": [
      "Warning message in write.table(dat, filename, sep = \",\", col.names = !file.exists(filename), :\n",
      "\"appending column names to file\"\n",
      "Warning message in write.table(datT, filenameT, sep = \",\", col.names = !file.exists(filenameT), :\n",
      "\"appending column names to file\"\n"
     ]
    },
    {
     "name": "stdout",
     "output_type": "stream",
     "text": [
      "DNN_hyb.py"
     ]
    },
    {
     "name": "stderr",
     "output_type": "stream",
     "text": [
      "Warning message in write.table(dat, filename, sep = \",\", col.names = !file.exists(filename), :\n",
      "\"appending column names to file\"\n",
      "Warning message in write.table(datT, filenameT, sep = \",\", col.names = !file.exists(filenameT), :\n",
      "\"appending column names to file\"\n"
     ]
    },
    {
     "name": "stdout",
     "output_type": "stream",
     "text": [
      "DNN_upd.py"
     ]
    },
    {
     "name": "stderr",
     "output_type": "stream",
     "text": [
      "Warning message in write.table(dat, filename, sep = \",\", col.names = !file.exists(filename), :\n",
      "\"appending column names to file\"\n",
      "Warning message in write.table(datT, filenameT, sep = \",\", col.names = !file.exists(filenameT), :\n",
      "\"appending column names to file\"\n"
     ]
    },
    {
     "name": "stdout",
     "output_type": "stream",
     "text": [
      "DNN_loss_hyb.py"
     ]
    },
    {
     "name": "stderr",
     "output_type": "stream",
     "text": [
      "Warning message in write.table(dat, filename, sep = \",\", col.names = !file.exists(filename), :\n",
      "\"appending column names to file\"\n",
      "Warning message in write.table(datT, filenameT, sep = \",\", col.names = !file.exists(filenameT), :\n",
      "\"appending column names to file\"\n"
     ]
    },
    {
     "name": "stdout",
     "output_type": "stream",
     "text": [
      "DNN_upd_hyb.py"
     ]
    },
    {
     "name": "stderr",
     "output_type": "stream",
     "text": [
      "Warning message in write.table(dat, filename, sep = \",\", col.names = !file.exists(filename), :\n",
      "\"appending column names to file\"\n",
      "Warning message in write.table(datT, filenameT, sep = \",\", col.names = !file.exists(filenameT), :\n",
      "\"appending column names to file\"\n"
     ]
    },
    {
     "name": "stdout",
     "output_type": "stream",
     "text": [
      "DNN_upd_loss.py"
     ]
    },
    {
     "name": "stderr",
     "output_type": "stream",
     "text": [
      "Warning message in write.table(dat, filename, sep = \",\", col.names = !file.exists(filename), :\n",
      "\"appending column names to file\"\n",
      "Warning message in write.table(datT, filenameT, sep = \",\", col.names = !file.exists(filenameT), :\n",
      "\"appending column names to file\"\n"
     ]
    },
    {
     "name": "stdout",
     "output_type": "stream",
     "text": [
      "DNN_upd_loss_hyb.py"
     ]
    },
    {
     "name": "stderr",
     "output_type": "stream",
     "text": [
      "Warning message in write.table(dat, filename, sep = \",\", col.names = !file.exists(filename), :\n",
      "\"appending column names to file\"\n",
      "Warning message in write.table(datT, filenameT, sep = \",\", col.names = !file.exists(filenameT), :\n",
      "\"appending column names to file\"\n"
     ]
    }
   ],
   "source": [
    "numobs <- c(5,10,20,30,38)\n",
    "\n",
    "# case <- c(\"DNN_MC\",\"DNN_loss_MC\",\"DNN_hyb_MC\",\"DNN_upd_MC\",\n",
    "#         \"DNN_loss_hyb_MC\",\"DNN_upd_hyb_MC\",\"DNN_upd_loss_MC\",\n",
    "#         \"DNN_upd_loss_hyb_MC\")\n",
    "\n",
    "case <- c(\"DNN\",\"DNN_loss\",\"DNN_hyb\",\"DNN_upd\",\n",
    "        \"DNN_loss_hyb\",\"DNN_upd_hyb\",\"DNN_upd_loss\",\n",
    "        \"DNN_upd_loss_hyb\")\n",
    "\n",
    "# numobs <- c(10)\n",
    "# case <- c(\"DNN\")\n",
    "d <- 2; n <- 15000\n",
    "candidate <- data.frame(matrix(runif(d * 2), nrow = 2))\n",
    "\n",
    "for(j in case){\n",
    "    DNN_file = paste(j, \".py\", sep=\"\")\n",
    "    X1 <- data.frame(matrix(runif(d * n), nrow = n))\n",
    "    X2 <- data.frame(matrix(runif(d * n), nrow = n))\n",
    "    cat(DNN_file)\n",
    "#     if (DNN_file == \"DNN_hyb_MC.py\"||DNN_file == \"DNN_loss_hyb_MC.py\"||DNN_file == \"DNN_upd_hyb_MC.py\"||DNN_file == \"DNN_upd_loss_hyb_MC.py\"){\n",
    "    if (DNN_file == \"DNN_hyb.py\"||DNN_file == \"DNN_loss_hyb.py\"||DNN_file == \"DNN_upd_hyb.py\"||DNN_file == \"DNN_upd_loss_hyb.py\"){\n",
    "        X1 <- data.frame(matrix(runif(d * n), nrow = n), matrix(rep(1,d * n), nrow = n) )\n",
    "        X2 <- data.frame(matrix(runif(d * n), nrow = n), matrix(rep(1,d * n), nrow = n) )}\n",
    "    for(i in numobs){\n",
    "    \n",
    "        #--------------------------------------#\n",
    "        # Kriging-based Sobol\n",
    "        #--------------------------------------#\n",
    "        res <- sobolNN(\n",
    "        model = \"NN\",\n",
    "        type=\"UK\",\n",
    "        MCmethod=\"sobol2002\",\n",
    "        X1,\n",
    "        X2,\n",
    "        nsim = 2,\n",
    "        conf = 0.95,\n",
    "        nboot=1,\n",
    "        sequential = FALSE,\n",
    "        candidate,\n",
    "        sequential.tot=FALSE,\n",
    "        max_iter = 100,\n",
    "        filename=DNN_file,\n",
    "        nobs = i\n",
    "        )\n",
    "    #     filename=\"DNN.py\",\n",
    "    #     filename=\"simulateNN_Case4.py\",\n",
    "    #     res\n",
    "\n",
    "        # combine number of observation vector with Sobol indices\n",
    "        data <- cbind(i, res$S$mean)\n",
    "#         data <- cbind(i, res$S$mean, t(res$S$ci[1,]), t(res$S$ci[2,]))\n",
    "        dat <- as.data.frame(data)\n",
    "        \n",
    "        # total index\n",
    "        dataT <- cbind(i, res$T$mean)\n",
    "#         dataT <- cbind(i, res$T$mean, t(res$T$ci[1,]), t(res$T$ci[2,]))\n",
    "        datT <- as.data.frame(dataT)\n",
    "        \n",
    "        # write to file\n",
    "        results_dir <- \"../results/\"\n",
    "        # filename <- paste(results_dir, \"Case1_\", toString(num_obs), \".csv\", sep = \"\")\n",
    "        # write.csv(x=dat, file=filename)\n",
    "        # write.table(dat, file=filename, append=T)\n",
    "        filename <- paste(results_dir, paste(j, \"_first\",\".csv\", sep=\"\"), sep = \"\")\n",
    "        write.table(dat, filename, sep = \",\", col.names = !file.exists(filename), row.names = F, append = T)\n",
    "        \n",
    "        filenameT <- paste(results_dir, paste(j, \"_tot\",\".csv\", sep=\"\"), sep = \"\")\n",
    "        write.table(datT, filenameT, sep = \",\", col.names = !file.exists(filenameT), row.names = F, append = T)\n",
    "    }\n",
    "}    "
   ]
  },
  {
   "cell_type": "code",
   "execution_count": 231,
   "metadata": {},
   "outputs": [],
   "source": [
    "# data\n",
    "# dataT"
   ]
  },
  {
   "cell_type": "code",
   "execution_count": 232,
   "metadata": {},
   "outputs": [
    {
     "data": {
      "text/plain": [
       "\n",
       "Method: sobol2002\n",
       "\n",
       "Number of NN realizations: 2 \n",
       "\n",
       "Kriging type: UK \n",
       "\n",
       "    estimate std. error min. c.i. max. c.i.\n",
       "S1 0.2608676          0 0.2608676 0.2608676\n",
       "S2 0.7204761          0 0.7204761 0.7204761\n",
       "\n",
       "    estimate std. error min. c.i. max. c.i.\n",
       "T1 0.2830539          0 0.2830539 0.2830539\n",
       "T2 0.7263242          0 0.7263242 0.7263242\n"
      ]
     },
     "metadata": {},
     "output_type": "display_data"
    }
   ],
   "source": [
    "res[[1]]\n",
    "# apply(res[[2]],1,mean)\n",
    "# apply(res[[2]],1,var)"
   ]
  },
  {
   "cell_type": "code",
   "execution_count": null,
   "metadata": {},
   "outputs": [],
   "source": [
    "S1 0.2424604 0.004609966 0.2353203 0.2496602\n",
    "S2 0.6646780 0.004540946 0.6584361 0.6718668\n",
    "\n",
    "    estimate  std. error min. c.i. max. c.i.\n",
    "T1 0.3391445 0.007574126 0.3276518 0.3508801\n",
    "T2 0.7461548 0.007313244 0.7335377 0.7566731"
   ]
  },
  {
   "cell_type": "code",
   "execution_count": null,
   "metadata": {},
   "outputs": [],
   "source": [
    "   estimate std. error min. c.i. max. c.i.\n",
    "S1 0.3671159          0 0.3671159 0.3671159\n",
    "S2 0.6126435          0 0.6126435 0.6126435\n",
    "\n",
    "    estimate std. error min. c.i. max. c.i.\n",
    "T1 0.3907588          0 0.3907588 0.3907588\n",
    "T2 0.6202902          0 0.6202902 0.6202902"
   ]
  },
  {
   "cell_type": "code",
   "execution_count": null,
   "metadata": {},
   "outputs": [],
   "source": [
    "S1 0.3557066 0.003484474 0.3485018 0.3596903\n",
    "S2 0.5867660 0.003771858 0.5783495 0.5914058\n",
    "\n",
    "    estimate  std. error min. c.i. max. c.i.\n",
    "T1 0.4169655 0.006648042 0.4084149 0.4298154\n",
    "T2 0.6327742 0.005892105 0.6237122 0.6436568"
   ]
  },
  {
   "cell_type": "code",
   "execution_count": 5,
   "metadata": {},
   "outputs": [
    {
     "name": "stderr",
     "output_type": "stream",
     "text": [
      "Warning message in write.table(dat, filename, sep = \",\", col.names = !file.exists(filename), :\n",
      "\"appending column names to file\"\n"
     ]
    }
   ],
   "source": [
    "# for(i in numobs){\n",
    "    \n",
    "#     #--------------------------------------#\n",
    "#     # Kriging-based Sobol\n",
    "#     #--------------------------------------#\n",
    "#     res <- sobolNN(\n",
    "#     model = \"NN\",\n",
    "#     type=\"UK\",\n",
    "#     MCmethod=\"sobol\",\n",
    "#     X1,\n",
    "#     X2,\n",
    "#     nsim = 30,\n",
    "#     conf = 0.95,\n",
    "#     nboot=1,\n",
    "#     sequential = FALSE,\n",
    "#     candidate,\n",
    "#     sequential.tot=FALSE,\n",
    "#     max_iter = 100,\n",
    "#     filename=DNN_file,\n",
    "#     nobs = i\n",
    "#     )\n",
    "# #     filename=\"DNN.py\",\n",
    "# #     filename=\"simulateNN_Case4.py\",\n",
    "# #     res\n",
    "    \n",
    "#     # combine number of observation vector with Sobol indices\n",
    "# #     data <- cbind(i, res$S$mean)\n",
    "#     data <- cbind(i, res$S$mean, t(res$S$ci[1,]), t(res$S$ci[2,]))\n",
    "#     dat <- as.data.frame(data)\n",
    "    \n",
    "#     # write to file\n",
    "#     results_dir <- \"../results/\"\n",
    "#     # filename <- paste(results_dir, \"Case1_\", toString(num_obs), \".csv\", sep = \"\")\n",
    "#     # write.csv(x=dat, file=filename)\n",
    "#     # write.table(dat, file=filename, append=T)\n",
    "#     filename <- paste(results_dir, paste(DNN_name, \".csv\", sep=\"\"), sep = \"\")\n",
    "#     write.table(dat, filename, sep = \",\", col.names = !file.exists(filename), row.names = F, append = T)\n",
    "#     }"
   ]
  },
  {
   "cell_type": "code",
   "execution_count": 25,
   "metadata": {},
   "outputs": [
    {
     "data": {
      "text/plain": [
       "\n",
       "Method: sobol\n",
       "\n",
       "Number of NN realizations: 10 \n",
       "\n",
       "Kriging type: UK \n",
       "\n",
       "    estimate std. error min. c.i. max. c.i.\n",
       "S1 0.4848277          0 0.4848277 0.4848277\n",
       "S2 0.2829598          0 0.2829598 0.2829598\n"
      ]
     },
     "metadata": {},
     "output_type": "display_data"
    }
   ],
   "source": [
    "res"
   ]
  },
  {
   "cell_type": "code",
   "execution_count": 74,
   "metadata": {},
   "outputs": [
    {
     "data": {
      "text/plain": [
       "\n",
       "Method: sobol\n",
       "\n",
       "Number of NN realizations: 10 \n",
       "\n",
       "Kriging type: UK \n",
       "\n",
       "    estimate std. error min. c.i. max. c.i.\n",
       "S1 0.2053628          0 0.2053628 0.2053628\n",
       "S2 0.6144918          0 0.6144918 0.6144918\n"
      ]
     },
     "metadata": {},
     "output_type": "display_data"
    }
   ],
   "source": [
    "# #--------------------------------------#\n",
    "# # Kriging-based Sobol\n",
    "# #--------------------------------------#\n",
    "# res <- sobolNN(\n",
    "# model = \"NN\",\n",
    "# type=\"UK\",\n",
    "# MCmethod=\"sobol\",\n",
    "# X1,\n",
    "# X2,\n",
    "# nsim = 10,\n",
    "# conf = 0.95,\n",
    "# nboot=1,\n",
    "# sequential = FALSE,\n",
    "# candidate,\n",
    "# sequential.tot=FALSE,\n",
    "# max_iter = 100,\n",
    "# filename=\"simulateNN_Case2.py\",\n",
    "# nobs = num_obs\n",
    "# ) \n",
    "\n",
    "# res\n",
    "# # plot(res)\n",
    "# # x <- ask(res)\n",
    "# # y <- branin(x)\n",
    "# # The following line doesn't work (uncorrected bug: \n",
    "# #     unused argument in km(), passed by update(), eval(), tell.sobolGP() ??)\n",
    "# #res.new <- tell(res,y,x)\n",
    "# #res.new\n"
   ]
  },
  {
   "cell_type": "code",
   "execution_count": 75,
   "metadata": {},
   "outputs": [
    {
     "data": {
      "text/html": [
       "<table>\n",
       "<caption>A data.frame: 1 × 3</caption>\n",
       "<thead>\n",
       "\t<tr><th scope=col>num_obs</th><th scope=col>V2</th><th scope=col>V3</th></tr>\n",
       "\t<tr><th scope=col>&lt;dbl&gt;</th><th scope=col>&lt;dbl&gt;</th><th scope=col>&lt;dbl&gt;</th></tr>\n",
       "</thead>\n",
       "<tbody>\n",
       "\t<tr><td>39</td><td>0.2053628</td><td>0.6144918</td></tr>\n",
       "</tbody>\n",
       "</table>\n"
      ],
      "text/latex": [
       "A data.frame: 1 × 3\n",
       "\\begin{tabular}{lll}\n",
       " num\\_obs & V2 & V3\\\\\n",
       " <dbl> & <dbl> & <dbl>\\\\\n",
       "\\hline\n",
       "\t 39 & 0.2053628 & 0.6144918\\\\\n",
       "\\end{tabular}\n"
      ],
      "text/markdown": [
       "\n",
       "A data.frame: 1 × 3\n",
       "\n",
       "| num_obs &lt;dbl&gt; | V2 &lt;dbl&gt; | V3 &lt;dbl&gt; |\n",
       "|---|---|---|\n",
       "| 39 | 0.2053628 | 0.6144918 |\n",
       "\n"
      ],
      "text/plain": [
       "  num_obs V2        V3       \n",
       "1 39      0.2053628 0.6144918"
      ]
     },
     "metadata": {},
     "output_type": "display_data"
    }
   ],
   "source": [
    "# data <- cbind(num_obs, res$S$mean)\n",
    "# # data <- cbind(num_obs, res$S$mean, t(res$S$ci[1,]), t(res$S$ci[2,]))\n",
    "# dat <- as.data.frame(data)\n",
    "# dat"
   ]
  },
  {
   "cell_type": "code",
   "execution_count": 76,
   "metadata": {},
   "outputs": [],
   "source": [
    "# results_dir <- \"../results/\"\n",
    "# # filename <- paste(results_dir, \"Case1_\", toString(num_obs), \".csv\", sep = \"\")\n",
    "# # write.csv(x=dat, file=filename)\n",
    "# # write.table(dat, file=filename, append=T)\n",
    "# filename <- paste(results_dir, \"Case2.csv\", sep = \"\")\n",
    "# write.table(dat, filename, sep = \",\", col.names = !file.exists(filename), row.names = F, append = T)"
   ]
  },
  {
   "cell_type": "code",
   "execution_count": 19,
   "metadata": {},
   "outputs": [],
   "source": [
    "# res$S"
   ]
  },
  {
   "cell_type": "code",
   "execution_count": null,
   "metadata": {},
   "outputs": [],
   "source": []
  }
 ],
 "metadata": {
  "kernelspec": {
   "display_name": "R",
   "language": "R",
   "name": "ir"
  },
  "language_info": {
   "codemirror_mode": "r",
   "file_extension": ".r",
   "mimetype": "text/x-r-source",
   "name": "R",
   "pygments_lexer": "r",
   "version": "3.6.3"
  }
 },
 "nbformat": 4,
 "nbformat_minor": 4
}
