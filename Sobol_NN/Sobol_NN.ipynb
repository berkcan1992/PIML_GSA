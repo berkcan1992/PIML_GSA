{
 "cells": [
  {
   "cell_type": "code",
   "execution_count": 1,
   "metadata": {},
   "outputs": [],
   "source": [
    "library(\"reticulate\")\n",
    "use_python(\"C:/Users/berkc/Miniconda3/envs/pytR-Keras\", required = T)\n",
    "# py_config()\n",
    "\n",
    "library(DiceKriging)\n",
    "# library(foreign)"
   ]
  },
  {
   "cell_type": "code",
   "execution_count": 2,
   "metadata": {},
   "outputs": [],
   "source": [
    "source(\"sobolNN.r\")\n",
    "source(\"sobolGPmethods.R\")\n",
    "source(\"pickfreeze.R\")"
   ]
  },
  {
   "cell_type": "markdown",
   "metadata": {},
   "source": [
    "# Train NN model"
   ]
  },
  {
   "cell_type": "code",
   "execution_count": 3,
   "metadata": {},
   "outputs": [],
   "source": [
    "#--------------------------------------#\n",
    "# sobol samples & candidate points\n",
    "#--------------------------------------#\n",
    "d <- 4; n <- 15000\n",
    "\n",
    "X1 <- data.frame(matrix(runif(d * n), nrow = n))\n",
    "X2 <- data.frame(matrix(runif(d * n), nrow = n))\n",
    "\n",
    "candidate <- data.frame(matrix(runif(d * 2), nrow = 2))"
   ]
  },
  {
   "cell_type": "code",
   "execution_count": 4,
   "metadata": {},
   "outputs": [],
   "source": [
    "numobs <- c(5,10,15,20,25,30,35,38)\n",
    "# numobs <- seq(10,1300,50)\n",
    "# DNN_name <- \"DNN_pre\"\n",
    "# DNN_name <- \"DNN_loss\"\n",
    "DNN_name <- \"DNN_pre_loss_hyb\"\n",
    "DNN_file = paste(DNN_name, \".py\", sep=\"\")"
   ]
  },
  {
   "cell_type": "code",
   "execution_count": 6,
   "metadata": {},
   "outputs": [
    {
     "name": "stderr",
     "output_type": "stream",
     "text": [
      "Warning message in write.table(dat, filename, sep = \",\", col.names = !file.exists(filename), :\n",
      "\"appending column names to file\"\n"
     ]
    }
   ],
   "source": [
    "for(i in numobs){\n",
    "    \n",
    "    #--------------------------------------#\n",
    "    # Kriging-based Sobol\n",
    "    #--------------------------------------#\n",
    "    res <- sobolNN(\n",
    "    model = \"NN\",\n",
    "    type=\"UK\",\n",
    "    MCmethod=\"sobol\",\n",
    "    X1,\n",
    "    X2,\n",
    "    nsim = 2,\n",
    "    conf = 0.95,\n",
    "    nboot=1,\n",
    "    sequential = FALSE,\n",
    "    candidate,\n",
    "    sequential.tot=FALSE,\n",
    "    max_iter = 100,\n",
    "    filename=DNN_file,\n",
    "    nobs = i\n",
    "    )\n",
    "#     filename=\"DNN.py\",\n",
    "#     filename=\"simulateNN_Case4.py\",\n",
    "#     res\n",
    "    \n",
    "    # combine number of observation vector with Sobol indices\n",
    "    data <- cbind(i, res$S$mean)\n",
    "#     data <- cbind(i, res$S$mean, t(res$S$ci[1,]), t(res$S$ci[2,]))\n",
    "    dat <- as.data.frame(data)\n",
    "    \n",
    "    # write to file\n",
    "    results_dir <- \"../results/\"\n",
    "    # filename <- paste(results_dir, \"Case1_\", toString(num_obs), \".csv\", sep = \"\")\n",
    "    # write.csv(x=dat, file=filename)\n",
    "    # write.table(dat, file=filename, append=T)\n",
    "    filename <- paste(results_dir, paste(DNN_name, \".csv\", sep=\"\"), sep = \"\")\n",
    "    write.table(dat, filename, sep = \",\", col.names = !file.exists(filename), row.names = F, append = T)\n",
    "    }"
   ]
  },
  {
   "cell_type": "code",
   "execution_count": 114,
   "metadata": {},
   "outputs": [
    {
     "data": {
      "text/plain": [
       "\n",
       "Method: sobol\n",
       "\n",
       "Number of NN realizations: 2 \n",
       "\n",
       "Kriging type: UK \n",
       "\n",
       "    estimate std. error min. c.i. max. c.i.\n",
       "S1 0.1260647          0 0.1260647 0.1260647\n",
       "S2 0.7547547          0 0.7547547 0.7547547\n"
      ]
     },
     "metadata": {},
     "output_type": "display_data"
    }
   ],
   "source": [
    "res"
   ]
  },
  {
   "cell_type": "code",
   "execution_count": 74,
   "metadata": {},
   "outputs": [
    {
     "data": {
      "text/plain": [
       "\n",
       "Method: sobol\n",
       "\n",
       "Number of NN realizations: 10 \n",
       "\n",
       "Kriging type: UK \n",
       "\n",
       "    estimate std. error min. c.i. max. c.i.\n",
       "S1 0.2053628          0 0.2053628 0.2053628\n",
       "S2 0.6144918          0 0.6144918 0.6144918\n"
      ]
     },
     "metadata": {},
     "output_type": "display_data"
    }
   ],
   "source": [
    "# #--------------------------------------#\n",
    "# # Kriging-based Sobol\n",
    "# #--------------------------------------#\n",
    "# res <- sobolNN(\n",
    "# model = \"NN\",\n",
    "# type=\"UK\",\n",
    "# MCmethod=\"sobol\",\n",
    "# X1,\n",
    "# X2,\n",
    "# nsim = 10,\n",
    "# conf = 0.95,\n",
    "# nboot=1,\n",
    "# sequential = FALSE,\n",
    "# candidate,\n",
    "# sequential.tot=FALSE,\n",
    "# max_iter = 100,\n",
    "# filename=\"simulateNN_Case2.py\",\n",
    "# nobs = num_obs\n",
    "# ) \n",
    "\n",
    "# res\n",
    "# # plot(res)\n",
    "# # x <- ask(res)\n",
    "# # y <- branin(x)\n",
    "# # The following line doesn't work (uncorrected bug: \n",
    "# #     unused argument in km(), passed by update(), eval(), tell.sobolGP() ??)\n",
    "# #res.new <- tell(res,y,x)\n",
    "# #res.new\n"
   ]
  },
  {
   "cell_type": "code",
   "execution_count": 75,
   "metadata": {},
   "outputs": [
    {
     "data": {
      "text/html": [
       "<table>\n",
       "<caption>A data.frame: 1 × 3</caption>\n",
       "<thead>\n",
       "\t<tr><th scope=col>num_obs</th><th scope=col>V2</th><th scope=col>V3</th></tr>\n",
       "\t<tr><th scope=col>&lt;dbl&gt;</th><th scope=col>&lt;dbl&gt;</th><th scope=col>&lt;dbl&gt;</th></tr>\n",
       "</thead>\n",
       "<tbody>\n",
       "\t<tr><td>39</td><td>0.2053628</td><td>0.6144918</td></tr>\n",
       "</tbody>\n",
       "</table>\n"
      ],
      "text/latex": [
       "A data.frame: 1 × 3\n",
       "\\begin{tabular}{lll}\n",
       " num\\_obs & V2 & V3\\\\\n",
       " <dbl> & <dbl> & <dbl>\\\\\n",
       "\\hline\n",
       "\t 39 & 0.2053628 & 0.6144918\\\\\n",
       "\\end{tabular}\n"
      ],
      "text/markdown": [
       "\n",
       "A data.frame: 1 × 3\n",
       "\n",
       "| num_obs &lt;dbl&gt; | V2 &lt;dbl&gt; | V3 &lt;dbl&gt; |\n",
       "|---|---|---|\n",
       "| 39 | 0.2053628 | 0.6144918 |\n",
       "\n"
      ],
      "text/plain": [
       "  num_obs V2        V3       \n",
       "1 39      0.2053628 0.6144918"
      ]
     },
     "metadata": {},
     "output_type": "display_data"
    }
   ],
   "source": [
    "# data <- cbind(num_obs, res$S$mean)\n",
    "# # data <- cbind(num_obs, res$S$mean, t(res$S$ci[1,]), t(res$S$ci[2,]))\n",
    "# dat <- as.data.frame(data)\n",
    "# dat"
   ]
  },
  {
   "cell_type": "code",
   "execution_count": 76,
   "metadata": {},
   "outputs": [],
   "source": [
    "# results_dir <- \"../results/\"\n",
    "# # filename <- paste(results_dir, \"Case1_\", toString(num_obs), \".csv\", sep = \"\")\n",
    "# # write.csv(x=dat, file=filename)\n",
    "# # write.table(dat, file=filename, append=T)\n",
    "# filename <- paste(results_dir, \"Case2.csv\", sep = \"\")\n",
    "# write.table(dat, filename, sep = \",\", col.names = !file.exists(filename), row.names = F, append = T)"
   ]
  },
  {
   "cell_type": "code",
   "execution_count": 19,
   "metadata": {},
   "outputs": [],
   "source": [
    "# res$S"
   ]
  },
  {
   "cell_type": "code",
   "execution_count": null,
   "metadata": {},
   "outputs": [],
   "source": []
  }
 ],
 "metadata": {
  "kernelspec": {
   "display_name": "R",
   "language": "R",
   "name": "ir"
  },
  "language_info": {
   "codemirror_mode": "r",
   "file_extension": ".r",
   "mimetype": "text/x-r-source",
   "name": "R",
   "pygments_lexer": "r",
   "version": "3.6.3"
  }
 },
 "nbformat": 4,
 "nbformat_minor": 4
}
