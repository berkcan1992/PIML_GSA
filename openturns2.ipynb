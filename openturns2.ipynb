{
 "cells": [
  {
   "cell_type": "code",
   "execution_count": 125,
   "metadata": {},
   "outputs": [],
   "source": [
    "from keras.models import load_model\n",
    "from keras import backend as K\n",
    "import numpy as np"
   ]
  },
  {
   "cell_type": "code",
   "execution_count": 126,
   "metadata": {},
   "outputs": [],
   "source": [
    "results_dir = '../Physics-Informed-Machine-Learning/results_BK_v2_cnstTest/'\n",
    "model_name = results_dir + 'FeatureEng_Adadelta_drop0_nL2_nN10_trsize20_iter0_NoPhyInfomodel.h5' # storing the trained model\n",
    "\n",
    "data = np.loadtxt('../Physics-Informed-Machine-Learning/data/labeled_data.dat')\n",
    "x_labeled = data[:, :-4]\n",
    "y_labeled = data[:, -3:-2] # dimensionless bond length and porosity measurements"
   ]
  },
  {
   "cell_type": "code",
   "execution_count": 127,
   "metadata": {},
   "outputs": [],
   "source": [
    "inputs = np.hstack((x_labeled[:,0:2],x_labeled[:,-1:]))"
   ]
  },
  {
   "cell_type": "code",
   "execution_count": 128,
   "metadata": {},
   "outputs": [],
   "source": [
    "# Normalize the data.\n",
    "from sklearn import preprocessing\n",
    "\n",
    "# normalize dataset with MinMaxScaler\n",
    "scaler = preprocessing.MinMaxScaler(feature_range=(0.0, 1.0))\n",
    "inputs = scaler.fit_transform(inputs)"
   ]
  },
  {
   "cell_type": "code",
   "execution_count": 129,
   "metadata": {},
   "outputs": [],
   "source": [
    "def root_mean_squared_error(y_true, y_pred):\n",
    "    return K.sqrt(K.mean(K.square(y_pred - y_true), axis=-1))\n",
    "\n",
    "dependencies = {'root_mean_squared_error': root_mean_squared_error}\n",
    "\n",
    "# load the pre-trained model using non-calibrated physics-based model predictions (./data/unlabeled.dat)\n",
    "model_loaded = load_model(model_name, custom_objects=dependencies)"
   ]
  },
  {
   "cell_type": "code",
   "execution_count": 157,
   "metadata": {},
   "outputs": [
    {
     "name": "stdout",
     "output_type": "stream",
     "text": [
      "[5]\n"
     ]
    }
   ],
   "source": [
    "def model(X):\n",
    "    return model_loaded.predict(X)"
   ]
  },
  {
   "cell_type": "code",
   "execution_count": 131,
   "metadata": {},
   "outputs": [],
   "source": [
    "# model.predict(inputs)"
   ]
  },
  {
   "cell_type": "code",
   "execution_count": 158,
   "metadata": {},
   "outputs": [],
   "source": [
    "from __future__ import print_function\n",
    "import openturns as ot"
   ]
  },
  {
   "cell_type": "code",
   "execution_count": 169,
   "metadata": {},
   "outputs": [],
   "source": [
    "inputSample = inputs\n",
    "outputSample = y_labeled\n",
    "f = ot.DatabaseFunction(inputSample, outputSample)\n",
    "# x = [1.8]*database.getInputDimension()\n",
    "# print(database)"
   ]
  },
  {
   "cell_type": "code",
   "execution_count": 170,
   "metadata": {},
   "outputs": [],
   "source": [
    "# f = ot.PythonFunction(inputs.shape[1], y_labeled.shape[1], model)\n",
    "# f = ot.MemoizeFunction(f)\n",
    "# f.setOutputDescription([\"BL\"])"
   ]
  },
  {
   "cell_type": "code",
   "execution_count": 171,
   "metadata": {},
   "outputs": [],
   "source": [
    "# Create the input independent joint distribution\n",
    "distribution = ot.Normal(3)\n",
    "distribution.setDescription(['T', 'S', 'bl'])"
   ]
  },
  {
   "cell_type": "code",
   "execution_count": 172,
   "metadata": {},
   "outputs": [],
   "source": [
    "# Create the correlated input distribution\n",
    "corr = ot.CorrelationMatrix(3)\n",
    "corr[1, 0] = 0.46\n",
    "corr[2, 0] = 0.93\n",
    "corr[2, 1] = 0.74"
   ]
  },
  {
   "cell_type": "code",
   "execution_count": 173,
   "metadata": {},
   "outputs": [],
   "source": [
    "R = ot.NormalCopula.GetCorrelationFromSpearmanCorrelation(corr)\n",
    "copula = ot.NormalCopula(R)\n",
    "distribution_corr = ot.ComposedDistribution([ot.Normal()] * 3, copula)"
   ]
  },
  {
   "cell_type": "code",
   "execution_count": 174,
   "metadata": {},
   "outputs": [],
   "source": [
    "# ANCOVA needs a functional decomposition of the model\n",
    "enumerateFunction = ot.LinearEnumerateFunction(3)\n",
    "productBasis = ot.OrthogonalProductPolynomialFactory([ot.HermiteFactory()]*3, enumerateFunction)\n",
    "adaptiveStrategy = ot.FixedStrategy(productBasis, enumerateFunction.getStrataCumulatedCardinal(4))\n",
    "samplingSize = 250\n",
    "projectionStrategy = ot.LeastSquaresStrategy(ot.MonteCarloExperiment(samplingSize))\n",
    "algo = ot.FunctionalChaosAlgorithm(f, distribution, adaptiveStrategy, projectionStrategy)\n",
    "algo.run()\n",
    "result = ot.FunctionalChaosResult(algo.getResult())"
   ]
  },
  {
   "cell_type": "code",
   "execution_count": 175,
   "metadata": {},
   "outputs": [],
   "source": [
    "# Create the input sample taking account the correlation\n",
    "size = 2000\n",
    "sample = distribution_corr.getSample(size)"
   ]
  },
  {
   "cell_type": "code",
   "execution_count": 176,
   "metadata": {},
   "outputs": [],
   "source": [
    "# Perform the decomposition\n",
    "ancova = ot.ANCOVA(result, sample)\n",
    "# Compute the ANCOVA indices (first order and uncorrelated indices are computed together)\n",
    "indices = ancova.getIndices()\n",
    "# Retrieve uncorrelated indices\n",
    "uncorrelatedIndices = ancova.getUncorrelatedIndices()\n",
    "# Retrieve correlated indices:\n",
    "correlatedIndices = indices - uncorrelatedIndices"
   ]
  },
  {
   "cell_type": "code",
   "execution_count": 177,
   "metadata": {},
   "outputs": [
    {
     "name": "stdout",
     "output_type": "stream",
     "text": [
      "ANCOVA indices  [0.276873,0.269749,0.0176706]\n",
      "ANCOVA uncorrelated indices  [0.280552,0.400369,0.034137]\n",
      "ANCOVA correlated indices  [-0.00367882,-0.13062,-0.0164665]\n"
     ]
    }
   ],
   "source": [
    "# Print Sobol' indices, the physical part, and the correlation part\n",
    "print(\"ANCOVA indices \", indices)\n",
    "print(\"ANCOVA uncorrelated indices \", uncorrelatedIndices)\n",
    "print(\"ANCOVA correlated indices \", correlatedIndices)"
   ]
  },
  {
   "cell_type": "code",
   "execution_count": 178,
   "metadata": {},
   "outputs": [
    {
     "data": {
      "image/png": "[encoded data removed]",
      "text/plain": [
       "class=Graph name=Unnamed implementation=class=GraphImplementation name=Unnamed title=ANCOVA indices (Sobol') xTitle= yTitle= axes=OFF grid=OFF legendposition= legendFontSize=1 drawables=[class=Drawable name=Unnamed implementation=class=Pie name=Unnamed labels=[T : 49.1%,S : 47.8%,bl : 3.1%] radius=1 center=class=Point name=Unnamed dimension=2 values=[0,0] color palette=[#ff0000,#80ff00,#00ffff] derived from class=DrawableImplementation name=Unnamed legend= data=class=Sample name=Unnamed implementation=class=SampleImplementation name=Unnamed size=3 dimension=1 data=[[0.490655],[0.478031],[0.0313145]] color=blue fillStyle=solid lineStyle=solid pointStyle=plus lineWidth=1]"
      ]
     },
     "execution_count": 178,
     "metadata": {},
     "output_type": "execute_result"
    }
   ],
   "source": [
    "ot.SobolIndicesAlgorithm.DrawImportanceFactors(indices, distribution.getDescription(), 'ANCOVA indices (Sobol\\')')"
   ]
  },
  {
   "cell_type": "code",
   "execution_count": 179,
   "metadata": {},
   "outputs": [
    {
     "data": {
      "image/png": "[encoded data removed]",
      "text/plain": [
       "class=Graph name=Unnamed implementation=class=GraphImplementation name=Unnamed title=ANCOVA uncorrelated indices\n",
       "(part of physical variance in the model) xTitle= yTitle= axes=OFF grid=OFF legendposition= legendFontSize=1 drawables=[class=Drawable name=Unnamed implementation=class=Pie name=Unnamed labels=[T : 39.2%,S : 56.0%,bl : 4.8%] radius=1 center=class=Point name=Unnamed dimension=2 values=[0,0] color palette=[#ff0000,#80ff00,#00ffff] derived from class=DrawableImplementation name=Unnamed legend= data=class=Sample name=Unnamed implementation=class=SampleImplementation name=Unnamed size=3 dimension=1 data=[[0.392348],[0.559912],[0.0477402]] color=blue fillStyle=solid lineStyle=solid pointStyle=plus lineWidth=1]"
      ]
     },
     "execution_count": 179,
     "metadata": {},
     "output_type": "execute_result"
    }
   ],
   "source": [
    "ot.SobolIndicesAlgorithm.DrawImportanceFactors(uncorrelatedIndices, distribution.getDescription(), 'ANCOVA uncorrelated indices\\n(part of physical variance in the model)')"
   ]
  },
  {
   "cell_type": "code",
   "execution_count": 180,
   "metadata": {},
   "outputs": [
    {
     "ename": "TypeError",
     "evalue": "InvalidArgumentException : Expected positive values",
     "output_type": "error",
     "traceback": [
      "\u001b[1;31m---------------------------------------------------------------------------\u001b[0m",
      "\u001b[1;31mTypeError\u001b[0m                                 Traceback (most recent call last)",
      "\u001b[1;32m<ipython-input-180-c4cbd252147c>\u001b[0m in \u001b[0;36m<module>\u001b[1;34m\u001b[0m\n\u001b[1;32m----> 1\u001b[1;33m \u001b[0mot\u001b[0m\u001b[1;33m.\u001b[0m\u001b[0mSobolIndicesAlgorithm\u001b[0m\u001b[1;33m.\u001b[0m\u001b[0mDrawImportanceFactors\u001b[0m\u001b[1;33m(\u001b[0m\u001b[0mcorrelatedIndices\u001b[0m\u001b[1;33m,\u001b[0m \u001b[0mdistribution\u001b[0m\u001b[1;33m.\u001b[0m\u001b[0mgetDescription\u001b[0m\u001b[1;33m(\u001b[0m\u001b[1;33m)\u001b[0m\u001b[1;33m,\u001b[0m \u001b[1;34m'ANCOVA correlated indices\\n(part of variance due to the correlation)'\u001b[0m\u001b[1;33m)\u001b[0m\u001b[1;33m\u001b[0m\u001b[1;33m\u001b[0m\u001b[0m\n\u001b[0m",
      "\u001b[1;32m~\\Miniconda3\\envs\\GSA_paper\\lib\\site-packages\\openturns\\simulation.py\u001b[0m in \u001b[0;36mDrawImportanceFactors\u001b[1;34m(*args)\u001b[0m\n\u001b[0;32m   1576\u001b[0m             \u001b[0mthe\u001b[0m \u001b[0mvariables\u001b[0m\u001b[1;33m.\u001b[0m\u001b[1;33m\u001b[0m\u001b[1;33m\u001b[0m\u001b[0m\n\u001b[0;32m   1577\u001b[0m         \"\"\"\n\u001b[1;32m-> 1578\u001b[1;33m         \u001b[1;32mreturn\u001b[0m \u001b[0m_simulation\u001b[0m\u001b[1;33m.\u001b[0m\u001b[0mSobolIndicesAlgorithm_DrawImportanceFactors\u001b[0m\u001b[1;33m(\u001b[0m\u001b[1;33m*\u001b[0m\u001b[0margs\u001b[0m\u001b[1;33m)\u001b[0m\u001b[1;33m\u001b[0m\u001b[1;33m\u001b[0m\u001b[0m\n\u001b[0m\u001b[0;32m   1579\u001b[0m \u001b[1;33m\u001b[0m\u001b[0m\n\u001b[0;32m   1580\u001b[0m     \u001b[1;33m@\u001b[0m\u001b[0mstaticmethod\u001b[0m\u001b[1;33m\u001b[0m\u001b[1;33m\u001b[0m\u001b[0m\n",
      "\u001b[1;31mTypeError\u001b[0m: InvalidArgumentException : Expected positive values"
     ]
    }
   ],
   "source": [
    "ot.SobolIndicesAlgorithm.DrawImportanceFactors(correlatedIndices, distribution.getDescription(), 'ANCOVA correlated indices\\n(part of variance due to the correlation)')"
   ]
  },
  {
   "cell_type": "code",
   "execution_count": null,
   "metadata": {},
   "outputs": [],
   "source": []
  },
  {
   "cell_type": "code",
   "execution_count": null,
   "metadata": {},
   "outputs": [],
   "source": []
  }
 ],
 "metadata": {
  "kernelspec": {
   "display_name": "Python 3",
   "language": "python",
   "name": "python3"
  },
  "language_info": {
   "codemirror_mode": {
    "name": "ipython",
    "version": 3
   },
   "file_extension": ".py",
   "mimetype": "text/x-python",
   "name": "python",
   "nbconvert_exporter": "python",
   "pygments_lexer": "ipython3",
   "version": "3.7.6"
  }
 },
 "nbformat": 4,
 "nbformat_minor": 4
}
