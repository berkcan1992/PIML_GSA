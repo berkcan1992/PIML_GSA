{
 "cells": [
  {
   "cell_type": "code",
   "execution_count": 3,
   "metadata": {},
   "outputs": [
    {
     "name": "stdout",
     "output_type": "stream",
     "text": [
      "\n",
      "optimisation start\n",
      "------------------\n",
      "* estimation method   : MLE \n",
      "* optimisation method : BFGS \n",
      "* analytical gradient : used\n",
      "* trend model : ~1\n",
      "* covariance model : \n",
      "  - type :  gauss \n",
      "  - nugget : 302.4066 \n",
      "  - parameters lower bounds :  1e-10 1e-10 \n",
      "  - parameters upper bounds :  2 2 \n",
      "  - variance bounds :  272.1659 39049.73 \n",
      "  - best initial criterion value(s) :  -3543.031 \n",
      "\n",
      "N = 3, M = 5 machine precision = 2.22045e-16\n",
      "At X0, 0 variables are exactly at the bounds\n",
      "At iterate     0  f=         3543  |proj g|=        1.863\n",
      "At iterate     1  f =         3484  |proj g|=        1.8267\n",
      "At iterate     2  f =       3479.4  |proj g|=        1.7876\n",
      "At iterate     3  f =       3478.9  |proj g|=        1.5029\n",
      "At iterate     4  f =       3477.7  |proj g|=        1.4309\n",
      "At iterate     5  f =       3477.4  |proj g|=        1.3799\n",
      "At iterate     6  f =       3477.4  |proj g|=       0.21583\n",
      "At iterate     7  f =       3477.4  |proj g|=       0.19015\n",
      "At iterate     8  f =       3477.4  |proj g|=     0.0034317\n",
      "\n",
      "iterations 8\n",
      "function evaluations 11\n",
      "segments explored during Cauchy searches 10\n",
      "BFGS updates skipped 0\n",
      "active bounds at final generalized Cauchy point 0\n",
      "norm of the final projected gradient 0.00343169\n",
      "final function value 3477.37\n",
      "\n",
      "F = 3477.37\n",
      "final  value 3477.374315 \n",
      "converged\n"
     ]
    },
    {
     "data": {
      "text/plain": [
       "\n",
       "Method: sobol\n",
       "\n",
       "Model runs: 900 \n",
       "\n",
       "Number of GP realizations: 5 \n",
       "\n",
       "Kriging type: UK \n",
       "\n",
       "    estimate   std. error min. c.i. max. c.i.\n",
       "S1 0.1665604 0.0003987598 0.1659992 0.1669855\n",
       "S2 0.2741401 0.0009210800 0.2728590 0.2749817\n"
      ]
     },
     "metadata": {},
     "output_type": "display_data"
    }
   ],
   "source": [
    "library(DiceKriging)\n",
    "source(\"sobolGP.R\")\n",
    "source(\"sobolGPmethods.R\")\n",
    "source(\"pickfreeze.R\")\n",
    "\n",
    "#--------------------------------------#\n",
    "# kriging model building\n",
    "#--------------------------------------#\n",
    "\n",
    "d <- 2; nobs <- 30\n",
    "design.fact <- expand.grid(x1=seq(0,1,length=nobs), x2=seq(0,1,length=nobs))\n",
    "y <- apply(design.fact, 1, branin) \n",
    "\n",
    "# m <- km(design=design.fact, response=y)\n",
    "m <- km(design=design.fact, response=y, nugget = 1e-1 * var(y), covtype = \"gauss\")\n",
    "\n",
    "#--------------------------------------#\n",
    "# sobol samples & candidate points\n",
    "#--------------------------------------#\n",
    "\n",
    "n <- 1000\n",
    "X1 <- data.frame(matrix(runif(d * n), nrow = n))\n",
    "X2 <- data.frame(matrix(runif(d * n), nrow = n))\n",
    "\n",
    "candidate <- data.frame(matrix(runif(d * 100), nrow = 100))\n",
    "\n",
    "#--------------------------------------#\n",
    "# Kriging-based Sobol\n",
    "#--------------------------------------#\n",
    "\n",
    "res <- sobolGP(\n",
    "model = m,\n",
    "type=\"UK\",\n",
    "MCmethod=\"sobol\",\n",
    "X1,\n",
    "X2,\n",
    "nsim = 5,\n",
    "conf = 0.95,\n",
    "nboot=1,\n",
    "sequential = FALSE,\n",
    "candidate,\n",
    "sequential.tot=FALSE,\n",
    "max_iter = 1000\n",
    ") \n",
    "\n",
    "res"
   ]
  },
  {
   "cell_type": "code",
   "execution_count": null,
   "metadata": {},
   "outputs": [],
   "source": [
    " estimate  std. error min. c.i. max. c.i.\n",
    "S1 0.1187959 0.015753768 0.1050829 0.1416353\n",
    "S2 0.2321796 0.009414102 0.2189813 0.2425176"
   ]
  },
  {
   "cell_type": "code",
   "execution_count": null,
   "metadata": {},
   "outputs": [],
   "source": [
    " estimate  std. error min. c.i. max. c.i.\n",
    "S1 0.1331096 0.004986319 0.1265005 0.1384144\n",
    "S2 0.2320974 0.007212113 0.2254677 0.2406317"
   ]
  },
  {
   "cell_type": "code",
   "execution_count": null,
   "metadata": {},
   "outputs": [],
   "source": [
    "estimate  std. error min. c.i. max. c.i.\n",
    "S1 0.1390570 0.001771327 0.1369693 0.1412450\n",
    "S2 0.3312613 0.001234814 0.3293628 0.3320793"
   ]
  },
  {
   "cell_type": "code",
   "execution_count": 295,
   "metadata": {},
   "outputs": [],
   "source": [
    "library(DiceKriging)\n",
    "source(\"sobolGP.R\")\n",
    "source(\"sobolGPmethods.R\")\n",
    "source(\"pickfreeze.R\")\n",
    "source(\"sobolGP_th.r\")\n",
    "source(\"pickfreeze_th.R\")"
   ]
  },
  {
   "cell_type": "code",
   "execution_count": 91,
   "metadata": {},
   "outputs": [],
   "source": [
    "#--------------------------------------#\n",
    "# Data\n",
    "#--------------------------------------#\n",
    "d <- 2; n <- 39\n",
    "dat <- read.table('C:/Users/berkc/git/Physics-Informed-Machine-Learning/data/labeled_data.dat')\n",
    "x_exp <- dat[,1:2]\n",
    "y_exp <- dat[,ncol(dat)-1]\n",
    "colnames(x_exp)<- c(\"X1\",\"X2\")\n",
    "# x_exp <- data.frame(\"T\" = c(210.00000000000000,260.00000000000000,255.00000000000000,234.00000000000000,\n",
    "#                         223.00000000000000,242.00000000000000,219.00000000000000,\n",
    "#                         239.00000000000000,223.00000000000000,239.00000000000000,247.00000000000000,\n",
    "#                         240.00000000000000,255.00000000000000,239.00000000000000,252.00000000000000,\n",
    "#                         240.00000000000000,247.00000000000000,240.00000000000000,239.00000000000000,\n",
    "#                         239.00000000000000,259.30000000000000,259.30000000000000,210.00000000000000,\n",
    "#                         234.00000000000000,260.00000000000000,226.00000000000000,240.00000000000000,\n",
    "#                         234.00000000000000,219.00000000000000,242.00000000000000,260.00000000000000,\n",
    "#                         223.00000000000000,247.00000000000000,255.00000000000000,252.00000000000000,\n",
    "#                         226.00000000000000,250.00000000000000,259.30000000000000,259.00000000000000), \n",
    "#                           \"S\" = c(28.00000000000000,35.00000000000000,46.00000000000000,34.00000000000000,29.00000000000000,\n",
    "#                                   26.00000000000000,23.00000000000000,25.20000000000000,29.00000000000000,\n",
    "#                                   36.60000000000000,37.00000000000000,42.00000000000000,46.00000000000000,\n",
    "#                                   32.80000000000000,21.00000000000000,42.00000000000000,37.00000000000000,\n",
    "#                                   42.00000000000000,29.00000000000000,40.40000000000000,37.20000000000000,\n",
    "#                                   37.20000000000000,28.00000000000000,34.00000000000000,35.00000000000000,\n",
    "#                                   18.60000000000000,15.00000000000000,34.00000000000000,23.00000000000000,\n",
    "#                                   26.00000000000000,35.00000000000000,29.00000000000000,37.00000000000000,\n",
    "#                                   46.00000000000000,21.00000000000000,18.60000000000000,15.00000000000000,\n",
    "#                                   37.20000000000000,43.00000000000000))\n",
    "# y_exp <- c(0.05035167,0.01216063,0.0447357,0.03123432,0.02438436,0.0074955,0.01354554,0.00824909,0.02870565,0.04645434,0.02359506,\n",
    "#        0.05660703,0.04627013,0.02638973,0.00632564,0.04789699,0.01626827,0.07735481,0.01441945,\n",
    "#        0.05652293,0.01666471,0.01358868,0.05432798,0.03850274,0.01010751,0.01129286,0.009357,0.03579652,0.01614062,0.00770211,0.0105933,0.03315482,0.01352198,0.05269549,0.00490424,\n",
    "#        0.00895544,0.01003564,0.01345683,0.02496436)\n",
    "\n",
    "\n",
    "normalise <- function(y) {\n",
    "    (y - min(y)) / (max(y)-min(y))\n",
    "}\n",
    "\n",
    "normalize <- function(x, na.rm = TRUE) {\n",
    "    ranx <- range(x, na.rm = na.rm)\n",
    "    (x - ranx[1]) / diff(ranx)\n",
    "}\n",
    "x_exp.norm = apply(x_exp, 2, normalize)\n",
    "y_exp.norm = normalise(y_exp)"
   ]
  },
  {
   "cell_type": "code",
   "execution_count": 271,
   "metadata": {},
   "outputs": [
    {
     "name": "stdout",
     "output_type": "stream",
     "text": [
      "\n",
      "optimisation start\n",
      "------------------\n",
      "* estimation method   : MLE \n",
      "* optimisation method : BFGS \n",
      "* analytical gradient : used\n",
      "* trend model : ~1\n",
      "* covariance model : \n",
      "  - type :  gauss \n",
      "  - nugget : 0.006616911 \n",
      "  - parameters lower bounds :  1e-10 1e-10 \n",
      "  - parameters upper bounds :  2 2 \n",
      "  - variance bounds :  0.00595522 0.7046606 \n",
      "  - best initial criterion value(s) :  21.48118 \n",
      "\n",
      "N = 3, M = 5 machine precision = 2.22045e-16\n",
      "At X0, 0 variables are exactly at the bounds\n",
      "At iterate     0  f=      -21.481  |proj g|=       1.8093\n",
      "At iterate     1  f =      -25.325  |proj g|=       0.64326\n",
      "At iterate     2  f =      -25.826  |proj g|=       0.48611\n",
      "At iterate     3  f =      -25.832  |proj g|=       0.33871\n",
      "At iterate     4  f =      -25.865  |proj g|=        1.3784\n",
      "At iterate     5  f =      -25.888  |proj g|=       0.89089\n",
      "At iterate     6  f =      -25.891  |proj g|=       0.49831\n",
      "At iterate     7  f =      -25.893  |proj g|=      0.089584\n",
      "At iterate     8  f =      -25.893  |proj g|=       0.02086\n",
      "At iterate     9  f =      -25.893  |proj g|=     0.0069021\n",
      "At iterate    10  f =      -25.893  |proj g|=     0.0018063\n",
      "At iterate    11  f =      -25.893  |proj g|=    0.00016586\n",
      "\n",
      "iterations 11\n",
      "function evaluations 13\n",
      "segments explored during Cauchy searches 13\n",
      "BFGS updates skipped 0\n",
      "active bounds at final generalized Cauchy point 0\n",
      "norm of the final projected gradient 0.000165863\n",
      "final function value -25.8929\n",
      "\n",
      "F = -25.8929\n",
      "final  value -25.892867 \n",
      "converged\n"
     ]
    }
   ],
   "source": [
    "#--------------------------------------#\n",
    "# kriging model building\n",
    "#--------------------------------------#\n",
    "# m <- km(design=x_exp.norm, response=y_exp.norm, nugget = 1e-3 * var(y_exp.norm))\n",
    "m <- km(design=x_exp.norm, response=y_exp.norm, nugget = 1e-1 * var(y_exp.norm), covtype = \"gauss\")"
   ]
  },
  {
   "cell_type": "code",
   "execution_count": 293,
   "metadata": {},
   "outputs": [],
   "source": [
    "#--------------------------------------#\n",
    "# sobol samples & candidate points\n",
    "#--------------------------------------#\n",
    "n <- 5000\n",
    "X1 <- data.frame(matrix(runif(d * n), nrow = n))\n",
    "X2 <- data.frame(matrix(runif(d * n), nrow = n))\n",
    "\n",
    "candidate <- data.frame(matrix(runif(d * 10), nrow = 10))"
   ]
  },
  {
   "cell_type": "code",
   "execution_count": 263,
   "metadata": {},
   "outputs": [
    {
     "data": {
      "text/html": [
       "<style>\n",
       ".list-inline {list-style: none; margin:0; padding: 0}\n",
       ".list-inline>li {display: inline-block}\n",
       ".list-inline>li:not(:last-child)::after {content: \"\\00b7\"; padding: 0 .5ex}\n",
       "</style>\n",
       "<ol class=list-inline><li>0.34564274634232</li><li>0.291714044736637</li><li>0.248319629582348</li><li>0.233733527533683</li><li>0.235220513064654</li><li>0.323860568225468</li><li>0.356646085420676</li><li>0.278310712734405</li><li>0.199233274921698</li><li>0.556464234042927</li></ol>\n"
      ],
      "text/latex": [
       "\\begin{enumerate*}\n",
       "\\item 0.34564274634232\n",
       "\\item 0.291714044736637\n",
       "\\item 0.248319629582348\n",
       "\\item 0.233733527533683\n",
       "\\item 0.235220513064654\n",
       "\\item 0.323860568225468\n",
       "\\item 0.356646085420676\n",
       "\\item 0.278310712734405\n",
       "\\item 0.199233274921698\n",
       "\\item 0.556464234042927\n",
       "\\end{enumerate*}\n"
      ],
      "text/markdown": [
       "1. 0.34564274634232\n",
       "2. 0.291714044736637\n",
       "3. 0.248319629582348\n",
       "4. 0.233733527533683\n",
       "5. 0.235220513064654\n",
       "6. 0.323860568225468\n",
       "7. 0.356646085420676\n",
       "8. 0.278310712734405\n",
       "9. 0.199233274921698\n",
       "10. 0.556464234042927\n",
       "\n",
       "\n"
      ],
      "text/plain": [
       " [1] 0.3456427 0.2917140 0.2483196 0.2337335 0.2352205 0.3238606 0.3566461\n",
       " [8] 0.2783107 0.1992333 0.5564642"
      ]
     },
     "metadata": {},
     "output_type": "display_data"
    },
    {
     "data": {
      "text/html": [
       "<style>\n",
       ".list-inline {list-style: none; margin:0; padding: 0}\n",
       ".list-inline>li {display: inline-block}\n",
       ".list-inline>li:not(:last-child)::after {content: \"\\00b7\"; padding: 0 .5ex}\n",
       "</style>\n",
       "<ol class=list-inline><li>0.0994286067548073</li><li>0.0490741690323886</li><li>0.0532533996365689</li><li>0.0408659816598391</li><li>0.037589512490267</li><li>0.0561187870543896</li><li>0.0531496971003844</li><li>0.121673339986617</li><li>0.0783617150885705</li><li>0.0165830021375562</li></ol>\n"
      ],
      "text/latex": [
       "\\begin{enumerate*}\n",
       "\\item 0.0994286067548073\n",
       "\\item 0.0490741690323886\n",
       "\\item 0.0532533996365689\n",
       "\\item 0.0408659816598391\n",
       "\\item 0.037589512490267\n",
       "\\item 0.0561187870543896\n",
       "\\item 0.0531496971003844\n",
       "\\item 0.121673339986617\n",
       "\\item 0.0783617150885705\n",
       "\\item 0.0165830021375562\n",
       "\\end{enumerate*}\n"
      ],
      "text/markdown": [
       "1. 0.0994286067548073\n",
       "2. 0.0490741690323886\n",
       "3. 0.0532533996365689\n",
       "4. 0.0408659816598391\n",
       "5. 0.037589512490267\n",
       "6. 0.0561187870543896\n",
       "7. 0.0531496971003844\n",
       "8. 0.121673339986617\n",
       "9. 0.0783617150885705\n",
       "10. 0.0165830021375562\n",
       "\n",
       "\n"
      ],
      "text/plain": [
       " [1] 0.09942861 0.04907417 0.05325340 0.04086598 0.03758951 0.05611879\n",
       " [7] 0.05314970 0.12167334 0.07836172 0.01658300"
      ]
     },
     "metadata": {},
     "output_type": "display_data"
    }
   ],
   "source": [
    "# pp <- predict(m, X1, \"UK\")\n",
    "# pp$sd^2\n",
    "# pp$m\n",
    "\n",
    "sp <- simulate(m, X1, nsim=10)\n",
    "apply(sp,1,mean)\n",
    "apply(sp,1,var)"
   ]
  },
  {
   "cell_type": "code",
   "execution_count": 275,
   "metadata": {},
   "outputs": [
    {
     "name": "stdout",
     "output_type": "stream",
     "text": [
      "$S1\n",
      "[1] 0.2265595\n",
      "\n",
      "$S2\n",
      "[1] 0.5574962\n",
      "\n"
     ]
    },
    {
     "data": {
      "text/plain": [
       "\n",
       "Method: sobol\n",
       "\n",
       "Model runs: 39 \n",
       "\n",
       "Number of GP realizations: 1 \n",
       "\n",
       "Kriging type: UK \n",
       "\n",
       "    estimate std. error min. c.i. max. c.i.\n",
       "S1 0.2265595         NA 0.2265595 0.2265595\n",
       "S2 0.5574962         NA 0.5574962 0.5574962\n"
      ]
     },
     "metadata": {},
     "output_type": "display_data"
    }
   ],
   "source": [
    "#--------------------------------------#\n",
    "# Kriging-based Sobol\n",
    "#--------------------------------------#\n",
    "res <- sobolGP_th(\n",
    "model = m,\n",
    "type=\"UK\",\n",
    "MCmethod=\"sobol\",\n",
    "X1,\n",
    "X2,\n",
    "nsim = 1,\n",
    "conf = 0.95,\n",
    "nboot=1,\n",
    "sequential = FALSE,\n",
    "candidate,\n",
    "sequential.tot=FALSE,\n",
    "max_iter = 1000\n",
    ") \n",
    "\n",
    "res"
   ]
  },
  {
   "cell_type": "code",
   "execution_count": 296,
   "metadata": {},
   "outputs": [
    {
     "data": {
      "text/plain": [
       "\n",
       "Method: sobol\n",
       "\n",
       "Model runs: 39 \n",
       "\n",
       "Number of GP realizations: 30 \n",
       "\n",
       "Kriging type: UK \n",
       "\n",
       "    estimate std. error min. c.i. max. c.i.\n",
       "S1 0.2484554 0.03813858 0.1729196 0.2984901\n",
       "S2 0.6335153 0.02034616 0.5978824 0.6760371\n"
      ]
     },
     "metadata": {},
     "output_type": "display_data"
    }
   ],
   "source": [
    "#--------------------------------------#\n",
    "# Kriging-based Sobol\n",
    "#--------------------------------------#\n",
    "res <- sobolGP(\n",
    "model = m,\n",
    "type=\"UK\",\n",
    "MCmethod=\"sobol\",\n",
    "X1,\n",
    "X2,\n",
    "nsim = 30,\n",
    "conf = 0.95,\n",
    "nboot=1,\n",
    "sequential = FALSE,\n",
    "candidate,\n",
    "sequential.tot=FALSE,\n",
    "max_iter = 1000\n",
    ") \n",
    "\n",
    "res\n",
    "# plot(res)\n",
    "# x <- ask(res)\n",
    "# y <- branin(x)\n",
    "# The following line doesn't work (uncorrected bug: \n",
    "#     unused argument in km(), passed by update(), eval(), tell.sobolGP() ??)\n",
    "#res.new <- tell(res,y,x)\n",
    "#res.new\n"
   ]
  },
  {
   "cell_type": "code",
   "execution_count": null,
   "metadata": {},
   "outputs": [],
   "source": [
    "Method: sobol\n",
    "\n",
    "Model runs: 39 \n",
    "\n",
    "Number of GP realizations: 30 \n",
    "\n",
    "Kriging type: UK \n",
    "\n",
    "    estimate std. error min. c.i. max. c.i.\n",
    "S1 0.2514368 0.04645888 0.1603408 0.3180157\n",
    "S2 0.5911329 0.03156081 0.5379306 0.6510354\n",
    "\n",
    "THEIR FUNC.\n",
    "Method: sobol\n",
    "\n",
    "Model runs: 39 \n",
    "\n",
    "Number of GP realizations: 30 \n",
    "\n",
    "Kriging type: UK \n",
    "\n",
    "    estimate std. error min. c.i. max. c.i.\n",
    "S1 0.2484554 0.03813858 0.1729196 0.2984901\n",
    "S2 0.6335153 0.02034616 0.5978824 0.6760371"
   ]
  },
  {
   "cell_type": "code",
   "execution_count": 139,
   "metadata": {},
   "outputs": [
    {
     "data": {
      "text/html": [
       "10"
      ],
      "text/latex": [
       "10"
      ],
      "text/markdown": [
       "10"
      ],
      "text/plain": [
       "[1] 10"
      ]
     },
     "metadata": {},
     "output_type": "display_data"
    },
    {
     "data": {
      "text/html": [
       "210"
      ],
      "text/latex": [
       "210"
      ],
      "text/markdown": [
       "210"
      ],
      "text/plain": [
       "[1] 210"
      ]
     },
     "metadata": {},
     "output_type": "display_data"
    },
    {
     "data": {
      "text/html": [
       "210"
      ],
      "text/latex": [
       "210"
      ],
      "text/markdown": [
       "210"
      ],
      "text/plain": [
       "[1] 210"
      ]
     },
     "metadata": {},
     "output_type": "display_data"
    },
    {
     "data": {
      "text/html": [
       "10"
      ],
      "text/latex": [
       "10"
      ],
      "text/markdown": [
       "10"
      ],
      "text/plain": [
       "[1] 10"
      ]
     },
     "metadata": {},
     "output_type": "display_data"
    },
    {
     "data": {
      "text/html": [
       "10"
      ],
      "text/latex": [
       "10"
      ],
      "text/markdown": [
       "10"
      ],
      "text/plain": [
       "[1] 10"
      ]
     },
     "metadata": {},
     "output_type": "display_data"
    }
   ],
   "source": [
    "# # mm <- res[[3]]$cov\n",
    "# # nrow(mm)\n",
    "# res2 <- res[[2]]\n",
    "# nrow(res2)\n",
    "# ncol(res2)\n",
    "\n",
    "# res3 <- res[[3]]$cov\n",
    "# nrow(res3)\n",
    "# ncol(res3)\n",
    "\n",
    "# res3 <- res[[3]]$mean2\n",
    "# length(res3)"
   ]
  },
  {
   "cell_type": "code",
   "execution_count": 116,
   "metadata": {},
   "outputs": [
    {
     "ename": "ERROR",
     "evalue": "Error in sqrt(res[[1]]$S$var): non-numeric argument to mathematical function\n",
     "output_type": "error",
     "traceback": [
      "Error in sqrt(res[[1]]$S$var): non-numeric argument to mathematical function\nTraceback:\n"
     ]
    }
   ],
   "source": [
    "# sqrt(res[[1]]$S$var)"
   ]
  },
  {
   "cell_type": "code",
   "execution_count": 115,
   "metadata": {},
   "outputs": [
    {
     "ename": "ERROR",
     "evalue": "Error in sqrt(res[[1]]$S$varPG): non-numeric argument to mathematical function\n",
     "output_type": "error",
     "traceback": [
      "Error in sqrt(res[[1]]$S$varPG): non-numeric argument to mathematical function\nTraceback:\n"
     ]
    }
   ],
   "source": [
    "# sqrt(res[[1]]$S$varPG)"
   ]
  },
  {
   "cell_type": "code",
   "execution_count": 114,
   "metadata": {},
   "outputs": [
    {
     "ename": "ERROR",
     "evalue": "Error in eval(expr, envir, enclos): object 'output' not found\n",
     "output_type": "error",
     "traceback": [
      "Error in eval(expr, envir, enclos): object 'output' not found\nTraceback:\n"
     ]
    }
   ],
   "source": [
    "# output$T$mean"
   ]
  },
  {
   "cell_type": "code",
   "execution_count": 174,
   "metadata": {},
   "outputs": [
    {
     "data": {
      "text/html": [
       "<style>\n",
       ".list-inline {list-style: none; margin:0; padding: 0}\n",
       ".list-inline>li {display: inline-block}\n",
       ".list-inline>li:not(:last-child)::after {content: \"\\00b7\"; padding: 0 .5ex}\n",
       "</style>\n",
       "<ol class=list-inline><li>'call'</li><li>'S'</li></ol>\n"
      ],
      "text/latex": [
       "\\begin{enumerate*}\n",
       "\\item 'call'\n",
       "\\item 'S'\n",
       "\\end{enumerate*}\n"
      ],
      "text/markdown": [
       "1. 'call'\n",
       "2. 'S'\n",
       "\n",
       "\n"
      ],
      "text/plain": [
       "[1] \"call\" \"S\"   "
      ]
     },
     "metadata": {},
     "output_type": "display_data"
    }
   ],
   "source": [
    "# names(res)"
   ]
  },
  {
   "cell_type": "code",
   "execution_count": 117,
   "metadata": {},
   "outputs": [
    {
     "data": {
      "text/plain": [
       "NULL"
      ]
     },
     "metadata": {},
     "output_type": "display_data"
    }
   ],
   "source": [
    "# res[[1]]$S[[1]]"
   ]
  },
  {
   "cell_type": "code",
   "execution_count": null,
   "metadata": {},
   "outputs": [],
   "source": []
  }
 ],
 "metadata": {
  "kernelspec": {
   "display_name": "R",
   "language": "R",
   "name": "ir"
  },
  "language_info": {
   "codemirror_mode": "r",
   "file_extension": ".r",
   "mimetype": "text/x-r-source",
   "name": "R",
   "pygments_lexer": "r",
   "version": "3.6.3"
  }
 },
 "nbformat": 4,
 "nbformat_minor": 4
}
