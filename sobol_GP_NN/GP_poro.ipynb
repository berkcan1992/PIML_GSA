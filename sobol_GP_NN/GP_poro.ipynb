{
 "cells": [
  {
   "cell_type": "code",
   "execution_count": 1,
   "metadata": {},
   "outputs": [],
   "source": [
    "import numpy as np\n",
    "import tensorflow.compat.v2 as tf\n",
    "import tensorflow_probability as tfp\n",
    "tfb = tfp.bijectors\n",
    "tfd = tfp.distributions\n",
    "tfk = tfp.math.psd_kernels\n",
    "tf.enable_v2_behavior()"
   ]
  },
  {
   "cell_type": "code",
   "execution_count": 2,
   "metadata": {},
   "outputs": [],
   "source": [
    "# Compute the RMSE given the ground truth (y_true) and the predictions(y_pred)\n",
    "def root_mean_squared_error(y_true, y_pred):\n",
    "        return tf.math.sqrt(tf.math.reduce_mean(tf.math.square(y_pred - y_true), axis=-1))\n",
    "    \n",
    "class InputTransformedKernel(tfp.math.psd_kernels.PositiveSemidefiniteKernel):\n",
    "\n",
    "    def __init__(self, kernel, transformation, name='InputTransformedKernel'):\n",
    "        self._kernel = kernel\n",
    "        self._transformation = transformation\n",
    "        super(InputTransformedKernel, self).__init__(\n",
    "            feature_ndims=kernel.feature_ndims,\n",
    "            dtype=kernel.dtype,\n",
    "            name=name)\n",
    "\n",
    "    def apply(self, x1, x2):\n",
    "        return self._kernel.apply(\n",
    "            self._transformation(x1),\n",
    "            self._transformation(x2))\n",
    "\n",
    "    def matrix(self, x1, x2):\n",
    "        return self._kernel.matrix(\n",
    "            self._transformation(x1),\n",
    "            self._transformation(x2))\n",
    "\n",
    "    @property\n",
    "    def batch_shape(self):\n",
    "        return self._kernel.batch_shape\n",
    "\n",
    "    def batch_shape_tensor(self):\n",
    "        return self._kernel.batch_shape_tensor\n",
    "\n",
    "class InputScaledKernel(InputTransformedKernel):\n",
    "\n",
    "    def __init__(self, kernel, length_scales):\n",
    "        super(InputScaledKernel, self).__init__(\n",
    "            kernel,\n",
    "            lambda x: x / tf.expand_dims(length_scales,\n",
    "                                     -(kernel.feature_ndims + 1)))        "
   ]
  },
  {
   "cell_type": "code",
   "execution_count": 3,
   "metadata": {},
   "outputs": [],
   "source": [
    "# Load labeled data\n",
    "data = np.loadtxt('../data/labeled_data.dat')\n",
    "x_labeled = data[:, :2].astype(np.float64) # -2 because we do not need porosity predictions\n",
    "y_labeled = data[:, -2:-1].astype(np.float64) # dimensionless bond length and porosity measurements\n",
    "\n",
    "# Normalize the data.\n",
    "from sklearn import preprocessing\n",
    "\n",
    "# normalize dataset with MinMaxScaler\n",
    "scaler = preprocessing.MinMaxScaler(feature_range=(0.0, 1.0))\n",
    "x_labeled = scaler.fit_transform(x_labeled)\n",
    "# y_labeled = scaler.fit_transform(y_labeled)\n",
    "\n",
    "tr_size = 30\n",
    "\n",
    "# train and test data\n",
    "trainX, trainY = x_labeled[:tr_size,:], y_labeled[:tr_size]\n",
    "testX, testY = x_labeled[tr_size:,:], y_labeled[tr_size:]\n",
    "\n",
    "trainY = np.transpose(trainY)\n",
    "testY = np.transpose(testY)\n",
    "\n",
    "data_phyloss = np.loadtxt('../data/unlabeled_data_BK_constw_v2_1525.dat')\n",
    "x_unlabeled = data_phyloss[:, :]\n",
    "\n",
    "# initial porosity\n",
    "initporo = x_unlabeled[:, -1]\n",
    "\n",
    "x_unlabeled1 = x_unlabeled[:1303, :2]\n",
    "x_unlabeled2 = x_unlabeled[-6:, :2]\n",
    "x_unlabeled = np.vstack((x_unlabeled1,x_unlabeled2))\n",
    "\n",
    "x_unlabeled = scaler.fit_transform(x_unlabeled)\n",
    "init_poro1 = initporo[:1303]\n",
    "init_poro2 = initporo[-6:]\n",
    "init_poro = np.hstack((init_poro1,init_poro2))"
   ]
  },
  {
   "cell_type": "code",
   "execution_count": 4,
   "metadata": {},
   "outputs": [],
   "source": [
    "def build_gp(amplitude, length_scale):\n",
    "    \"\"\"Defines the conditional dist. of GP outputs, given kernel parameters.\"\"\"\n",
    "\n",
    "    # Create the covariance kernel, which will be shared between the prior (which we\n",
    "    # use for maximum likelihood training) and the posterior (which we use for\n",
    "    # posterior predictive sampling)    \n",
    "    se_kernel = tfk.ExponentiatedQuadratic(amplitude)  # length_scale = None here, implicitly\n",
    "\n",
    "    # This is the \"ARD\" kernel (we don't like abbreviations or bizarrely obscure names in\n",
    "    # TFP, so we're probably going to call this \"InputScaledKernel\" since....that's what it is! :)\n",
    "    kernel = InputScaledKernel(se_kernel, length_scale)\n",
    "    \n",
    "    # Create the GP prior distribution, which we will use to train the model\n",
    "    # parameters.\n",
    "    return tfd.GaussianProcess(kernel=kernel,index_points=trainX)\n",
    "\n",
    "gp_joint_model = tfd.JointDistributionNamedAutoBatched({\n",
    "    'amplitude': tfd.TransformedDistribution(\n",
    "            distribution=tfd.Normal(loc=0., scale=np.float64(1.)),\n",
    "            bijector=tfb.Exp(),\n",
    "            batch_shape=[1]),\n",
    "    'length_scale': tfd.TransformedDistribution(\n",
    "            distribution=tfd.Normal(loc=0., scale=np.float64(1.)),\n",
    "            bijector=tfb.Exp(),\n",
    "            batch_shape=[2]),\n",
    "    'observations': build_gp,\n",
    "})"
   ]
  },
  {
   "cell_type": "code",
   "execution_count": 5,
   "metadata": {},
   "outputs": [],
   "source": [
    "# Create the trainable model parameters, which we'll subsequently optimize.\n",
    "# Note that we constrain them to be strictly positive.\n",
    "constrain_positive = tfb.Shift(np.finfo(np.float64).tiny)(tfb.Exp())\n",
    "\n",
    "amplitude_var = tfp.util.TransformedVariable(\n",
    "    initial_value=np.random.uniform(size=1),\n",
    "    bijector=constrain_positive,\n",
    "    name='amplitude',\n",
    "    dtype=np.float64)\n",
    "\n",
    "length_scale_var = tfp.util.TransformedVariable(\n",
    "    initial_value=np.random.uniform(size=[2]),\n",
    "    bijector=constrain_positive,\n",
    "    name='length_scale',\n",
    "    dtype=np.float64)\n",
    "\n",
    "trainable_variables = [v.trainable_variables[0] for v in \n",
    "                       [amplitude_var,\n",
    "                       length_scale_var]]"
   ]
  },
  {
   "cell_type": "code",
   "execution_count": 6,
   "metadata": {},
   "outputs": [],
   "source": [
    "@tf.function(autograph=False, experimental_compile=False)\n",
    "def target_log_prob(amplitude, length_scale):\n",
    "    return -gp_joint_model.log_prob({\n",
    "      'amplitude': amplitude,\n",
    "      'length_scale': length_scale,\n",
    "      'observations': trainY\n",
    "  })"
   ]
  },
  {
   "cell_type": "code",
   "execution_count": 7,
   "metadata": {},
   "outputs": [
    {
     "name": "stdout",
     "output_type": "stream",
     "text": [
      "WARNING:tensorflow:From C:\\Users\\berkc\\Miniconda3\\envs\\R\\lib\\site-packages\\tensorflow\\python\\ops\\linalg\\linear_operator_lower_triangular.py:158: calling LinearOperator.__init__ (from tensorflow.python.ops.linalg.linear_operator) with graph_parents is deprecated and will be removed in a future version.\n",
      "Instructions for updating:\n",
      "Do not pass `graph_parents`.  They will  no longer be used.\n",
      "0 loss_inloop: tf.Tensor(178.8407220048977, shape=(), dtype=float64)\n",
      "1 loss_inloop: tf.Tensor(174.41082627519688, shape=(), dtype=float64)\n",
      "2 loss_inloop: tf.Tensor(170.71788943503248, shape=(), dtype=float64)\n",
      "3 loss_inloop: tf.Tensor(168.2346726439364, shape=(), dtype=float64)\n",
      "4 loss_inloop: tf.Tensor(167.3723240772366, shape=(), dtype=float64)\n",
      "5 loss_inloop: tf.Tensor(166.48249688878684, shape=(), dtype=float64)\n",
      "6 loss_inloop: tf.Tensor(164.96099210918345, shape=(), dtype=float64)\n",
      "7 loss_inloop: tf.Tensor(163.3081526485371, shape=(), dtype=float64)\n",
      "8 loss_inloop: tf.Tensor(162.06961633545532, shape=(), dtype=float64)\n",
      "9 loss_inloop: tf.Tensor(161.4289366558662, shape=(), dtype=float64)\n",
      "10 loss_inloop: tf.Tensor(161.20019419464936, shape=(), dtype=float64)\n",
      "11 loss_inloop: tf.Tensor(161.12624921429307, shape=(), dtype=float64)\n",
      "12 loss_inloop: tf.Tensor(161.04383511991205, shape=(), dtype=float64)\n",
      "13 loss_inloop: tf.Tensor(160.87672244831603, shape=(), dtype=float64)\n",
      "14 loss_inloop: tf.Tensor(160.5968881909154, shape=(), dtype=float64)\n",
      "15 loss_inloop: tf.Tensor(160.20064006058695, shape=(), dtype=float64)\n",
      "16 loss_inloop: tf.Tensor(159.69717317493857, shape=(), dtype=float64)\n",
      "17 loss_inloop: tf.Tensor(159.1031549749532, shape=(), dtype=float64)\n",
      "18 loss_inloop: tf.Tensor(158.44068778573114, shape=(), dtype=float64)\n",
      "19 loss_inloop: tf.Tensor(157.73766717000944, shape=(), dtype=float64)\n",
      "20 loss_inloop: tf.Tensor(157.02943145252186, shape=(), dtype=float64)\n",
      "21 loss_inloop: tf.Tensor(156.35926766399714, shape=(), dtype=float64)\n",
      "22 loss_inloop: tf.Tensor(155.7738537723225, shape=(), dtype=float64)\n",
      "23 loss_inloop: tf.Tensor(155.31121072873324, shape=(), dtype=float64)\n",
      "24 loss_inloop: tf.Tensor(154.98542565167728, shape=(), dtype=float64)\n",
      "25 loss_inloop: tf.Tensor(154.77902228471672, shape=(), dtype=float64)\n",
      "26 loss_inloop: tf.Tensor(154.65079173395299, shape=(), dtype=float64)\n",
      "27 loss_inloop: tf.Tensor(154.55478637636844, shape=(), dtype=float64)\n",
      "28 loss_inloop: tf.Tensor(154.45786715686884, shape=(), dtype=float64)\n",
      "29 loss_inloop: tf.Tensor(154.34675134854348, shape=(), dtype=float64)\n",
      "30 loss_inloop: tf.Tensor(154.22483424381474, shape=(), dtype=float64)\n",
      "31 loss_inloop: tf.Tensor(154.1044487194696, shape=(), dtype=float64)\n",
      "32 loss_inloop: tf.Tensor(153.99963892876272, shape=(), dtype=float64)\n",
      "33 loss_inloop: tf.Tensor(153.92157944234597, shape=(), dtype=float64)\n",
      "34 loss_inloop: tf.Tensor(153.8765277691076, shape=(), dtype=float64)\n",
      "35 loss_inloop: tf.Tensor(153.86538752782144, shape=(), dtype=float64)\n",
      "36 loss_inloop: tf.Tensor(153.8841102279302, shape=(), dtype=float64)\n",
      "37 loss_inloop: tf.Tensor(153.92463169285386, shape=(), dtype=float64)\n",
      "38 loss_inloop: tf.Tensor(153.9763612615252, shape=(), dtype=float64)\n",
      "39 loss_inloop: tf.Tensor(154.02820435802744, shape=(), dtype=float64)\n",
      "Trained parameters:\n",
      "amplitude: [0.02925679]\n",
      "length_scale: [0.19852833 0.32902569]\n"
     ]
    }
   ],
   "source": [
    "tf.random.set_seed(1234)\n",
    "\n",
    "# Optimize the model parameters.\n",
    "num_iters = 40\n",
    "optimizer = tf.optimizers.Adam(learning_rate=.1)\n",
    "\n",
    "# Store the likelihood values during training, so we can plot the progress\n",
    "lls_ = np.zeros(num_iters, np.float64)\n",
    "\n",
    "for i in range(num_iters):\n",
    "    with tf.GradientTape() as tape:\n",
    "        loss = target_log_prob(amplitude_var, length_scale_var)\n",
    "\n",
    "\n",
    "    print(i,\"loss_inloop:\",loss)\n",
    "    grads = tape.gradient(loss, trainable_variables)\n",
    "    optimizer.apply_gradients(zip(grads, trainable_variables))\n",
    "    lls_[i] = loss\n",
    "\n",
    "print('Trained parameters:')\n",
    "print('amplitude: {}'.format(amplitude_var._value().numpy()))\n",
    "print('length_scale: {}'.format(length_scale_var._value().numpy()))"
   ]
  },
  {
   "cell_type": "code",
   "execution_count": 8,
   "metadata": {},
   "outputs": [
    {
     "data": {
      "text/plain": [
       "<tf.Tensor: shape=(1, 1, 9), dtype=float64, numpy=\n",
       "array([[[-0.03703226, -0.02586879, -0.00434636,  0.01429826,\n",
       "          0.02323409,  0.01055448,  0.03093625, -0.03490037,\n",
       "         -0.01291905]]])>"
      ]
     },
     "execution_count": 8,
     "metadata": {},
     "output_type": "execute_result"
    }
   ],
   "source": [
    "tf.random.set_seed(1234)\n",
    "se_kernel = tfk.ExponentiatedQuadratic(amplitude_var)  # length_scale = None here, implicitly\n",
    "optimized_kernel = InputScaledKernel(se_kernel, length_scale_var)\n",
    "gprm = tfd.GaussianProcessRegressionModel(kernel=optimized_kernel, index_points = testX)\n",
    "samples = gprm.sample(1)\n",
    "# optimized_kernel = tfk.ExponentiatedQuadratic(amplitude_var, length_scale_var)\n",
    "# gpr = tfd.GaussianProcessRegressionModel(kernel=optimized_kernel, index_points = testX)\n",
    "# samples = gpr.sample(1)\n",
    "samples"
   ]
  },
  {
   "cell_type": "code",
   "execution_count": 9,
   "metadata": {},
   "outputs": [
    {
     "data": {
      "text/plain": [
       "(1, 9)"
      ]
     },
     "execution_count": 9,
     "metadata": {},
     "output_type": "execute_result"
    }
   ],
   "source": [
    "np.array(tf.squeeze(samples, axis=1)).shape"
   ]
  },
  {
   "cell_type": "code",
   "execution_count": 10,
   "metadata": {},
   "outputs": [
    {
     "data": {
      "text/plain": [
       "array([[0.0105933 , 0.03315482, 0.01352198, 0.05269549, 0.00490424,\n",
       "        0.00895544, 0.01003564, 0.01345683, 0.02496436]])"
      ]
     },
     "execution_count": 10,
     "metadata": {},
     "output_type": "execute_result"
    }
   ],
   "source": [
    "testY"
   ]
  },
  {
   "cell_type": "code",
   "execution_count": 11,
   "metadata": {},
   "outputs": [
    {
     "data": {
      "text/plain": [
       "<tf.Tensor: shape=(1, 1), dtype=float64, numpy=array([[0.03665841]])>"
      ]
     },
     "execution_count": 11,
     "metadata": {},
     "output_type": "execute_result"
    }
   ],
   "source": [
    "root_mean_squared_error(testY, samples)"
   ]
  },
  {
   "cell_type": "code",
   "execution_count": 12,
   "metadata": {},
   "outputs": [
    {
     "data": {
      "image/png": "[encoded data removed]",
      "text/plain": [
       "<Figure size 864x288 with 1 Axes>"
      ]
     },
     "metadata": {
      "needs_background": "light"
     },
     "output_type": "display_data"
    }
   ],
   "source": [
    "import matplotlib.pyplot as plt\n",
    "# Plot the loss evolution\n",
    "plt.figure(figsize=(12, 4))\n",
    "plt.plot(lls_)\n",
    "plt.xlabel(\"Training iteration\")\n",
    "plt.ylabel(\"Log marginal likelihood\")\n",
    "plt.show()"
   ]
  },
  {
   "cell_type": "code",
   "execution_count": null,
   "metadata": {},
   "outputs": [],
   "source": []
  }
 ],
 "metadata": {
  "kernelspec": {
   "display_name": "Python 3",
   "language": "python",
   "name": "python3"
  },
  "language_info": {
   "codemirror_mode": {
    "name": "ipython",
    "version": 3
   },
   "file_extension": ".py",
   "mimetype": "text/x-python",
   "name": "python",
   "nbconvert_exporter": "python",
   "pygments_lexer": "ipython3",
   "version": "3.6.10"
  }
 },
 "nbformat": 4,
 "nbformat_minor": 4
}
