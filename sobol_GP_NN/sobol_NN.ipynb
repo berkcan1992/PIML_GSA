{
 "cells": [
  {
   "cell_type": "code",
   "execution_count": 1,
   "metadata": {},
   "outputs": [],
   "source": [
    "# setting temporary PATH variables\n",
    "import os\n",
    "# os.environ['R_HOME'] = r'C:\\Program Files\\R\\R-4.0.0' #path to your R installation\n",
    "os.environ['R_HOME'] = r'C:\\Users\\berkc\\Miniconda3\\envs\\pytR\\Lib\\R' #path to your R installation\n",
    "os.environ['R_USER'] = r'C:\\Users\\berkc\\Miniconda3\\envs\\pytR\\Lib\\site-packages\\rpy2' #path depends on where you installed Python. Mine is the Anaconda distribution"
   ]
  },
  {
   "cell_type": "code",
   "execution_count": 38,
   "metadata": {},
   "outputs": [
    {
     "name": "stdout",
     "output_type": "stream",
     "text": [
      "The rpy2.ipython extension is already loaded. To reload it, use:\n",
      "  %reload_ext rpy2.ipython\n"
     ]
    }
   ],
   "source": [
    "# enables the %%R magic, not necessary if you've already done this\n",
    "%load_ext rpy2.ipython"
   ]
  },
  {
   "cell_type": "code",
   "execution_count": 44,
   "metadata": {},
   "outputs": [],
   "source": [
    "%%R -i a\n",
    "n <- a+2; print(n)"
   ]
  },
  {
   "cell_type": "code",
   "execution_count": null,
   "metadata": {},
   "outputs": [],
   "source": []
  }
 ],
 "metadata": {
  "kernelspec": {
   "display_name": "Python 3",
   "language": "python",
   "name": "python3"
  },
  "language_info": {
   "codemirror_mode": {
    "name": "ipython",
    "version": 3
   },
   "file_extension": ".py",
   "mimetype": "text/x-python",
   "name": "python",
   "nbconvert_exporter": "python",
   "pygments_lexer": "ipython3",
   "version": "3.6.10"
  }
 },
 "nbformat": 4,
 "nbformat_minor": 4
}
