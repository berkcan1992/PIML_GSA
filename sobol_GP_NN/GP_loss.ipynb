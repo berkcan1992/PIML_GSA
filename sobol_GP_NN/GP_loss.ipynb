{
 "cells": [
  {
   "cell_type": "code",
   "execution_count": 1,
   "metadata": {},
   "outputs": [],
   "source": [
    "import numpy as np\n",
    "import tensorflow.compat.v2 as tf\n",
    "import tensorflow_probability as tfp\n",
    "tfb = tfp.bijectors\n",
    "tfd = tfp.distributions\n",
    "tfk = tfp.math.psd_kernels\n",
    "tf.enable_v2_behavior()"
   ]
  },
  {
   "cell_type": "code",
   "execution_count": 2,
   "metadata": {},
   "outputs": [],
   "source": [
    "# Compute the RMSE given the ground truth (y_true) and the predictions(y_pred)\n",
    "def root_mean_squared_error(y_true, y_pred):\n",
    "        return tf.math.sqrt(tf.math.reduce_mean(tf.math.square(y_pred - y_true), axis=-1))\n",
    "    \n",
    "class InputTransformedKernel(tfp.math.psd_kernels.PositiveSemidefiniteKernel):\n",
    "\n",
    "    def __init__(self, kernel, transformation, name='InputTransformedKernel'):\n",
    "        self._kernel = kernel\n",
    "        self._transformation = transformation\n",
    "        super(InputTransformedKernel, self).__init__(\n",
    "            feature_ndims=kernel.feature_ndims,\n",
    "            dtype=kernel.dtype,\n",
    "            name=name)\n",
    "\n",
    "    def apply(self, x1, x2):\n",
    "        return self._kernel.apply(\n",
    "            self._transformation(x1),\n",
    "            self._transformation(x2))\n",
    "\n",
    "    def matrix(self, x1, x2):\n",
    "        return self._kernel.matrix(\n",
    "            self._transformation(x1),\n",
    "            self._transformation(x2))\n",
    "\n",
    "    @property\n",
    "    def batch_shape(self):\n",
    "        return self._kernel.batch_shape\n",
    "\n",
    "    def batch_shape_tensor(self):\n",
    "        return self._kernel.batch_shape_tensor\n",
    "\n",
    "class InputScaledKernel(InputTransformedKernel):\n",
    "\n",
    "    def __init__(self, kernel, length_scales):\n",
    "        super(InputScaledKernel, self).__init__(\n",
    "            kernel,\n",
    "            lambda x: x / tf.expand_dims(length_scales,\n",
    "                                     -(kernel.feature_ndims + 1)))        "
   ]
  },
  {
   "cell_type": "code",
   "execution_count": 315,
   "metadata": {},
   "outputs": [],
   "source": [
    "# Load labeled data\n",
    "data = np.loadtxt('../data/labeled_data.dat')\n",
    "x_labeled = data[:, :2].astype(np.float64) # -2 because we do not need porosity predictions\n",
    "y_labeled = data[:, -3:-1].astype(np.float64) # dimensionless bond length and porosity measurements\n",
    "\n",
    "# Normalize the data.\n",
    "from sklearn import preprocessing\n",
    "\n",
    "# normalize dataset with MinMaxScaler\n",
    "scaler = preprocessing.MinMaxScaler(feature_range=(0.0, 1.0))\n",
    "x_labeled = scaler.fit_transform(x_labeled)\n",
    "# y_labeled = scaler.fit_transform(y_labeled)\n",
    "\n",
    "tr_size = 20\n",
    "\n",
    "# train and test data\n",
    "trainX, trainY = x_labeled[:tr_size,:], y_labeled[:tr_size]\n",
    "testX, testY = x_labeled[tr_size:,:], y_labeled[tr_size:]\n",
    "\n",
    "trainY = np.transpose(trainY)\n",
    "testY = np.transpose(testY)\n",
    "\n",
    "\n",
    "\n",
    "data_phyloss = np.loadtxt('../data/unlabeled_data_BK_constw_v2_1525.dat')\n",
    "x_unlabeled = data_phyloss[:, :]\n",
    "\n",
    "# initial porosity\n",
    "initporo = x_unlabeled[:, -1]\n",
    "\n",
    "x_unlabeled1 = x_unlabeled[:1303, :2]\n",
    "x_unlabeled2 = x_unlabeled[-6:, :2]\n",
    "x_unlabeled = np.vstack((x_unlabeled1,x_unlabeled2))\n",
    "\n",
    "x_unlabeled = scaler.fit_transform(x_unlabeled)\n",
    "init_poro1 = initporo[:1303]\n",
    "init_poro2 = initporo[-6:]\n",
    "init_poro = np.hstack((init_poro1,init_poro2))"
   ]
  },
  {
   "cell_type": "code",
   "execution_count": null,
   "metadata": {},
   "outputs": [],
   "source": [
    "import matplotlib.pyplot as plt\n",
    "# Plot the loss evolution\n",
    "plt.figure(figsize=(12, 4))\n",
    "plt.plot(lls_)\n",
    "plt.xlabel(\"Training iteration\")\n",
    "plt.ylabel(\"Log marginal likelihood\")\n",
    "plt.show()"
   ]
  },
  {
   "cell_type": "code",
   "execution_count": 316,
   "metadata": {},
   "outputs": [],
   "source": [
    "def build_gp(amplitude, length_scale):\n",
    "    \"\"\"Defines the conditional dist. of GP outputs, given kernel parameters.\"\"\"\n",
    "\n",
    "    # Create the covariance kernel, which will be shared between the prior (which we\n",
    "    # use for maximum likelihood training) and the posterior (which we use for\n",
    "    # posterior predictive sampling)    \n",
    "    se_kernel = tfk.ExponentiatedQuadratic(amplitude)  # length_scale = None here, implicitly\n",
    "\n",
    "    # This is the \"ARD\" kernel (we don't like abbreviations or bizarrely obscure names in\n",
    "    # TFP, so we're probably going to call this \"InputScaledKernel\" since....that's what it is! :)\n",
    "    kernel = InputScaledKernel(se_kernel, length_scale)\n",
    "    \n",
    "    # Create the GP prior distribution, which we will use to train the model\n",
    "    # parameters.\n",
    "    return tfd.GaussianProcess(kernel=kernel,index_points=trainX)\n",
    "\n",
    "gp_joint_model = tfd.JointDistributionNamedAutoBatched({\n",
    "    'amplitude': tfd.TransformedDistribution(\n",
    "            distribution=tfd.Normal(loc=0., scale=np.float64(1.)),\n",
    "            bijector=tfb.Exp(),\n",
    "            batch_shape=[2]),\n",
    "    'length_scale': tfd.TransformedDistribution(\n",
    "            distribution=tfd.Normal(loc=0., scale=np.float64(1.)),\n",
    "            bijector=tfb.Exp(),\n",
    "            batch_shape=[2,2]),\n",
    "    'observations': build_gp,\n",
    "})"
   ]
  },
  {
   "cell_type": "code",
   "execution_count": 317,
   "metadata": {},
   "outputs": [],
   "source": [
    "# Create the trainable model parameters, which we'll subsequently optimize.\n",
    "# Note that we constrain them to be strictly positive.\n",
    "constrain_positive = tfb.Shift(np.finfo(np.float64).tiny)(tfb.Exp())\n",
    "\n",
    "amplitude_var = tfp.util.TransformedVariable(\n",
    "    initial_value=np.random.uniform(size=2),\n",
    "    bijector=constrain_positive,\n",
    "    name='amplitude',\n",
    "    dtype=np.float64)\n",
    "\n",
    "length_scale_var = tfp.util.TransformedVariable(\n",
    "    initial_value=np.random.uniform(size=[2,2]),\n",
    "    bijector=constrain_positive,\n",
    "    name='length_scale',\n",
    "    dtype=np.float64)\n",
    "\n",
    "trainable_variables = [v.trainable_variables[0] for v in \n",
    "                       [amplitude_var,\n",
    "                       length_scale_var]]"
   ]
  },
  {
   "cell_type": "code",
   "execution_count": 318,
   "metadata": {},
   "outputs": [],
   "source": [
    "def strength(bl, porof, nlayer=6):\n",
    "    sigma01, sigma02, C1s = 6, 31, 21\n",
    "    sigma_long = sigma01*(tf.exp((1.0-porof)**(C1s*nlayer))-porof) + sigma02*(1.0-porof)\n",
    "    n = tf.shape(sigma_long)[0]  \n",
    "    sorted_strength, sortedIndices = tf.math.top_k(sigma_long, n, True)\n",
    "    sorted_bl = tf.gather(bl, sortedIndices)\n",
    "    sorted_porof = tf.gather(porof, sortedIndices)\n",
    "    argg = tf.argsort(sorted_bl,axis=-1,direction='DESCENDING',stable=False,name=None)\n",
    "    sorted_bl_corr = tf.gather(sorted_bl, argg)\n",
    "    return sorted_bl_corr-sorted_bl\n",
    "\n",
    "# @tf.function(autograph=False, experimental_compile=False)\n",
    "def target_log_prob(amplitude, length_scale, poroi, lam):\n",
    "    se_kernel = tfk.ExponentiatedQuadratic(amplitude)  # length_scale = None here, implicitly\n",
    "    optimized_kernel = InputScaledKernel(se_kernel, length_scale)\n",
    "    gprm = tfd.GaussianProcessRegressionModel(kernel=optimized_kernel, index_points = x_unlabeled)\n",
    "    samples = gprm.sample(1)\n",
    "    pred = tf.squeeze(samples, axis=0)\n",
    "\n",
    "    phyloss_bl = tf.math.reduce_mean(tf.add(tf.nn.relu(tf.negative(pred[0,:])), tf.nn.relu(pred[0,:]-1.0)))\n",
    "    phyloss_poro = tf.math.reduce_mean(tf.nn.relu(tf.negative(pred[1,:])))\n",
    "    phyloss_stg = tf.math.reduce_mean(tf.nn.relu(strength(pred[0,:],pred[1,:])))\n",
    "    \n",
    "#     print(\"phyloss_bl:\",-lam*tf.math.log(phyloss_bl))\n",
    "#     print(\"phyloss_poro:\",-lam*tf.math.log(phyloss_poro))\n",
    "#     print(\"phyloss_stg:\",-lam*tf.math.log(phyloss_stg))\n",
    "    \n",
    "#     print(\"phyloss_bl:\",-lam*phyloss_bl)\n",
    "#     print(\"phyloss_poro:\",-lam*phyloss_poro)\n",
    "#     print(\"phyloss_stg:\",-lam*phyloss_stg)\n",
    "\n",
    "#     normal_loss = gp_joint_model.log_prob({\n",
    "#       'amplitude': amplitude,\n",
    "#       'length_scale': length_scale,\n",
    "#       'observations': trainY\n",
    "#     })\n",
    "#     print(normal_loss)\n",
    "    \n",
    "#     return - gp_joint_model.log_prob({\n",
    "#       'amplitude': amplitude,\n",
    "#       'length_scale': length_scale,\n",
    "#       'observations': trainY\n",
    "#   })\n",
    "\n",
    "    return lam*phyloss_poro + lam*phyloss_bl + lam*phyloss_stg - gp_joint_model.log_prob({\n",
    "      'amplitude': amplitude,\n",
    "      'length_scale': length_scale,\n",
    "      'observations': trainY\n",
    "  })"
   ]
  },
  {
   "cell_type": "code",
   "execution_count": 319,
   "metadata": {},
   "outputs": [
    {
     "name": "stdout",
     "output_type": "stream",
     "text": [
      "0 loss_inloop: tf.Tensor(2727.1233237189017, shape=(), dtype=float64)\n",
      "1 loss_inloop: tf.Tensor(2404.1880092164224, shape=(), dtype=float64)\n",
      "2 loss_inloop: tf.Tensor(2390.400281877266, shape=(), dtype=float64)\n",
      "3 loss_inloop: tf.Tensor(2415.6091424533524, shape=(), dtype=float64)\n",
      "4 loss_inloop: tf.Tensor(2426.9730502107172, shape=(), dtype=float64)\n",
      "5 loss_inloop: tf.Tensor(2466.2544738934075, shape=(), dtype=float64)\n",
      "6 loss_inloop: tf.Tensor(2438.667294818929, shape=(), dtype=float64)\n",
      "7 loss_inloop: tf.Tensor(2443.215848010213, shape=(), dtype=float64)\n",
      "8 loss_inloop: tf.Tensor(2434.461212923138, shape=(), dtype=float64)\n",
      "9 loss_inloop: tf.Tensor(2430.1176314161758, shape=(), dtype=float64)\n",
      "10 loss_inloop: tf.Tensor(2422.8175564474104, shape=(), dtype=float64)\n",
      "11 loss_inloop: tf.Tensor(2415.1306364958446, shape=(), dtype=float64)\n",
      "12 loss_inloop: tf.Tensor(2408.4102307864277, shape=(), dtype=float64)\n",
      "13 loss_inloop: tf.Tensor(2409.3346576361428, shape=(), dtype=float64)\n",
      "14 loss_inloop: tf.Tensor(2405.288339049321, shape=(), dtype=float64)\n",
      "15 loss_inloop: tf.Tensor(2406.1126278844763, shape=(), dtype=float64)\n",
      "16 loss_inloop: tf.Tensor(2404.9133077998363, shape=(), dtype=float64)\n",
      "17 loss_inloop: tf.Tensor(2408.8743279624377, shape=(), dtype=float64)\n",
      "18 loss_inloop: tf.Tensor(2409.4084177781456, shape=(), dtype=float64)\n",
      "19 loss_inloop: tf.Tensor(2410.063053927207, shape=(), dtype=float64)\n",
      "Trained parameters:\n",
      "amplitude: [0.3135429  0.02143578]\n",
      "length_scale: [[0.03026465 0.05133014]\n",
      " [0.2219082  0.11839525]]\n"
     ]
    }
   ],
   "source": [
    "tf.random.set_seed(1234)\n",
    "\n",
    "# Optimize the model parameters.\n",
    "num_iters = 20\n",
    "lam = 50\n",
    "optimizer = tf.optimizers.Adam(learning_rate=.5)\n",
    "\n",
    "# Store the likelihood values during training, so we can plot the progress\n",
    "lls_ = np.zeros(num_iters, np.float64)\n",
    "\n",
    "for i in range(num_iters):\n",
    "    with tf.GradientTape() as tape:\n",
    "        loss = target_log_prob(amplitude_var, length_scale_var, init_poro, lam) # physics loss & normal loss\n",
    "\n",
    "\n",
    "    print(i,\"loss_inloop:\",loss)\n",
    "    grads = tape.gradient(loss, trainable_variables)\n",
    "    optimizer.apply_gradients(zip(grads, trainable_variables))\n",
    "    lls_[i] = loss\n",
    "\n",
    "print('Trained parameters:')\n",
    "print('amplitude: {}'.format(amplitude_var._value().numpy()))\n",
    "print('length_scale: {}'.format(length_scale_var._value().numpy()))"
   ]
  },
  {
   "cell_type": "code",
   "execution_count": 320,
   "metadata": {},
   "outputs": [
    {
     "data": {
      "text/plain": [
       "<tf.Tensor: shape=(1, 2, 19), dtype=float64, numpy=\n",
       "array([[[-0.3966425 , -0.39788673,  0.14211638,  0.37420326,\n",
       "          0.2713158 ,  0.31421396,  0.02456335,  0.37300804,\n",
       "         -0.04841087,  0.17304148,  0.2717261 ,  0.21265745,\n",
       "          0.12872789, -0.52246511, -0.06778533,  0.31569271,\n",
       "         -0.20717214, -0.39835725, -0.01768901],\n",
       "        [ 0.00187297,  0.00394205, -0.01088301, -0.01502497,\n",
       "          0.02339138, -0.01190745, -0.03384406, -0.01444801,\n",
       "         -0.01284252, -0.03081804,  0.02476371, -0.00645626,\n",
       "         -0.02080321,  0.0016247 ,  0.02613836, -0.01050925,\n",
       "         -0.01198196,  0.00348179, -0.01628183]]])>"
      ]
     },
     "execution_count": 320,
     "metadata": {},
     "output_type": "execute_result"
    }
   ],
   "source": [
    "tf.random.set_seed(1234)\n",
    "se_kernel = tfk.ExponentiatedQuadratic(amplitude_var)  # length_scale = None here, implicitly\n",
    "optimized_kernel = InputScaledKernel(se_kernel, length_scale_var)\n",
    "gprm = tfd.GaussianProcessRegressionModel(kernel=optimized_kernel, index_points = testX)\n",
    "samples = gprm.sample(1)\n",
    "# optimized_kernel = tfk.ExponentiatedQuadratic(amplitude_var, length_scale_var)\n",
    "# gpr = tfd.GaussianProcessRegressionModel(kernel=optimized_kernel, index_points = testX)\n",
    "# samples = gpr.sample(1)\n",
    "samples"
   ]
  },
  {
   "cell_type": "code",
   "execution_count": 321,
   "metadata": {},
   "outputs": [
    {
     "data": {
      "text/plain": [
       "array([[0.79380528, 0.8001183 , 0.60764034, 0.67563337, 0.83399752,\n",
       "        0.81563049, 0.8417252 , 0.69016454, 0.79621823, 0.86163991,\n",
       "        0.83187633, 0.71732518, 0.80834532, 0.63562038, 0.88989955,\n",
       "        0.85033215, 0.84119739, 0.80844488, 0.7526181 ],\n",
       "       [0.01666471, 0.01358868, 0.05432798, 0.03850274, 0.01010751,\n",
       "        0.01129286, 0.009357  , 0.03579652, 0.01614062, 0.00770211,\n",
       "        0.0105933 , 0.03315482, 0.01352198, 0.05269549, 0.00490424,\n",
       "        0.00895544, 0.01003564, 0.01345683, 0.02496436]])"
      ]
     },
     "execution_count": 321,
     "metadata": {},
     "output_type": "execute_result"
    }
   ],
   "source": [
    "testY"
   ]
  },
  {
   "cell_type": "code",
   "execution_count": 322,
   "metadata": {},
   "outputs": [
    {
     "data": {
      "text/plain": [
       "<tf.Tensor: shape=(1, 2), dtype=float64, numpy=array([[0.80809113, 0.03519158]])>"
      ]
     },
     "execution_count": 322,
     "metadata": {},
     "output_type": "execute_result"
    }
   ],
   "source": [
    "root_mean_squared_error(testY, samples)"
   ]
  },
  {
   "cell_type": "code",
   "execution_count": 323,
   "metadata": {},
   "outputs": [
    {
     "data": {
      "image/png": "[encoded data removed]",
      "text/plain": [
       "<Figure size 864x288 with 1 Axes>"
      ]
     },
     "metadata": {
      "needs_background": "light"
     },
     "output_type": "display_data"
    }
   ],
   "source": [
    "import matplotlib.pyplot as plt\n",
    "# Plot the loss evolution\n",
    "plt.figure(figsize=(12, 4))\n",
    "plt.plot(lls_)\n",
    "plt.xlabel(\"Training iteration\")\n",
    "plt.ylabel(\"Log marginal likelihood\")\n",
    "plt.show()"
   ]
  },
  {
   "cell_type": "code",
   "execution_count": null,
   "metadata": {},
   "outputs": [],
   "source": []
  }
 ],
 "metadata": {
  "kernelspec": {
   "display_name": "Python 3",
   "language": "python",
   "name": "python3"
  },
  "language_info": {
   "codemirror_mode": {
    "name": "ipython",
    "version": 3
   },
   "file_extension": ".py",
   "mimetype": "text/x-python",
   "name": "python",
   "nbconvert_exporter": "python",
   "pygments_lexer": "ipython3",
   "version": "3.8.3"
  }
 },
 "nbformat": 4,
 "nbformat_minor": 4
}
